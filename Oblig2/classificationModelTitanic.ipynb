{
 "cells": [
  {
   "cell_type": "code",
   "execution_count": 229,
   "metadata": {
    "collapsed": true
   },
   "outputs": [],
   "source": [
    "import numpy as np\n",
    "import pandas as pd\n",
    "from sklearn.model_selection import cross_val_score\n",
    "from sklearn.preprocessing import RobustScaler\n",
    "from sklearn.svm import SVC\n",
    "from xgboost import XGBClassifier\n",
    "from sklearn.model_selection import train_test_split\n",
    "from sklearn.model_selection import GridSearchCV\n",
    "from sklearn.ensemble import RandomForestClassifier\n",
    "from sklearn.naive_bayes import GaussianNB\n",
    "from sklearn.metrics import accuracy_score"
   ]
  },
  {
   "cell_type": "code",
   "execution_count": 230,
   "outputs": [],
   "source": [
    "# Load dataset\n",
    "df = pd.read_csv(r'C:\\Users\\marku\\Desktop\\ML\\MLGit\\datasets\\titanic.csv')"
   ],
   "metadata": {
    "collapsed": false
   }
  },
  {
   "cell_type": "code",
   "execution_count": 231,
   "outputs": [],
   "source": [
    "# Sets null values equal to the median of that column\n",
    "def handle_null_median(df):\n",
    "    # Need to set inplace=True, so it doesn't create a copy of the dataframe. Tried without and this led to null-values not being removed\n",
    "    df['Fare'].fillna(df['Fare'].median(), inplace=True)\n",
    "    df['Age'].fillna(df['Age'].median(), inplace=True)\n",
    "\n",
    "    df['Embarked'].fillna('S', inplace=True)\n",
    "\n",
    "    return  df\n",
    "\n",
    "df = handle_null_median(df)\n",
    "df['Sex'] = df['Sex'].replace(['female', 'male'], [0,1])\n",
    "df['FamilyMembersCount'] = df['Parch'] + df['SibSp'] + 1\n",
    "df = df.drop(['PassengerId', 'Name', 'Ticket', 'Cabin', 'SibSp', 'Parch'], axis=1)"
   ],
   "metadata": {
    "collapsed": false
   }
  },
  {
   "cell_type": "code",
   "execution_count": 232,
   "outputs": [],
   "source": [
    "def bins(df): # This is kind of feature engineering as well\n",
    "    df['AgeGroup'] = 0\n",
    "    df.loc[df['Age'] < 16.336, 'AgeGroup' ] = 0\n",
    "    df.loc[(df['Age'] >= 16.336) & (df['Age'] < 32.252), 'AgeGroup'] = 1\n",
    "    df.loc[(df['Age'] >= 32.252) & (df['Age'] < 48.168), 'AgeGroup'] = 2\n",
    "    df.loc[(df['Age'] >= 48.168) & (df['Age'] < 64.084), 'AgeGroup'] = 3\n",
    "    df.loc[df['Age'] >= 64.084, 'AgeGroup'] = 4\n",
    "\n",
    "    # Could also create bins for fare, but not sure Fare is needed.\n",
    "    return df\n",
    "\n",
    "df = bins(df)"
   ],
   "metadata": {
    "collapsed": false
   }
  },
  {
   "cell_type": "markdown",
   "source": [
    "# XGBoost"
   ],
   "metadata": {
    "collapsed": false
   }
  },
  {
   "cell_type": "code",
   "execution_count": 233,
   "outputs": [],
   "source": [
    "df_XGB = df.copy()"
   ],
   "metadata": {
    "collapsed": false
   }
  },
  {
   "cell_type": "code",
   "execution_count": 234,
   "outputs": [],
   "source": [
    "df_XGB = df_XGB.drop(['Fare', 'Age'], axis=1)"
   ],
   "metadata": {
    "collapsed": false
   }
  },
  {
   "cell_type": "code",
   "execution_count": 235,
   "outputs": [
    {
     "data": {
      "text/plain": "   Survived  Sex  FamilyMembersCount  Pclass_1  Pclass_2  Pclass_3  \\\n0         0    1                   2         0         0         1   \n1         1    0                   2         1         0         0   \n2         1    0                   1         0         0         1   \n3         1    0                   2         1         0         0   \n4         0    1                   1         0         0         1   \n\n   Embarked_C  Embarked_Q  Embarked_S  AgeGroup_0  AgeGroup_1  AgeGroup_2  \\\n0           0           0           1           0           1           0   \n1           1           0           0           0           0           1   \n2           0           0           1           0           1           0   \n3           0           0           1           0           0           1   \n4           0           0           1           0           0           1   \n\n   AgeGroup_3  AgeGroup_4  \n0           0           0  \n1           0           0  \n2           0           0  \n3           0           0  \n4           0           0  ",
      "text/html": "<div>\n<style scoped>\n    .dataframe tbody tr th:only-of-type {\n        vertical-align: middle;\n    }\n\n    .dataframe tbody tr th {\n        vertical-align: top;\n    }\n\n    .dataframe thead th {\n        text-align: right;\n    }\n</style>\n<table border=\"1\" class=\"dataframe\">\n  <thead>\n    <tr style=\"text-align: right;\">\n      <th></th>\n      <th>Survived</th>\n      <th>Sex</th>\n      <th>FamilyMembersCount</th>\n      <th>Pclass_1</th>\n      <th>Pclass_2</th>\n      <th>Pclass_3</th>\n      <th>Embarked_C</th>\n      <th>Embarked_Q</th>\n      <th>Embarked_S</th>\n      <th>AgeGroup_0</th>\n      <th>AgeGroup_1</th>\n      <th>AgeGroup_2</th>\n      <th>AgeGroup_3</th>\n      <th>AgeGroup_4</th>\n    </tr>\n  </thead>\n  <tbody>\n    <tr>\n      <th>0</th>\n      <td>0</td>\n      <td>1</td>\n      <td>2</td>\n      <td>0</td>\n      <td>0</td>\n      <td>1</td>\n      <td>0</td>\n      <td>0</td>\n      <td>1</td>\n      <td>0</td>\n      <td>1</td>\n      <td>0</td>\n      <td>0</td>\n      <td>0</td>\n    </tr>\n    <tr>\n      <th>1</th>\n      <td>1</td>\n      <td>0</td>\n      <td>2</td>\n      <td>1</td>\n      <td>0</td>\n      <td>0</td>\n      <td>1</td>\n      <td>0</td>\n      <td>0</td>\n      <td>0</td>\n      <td>0</td>\n      <td>1</td>\n      <td>0</td>\n      <td>0</td>\n    </tr>\n    <tr>\n      <th>2</th>\n      <td>1</td>\n      <td>0</td>\n      <td>1</td>\n      <td>0</td>\n      <td>0</td>\n      <td>1</td>\n      <td>0</td>\n      <td>0</td>\n      <td>1</td>\n      <td>0</td>\n      <td>1</td>\n      <td>0</td>\n      <td>0</td>\n      <td>0</td>\n    </tr>\n    <tr>\n      <th>3</th>\n      <td>1</td>\n      <td>0</td>\n      <td>2</td>\n      <td>1</td>\n      <td>0</td>\n      <td>0</td>\n      <td>0</td>\n      <td>0</td>\n      <td>1</td>\n      <td>0</td>\n      <td>0</td>\n      <td>1</td>\n      <td>0</td>\n      <td>0</td>\n    </tr>\n    <tr>\n      <th>4</th>\n      <td>0</td>\n      <td>1</td>\n      <td>1</td>\n      <td>0</td>\n      <td>0</td>\n      <td>1</td>\n      <td>0</td>\n      <td>0</td>\n      <td>1</td>\n      <td>0</td>\n      <td>0</td>\n      <td>1</td>\n      <td>0</td>\n      <td>0</td>\n    </tr>\n  </tbody>\n</table>\n</div>"
     },
     "execution_count": 235,
     "metadata": {},
     "output_type": "execute_result"
    }
   ],
   "source": [
    "df_XGB['Pclass'] = df_XGB['Pclass'].astype('category')\n",
    "df_XGB['Embarked'] = df_XGB['Embarked'].astype('category')\n",
    "df_XGB['AgeGroup'] = df_XGB['AgeGroup'].astype('category')\n",
    "\n",
    "df_XGB = pd.get_dummies(df_XGB)\n",
    "\n",
    "df_XGB.head()"
   ],
   "metadata": {
    "collapsed": false
   }
  },
  {
   "cell_type": "code",
   "execution_count": 236,
   "outputs": [
    {
     "name": "stderr",
     "output_type": "stream",
     "text": [
      "C:\\Users\\marku\\anaconda3\\lib\\site-packages\\xgboost\\sklearn.py:1224: UserWarning: The use of label encoder in XGBClassifier is deprecated and will be removed in a future release. To remove this warning, do the following: 1) Pass option use_label_encoder=False when constructing XGBClassifier object; and 2) Encode your labels (y) as integers starting with 0, i.e. 0, 1, 2, ..., [num_class - 1].\n",
      "  warnings.warn(label_encoder_deprecation_msg, UserWarning)\n",
      "C:\\Users\\marku\\anaconda3\\lib\\site-packages\\xgboost\\data.py:250: FutureWarning: pandas.Int64Index is deprecated and will be removed from pandas in a future version. Use pandas.Index with the appropriate dtype instead.\n",
      "  elif isinstance(data.columns, (pd.Int64Index, pd.RangeIndex)):\n",
      "C:\\Users\\marku\\anaconda3\\lib\\site-packages\\xgboost\\sklearn.py:1224: UserWarning: The use of label encoder in XGBClassifier is deprecated and will be removed in a future release. To remove this warning, do the following: 1) Pass option use_label_encoder=False when constructing XGBClassifier object; and 2) Encode your labels (y) as integers starting with 0, i.e. 0, 1, 2, ..., [num_class - 1].\n",
      "  warnings.warn(label_encoder_deprecation_msg, UserWarning)\n",
      "C:\\Users\\marku\\anaconda3\\lib\\site-packages\\xgboost\\data.py:250: FutureWarning: pandas.Int64Index is deprecated and will be removed from pandas in a future version. Use pandas.Index with the appropriate dtype instead.\n",
      "  elif isinstance(data.columns, (pd.Int64Index, pd.RangeIndex)):\n",
      "C:\\Users\\marku\\anaconda3\\lib\\site-packages\\xgboost\\sklearn.py:1224: UserWarning: The use of label encoder in XGBClassifier is deprecated and will be removed in a future release. To remove this warning, do the following: 1) Pass option use_label_encoder=False when constructing XGBClassifier object; and 2) Encode your labels (y) as integers starting with 0, i.e. 0, 1, 2, ..., [num_class - 1].\n",
      "  warnings.warn(label_encoder_deprecation_msg, UserWarning)\n",
      "C:\\Users\\marku\\anaconda3\\lib\\site-packages\\xgboost\\data.py:250: FutureWarning: pandas.Int64Index is deprecated and will be removed from pandas in a future version. Use pandas.Index with the appropriate dtype instead.\n",
      "  elif isinstance(data.columns, (pd.Int64Index, pd.RangeIndex)):\n",
      "C:\\Users\\marku\\anaconda3\\lib\\site-packages\\xgboost\\sklearn.py:1224: UserWarning: The use of label encoder in XGBClassifier is deprecated and will be removed in a future release. To remove this warning, do the following: 1) Pass option use_label_encoder=False when constructing XGBClassifier object; and 2) Encode your labels (y) as integers starting with 0, i.e. 0, 1, 2, ..., [num_class - 1].\n",
      "  warnings.warn(label_encoder_deprecation_msg, UserWarning)\n",
      "C:\\Users\\marku\\anaconda3\\lib\\site-packages\\xgboost\\data.py:250: FutureWarning: pandas.Int64Index is deprecated and will be removed from pandas in a future version. Use pandas.Index with the appropriate dtype instead.\n",
      "  elif isinstance(data.columns, (pd.Int64Index, pd.RangeIndex)):\n",
      "C:\\Users\\marku\\anaconda3\\lib\\site-packages\\xgboost\\sklearn.py:1224: UserWarning: The use of label encoder in XGBClassifier is deprecated and will be removed in a future release. To remove this warning, do the following: 1) Pass option use_label_encoder=False when constructing XGBClassifier object; and 2) Encode your labels (y) as integers starting with 0, i.e. 0, 1, 2, ..., [num_class - 1].\n",
      "  warnings.warn(label_encoder_deprecation_msg, UserWarning)\n",
      "C:\\Users\\marku\\anaconda3\\lib\\site-packages\\xgboost\\data.py:250: FutureWarning: pandas.Int64Index is deprecated and will be removed from pandas in a future version. Use pandas.Index with the appropriate dtype instead.\n",
      "  elif isinstance(data.columns, (pd.Int64Index, pd.RangeIndex)):\n"
     ]
    },
    {
     "data": {
      "text/plain": "(0.8069240264841208, 0.030186824765872047)"
     },
     "execution_count": 236,
     "metadata": {},
     "output_type": "execute_result"
    }
   ],
   "source": [
    "features = df_XGB.drop('Survived', axis=1)\n",
    "targets = df_XGB['Survived']\n",
    "train_X, test_X, train_y, test_y = train_test_split(features, targets, random_state=42)\n",
    "\n",
    "XGBModel = XGBClassifier(verbosity=0)\n",
    "\n",
    "XGB_scores = cross_val_score(XGBModel, train_X, train_y)\n",
    "(XGB_scores.mean(), XGB_scores.std())"
   ],
   "metadata": {
    "collapsed": false
   }
  },
  {
   "cell_type": "code",
   "execution_count": 237,
   "outputs": [
    {
     "name": "stderr",
     "output_type": "stream",
     "text": [
      "C:\\Users\\marku\\anaconda3\\lib\\site-packages\\xgboost\\sklearn.py:1224: UserWarning: The use of label encoder in XGBClassifier is deprecated and will be removed in a future release. To remove this warning, do the following: 1) Pass option use_label_encoder=False when constructing XGBClassifier object; and 2) Encode your labels (y) as integers starting with 0, i.e. 0, 1, 2, ..., [num_class - 1].\n",
      "  warnings.warn(label_encoder_deprecation_msg, UserWarning)\n",
      "C:\\Users\\marku\\anaconda3\\lib\\site-packages\\xgboost\\data.py:250: FutureWarning: pandas.Int64Index is deprecated and will be removed from pandas in a future version. Use pandas.Index with the appropriate dtype instead.\n",
      "  elif isinstance(data.columns, (pd.Int64Index, pd.RangeIndex)):\n"
     ]
    },
    {
     "data": {
      "text/plain": "0.8071748878923767"
     },
     "execution_count": 237,
     "metadata": {},
     "output_type": "execute_result"
    }
   ],
   "source": [
    "XGBModel.fit(train_X, train_y)\n",
    "pred = XGBModel.predict(test_X)\n",
    "accuracy_score(test_y, pred)"
   ],
   "metadata": {
    "collapsed": false
   }
  },
  {
   "cell_type": "markdown",
   "source": [
    "# XGB TUNING"
   ],
   "metadata": {
    "collapsed": false
   }
  },
  {
   "cell_type": "code",
   "execution_count": null,
   "outputs": [],
   "source": [
    "XGBParam1 = {\n",
    "    'max_depth': [2,4,6,8,10],\n",
    "    'min_child_weight': [2,4,6,8]\n",
    "    }\n",
    "\n",
    "XGB_Grid1 = GridSearchCV(XGBClassifier(verbosity=0,\n",
    "                                       gamma=0,\n",
    "                                       subsample=0.6,\n",
    "                                       learning_rate=0.1,\n",
    "                                       n_estimators=200), XGBParam1)\n",
    "XGB_Grid1.fit(train_X, train_y)\n",
    "print(XGB_Grid1.best_params_, XGB_Grid1.best_score_)"
   ],
   "metadata": {
    "collapsed": false
   }
  },
  {
   "cell_type": "code",
   "execution_count": null,
   "outputs": [],
   "source": [
    "XGBParam2 = {\n",
    "    'gamma':[0.0,0.1,0.2,0.3,0.4,0.5]\n",
    "}\n",
    "\n",
    "XGB_Grid2 = GridSearchCV(XGBClassifier(verbosity=0,\n",
    "                                       max_depth=6,\n",
    "                                       min_child_weight=6,\n",
    "                                       subsample=0.6,\n",
    "                                       learning_rate=0.1,\n",
    "                                       n_estimators=200), XGBParam2)\n",
    "XGB_Grid2.fit(train_X, train_y)\n",
    "print(XGB_Grid2.best_params_, XGB_Grid2.best_score_)"
   ],
   "metadata": {
    "collapsed": false
   }
  },
  {
   "cell_type": "code",
   "execution_count": null,
   "outputs": [],
   "source": [
    "XGBParam3 = {\n",
    "    'subsample':[0.5,0.6,0.7]\n",
    "}\n",
    "\n",
    "XGB_Grid3 = GridSearchCV(XGBClassifier(verbosity=0,\n",
    "                                       max_depth=6,\n",
    "                                       min_child_weight=6,\n",
    "                                       gamma=0,\n",
    "                                       learning_rate=0.04,\n",
    "                                       n_estimators=200), XGBParam3)\n",
    "XGB_Grid3.fit(train_X, train_y)\n",
    "print(XGB_Grid3.best_params_, XGB_Grid3.best_score_)"
   ],
   "metadata": {
    "collapsed": false
   }
  },
  {
   "cell_type": "code",
   "execution_count": null,
   "outputs": [],
   "source": [
    "XGBParam4 = {\n",
    "    'learning_rate':[0.03,0.04,0.06]\n",
    "}\n",
    "\n",
    "XGB_Grid4 = GridSearchCV(XGBClassifier(verbosity=0,\n",
    "                                       max_depth=6,\n",
    "                                       min_child_weight=6,\n",
    "                                       gamma=0,\n",
    "                                       subsample=0.7,\n",
    "                                       n_estimators=100), XGBParam4)\n",
    "XGB_Grid4.fit(train_X, train_y)\n",
    "print(XGB_Grid4.best_params_, XGB_Grid4.best_score_)"
   ],
   "metadata": {
    "collapsed": false
   }
  },
  {
   "cell_type": "code",
   "execution_count": null,
   "outputs": [],
   "source": [
    "XGBParam5 = {\n",
    "    'n_estimators':[60, 80, 100]\n",
    "}\n",
    "\n",
    "XGB_Grid5 = GridSearchCV(XGBClassifier(verbosity=0,\n",
    "                                       max_depth=6,\n",
    "                                       min_child_weight=6,\n",
    "                                       gamma=0,\n",
    "                                       subsample=0.6,\n",
    "                                       learning_rate=0.04), XGBParam5)\n",
    "XGB_Grid5.fit(train_X, train_y)\n",
    "print(XGB_Grid5.best_params_, XGB_Grid5.best_score_)"
   ],
   "metadata": {
    "collapsed": false
   }
  },
  {
   "cell_type": "code",
   "execution_count": null,
   "outputs": [],
   "source": [
    "XGBModel = XGBClassifier(verbosity=0,\n",
    "                         max_depth=6,\n",
    "                         min_child_weight=6,\n",
    "                         gamma=0,\n",
    "                         subsample=0.6,\n",
    "                         learning_rate=0.04,\n",
    "                         n_estimators=80)\n",
    "XGB_scores = cross_val_score(XGBModel, train_X, train_y)\n",
    "(XGB_scores.mean(), XGB_scores.std())"
   ],
   "metadata": {
    "collapsed": false
   }
  },
  {
   "cell_type": "code",
   "execution_count": null,
   "outputs": [],
   "source": [
    "XGBModel.fit(train_X, train_y)\n",
    "pred = XGBModel.predict(test_X)\n",
    "accuracy_score(test_y, pred)"
   ],
   "metadata": {
    "collapsed": false
   }
  },
  {
   "cell_type": "markdown",
   "source": [
    "# Random Forrest Classifier"
   ],
   "metadata": {
    "collapsed": false
   }
  },
  {
   "cell_type": "code",
   "execution_count": 243,
   "outputs": [],
   "source": [
    "df_RF = df.copy()"
   ],
   "metadata": {
    "collapsed": false
   }
  },
  {
   "cell_type": "code",
   "execution_count": 244,
   "outputs": [],
   "source": [
    "df_RF = df_RF.drop(['Fare', 'Age'], axis=1)"
   ],
   "metadata": {
    "collapsed": false
   }
  },
  {
   "cell_type": "code",
   "execution_count": 245,
   "outputs": [
    {
     "data": {
      "text/plain": "   Survived  Sex  FamilyMembersCount  Pclass_1  Pclass_2  Pclass_3  \\\n0         0    1                   2         0         0         1   \n1         1    0                   2         1         0         0   \n2         1    0                   1         0         0         1   \n3         1    0                   2         1         0         0   \n4         0    1                   1         0         0         1   \n\n   Embarked_C  Embarked_Q  Embarked_S  AgeGroup_0  AgeGroup_1  AgeGroup_2  \\\n0           0           0           1           0           1           0   \n1           1           0           0           0           0           1   \n2           0           0           1           0           1           0   \n3           0           0           1           0           0           1   \n4           0           0           1           0           0           1   \n\n   AgeGroup_3  AgeGroup_4  \n0           0           0  \n1           0           0  \n2           0           0  \n3           0           0  \n4           0           0  ",
      "text/html": "<div>\n<style scoped>\n    .dataframe tbody tr th:only-of-type {\n        vertical-align: middle;\n    }\n\n    .dataframe tbody tr th {\n        vertical-align: top;\n    }\n\n    .dataframe thead th {\n        text-align: right;\n    }\n</style>\n<table border=\"1\" class=\"dataframe\">\n  <thead>\n    <tr style=\"text-align: right;\">\n      <th></th>\n      <th>Survived</th>\n      <th>Sex</th>\n      <th>FamilyMembersCount</th>\n      <th>Pclass_1</th>\n      <th>Pclass_2</th>\n      <th>Pclass_3</th>\n      <th>Embarked_C</th>\n      <th>Embarked_Q</th>\n      <th>Embarked_S</th>\n      <th>AgeGroup_0</th>\n      <th>AgeGroup_1</th>\n      <th>AgeGroup_2</th>\n      <th>AgeGroup_3</th>\n      <th>AgeGroup_4</th>\n    </tr>\n  </thead>\n  <tbody>\n    <tr>\n      <th>0</th>\n      <td>0</td>\n      <td>1</td>\n      <td>2</td>\n      <td>0</td>\n      <td>0</td>\n      <td>1</td>\n      <td>0</td>\n      <td>0</td>\n      <td>1</td>\n      <td>0</td>\n      <td>1</td>\n      <td>0</td>\n      <td>0</td>\n      <td>0</td>\n    </tr>\n    <tr>\n      <th>1</th>\n      <td>1</td>\n      <td>0</td>\n      <td>2</td>\n      <td>1</td>\n      <td>0</td>\n      <td>0</td>\n      <td>1</td>\n      <td>0</td>\n      <td>0</td>\n      <td>0</td>\n      <td>0</td>\n      <td>1</td>\n      <td>0</td>\n      <td>0</td>\n    </tr>\n    <tr>\n      <th>2</th>\n      <td>1</td>\n      <td>0</td>\n      <td>1</td>\n      <td>0</td>\n      <td>0</td>\n      <td>1</td>\n      <td>0</td>\n      <td>0</td>\n      <td>1</td>\n      <td>0</td>\n      <td>1</td>\n      <td>0</td>\n      <td>0</td>\n      <td>0</td>\n    </tr>\n    <tr>\n      <th>3</th>\n      <td>1</td>\n      <td>0</td>\n      <td>2</td>\n      <td>1</td>\n      <td>0</td>\n      <td>0</td>\n      <td>0</td>\n      <td>0</td>\n      <td>1</td>\n      <td>0</td>\n      <td>0</td>\n      <td>1</td>\n      <td>0</td>\n      <td>0</td>\n    </tr>\n    <tr>\n      <th>4</th>\n      <td>0</td>\n      <td>1</td>\n      <td>1</td>\n      <td>0</td>\n      <td>0</td>\n      <td>1</td>\n      <td>0</td>\n      <td>0</td>\n      <td>1</td>\n      <td>0</td>\n      <td>0</td>\n      <td>1</td>\n      <td>0</td>\n      <td>0</td>\n    </tr>\n  </tbody>\n</table>\n</div>"
     },
     "execution_count": 245,
     "metadata": {},
     "output_type": "execute_result"
    }
   ],
   "source": [
    "df_RF['Pclass'] = df_RF['Pclass'].astype('category')\n",
    "df_RF['Embarked'] = df_RF['Embarked'].astype('category')\n",
    "df_RF['AgeGroup'] = df_RF['AgeGroup'].astype('category')\n",
    "\n",
    "df_RF = pd.get_dummies(df_RF)\n",
    "\n",
    "df_RF.head()"
   ],
   "metadata": {
    "collapsed": false
   }
  },
  {
   "cell_type": "code",
   "execution_count": 246,
   "outputs": [
    {
     "data": {
      "text/plain": "(0.794927617551341, 0.03818389929357802)"
     },
     "execution_count": 246,
     "metadata": {},
     "output_type": "execute_result"
    }
   ],
   "source": [
    "features = df_RF.drop('Survived', axis=1)\n",
    "targets = df_RF['Survived']\n",
    "train_X, test_X, train_y, test_y = train_test_split(features, targets, random_state=42)\n",
    "\n",
    "RFModel = RandomForestClassifier()\n",
    "\n",
    "RF_scores = cross_val_score(RFModel, train_X, train_y)\n",
    "(RF_scores.mean(), RF_scores.std())"
   ],
   "metadata": {
    "collapsed": false
   }
  },
  {
   "cell_type": "code",
   "execution_count": 247,
   "outputs": [
    {
     "data": {
      "text/plain": "0.8071748878923767"
     },
     "execution_count": 247,
     "metadata": {},
     "output_type": "execute_result"
    }
   ],
   "source": [
    "RFModel.fit(train_X, train_y)\n",
    "pred = RFModel.predict(test_X)\n",
    "accuracy_score(test_y, pred)"
   ],
   "metadata": {
    "collapsed": false
   }
  },
  {
   "cell_type": "markdown",
   "source": [
    "# RF TUNING"
   ],
   "metadata": {
    "collapsed": false
   }
  },
  {
   "cell_type": "code",
   "execution_count": null,
   "outputs": [],
   "source": [
    "RFParam = {\n",
    "    \"max_depth\":[4, 5, 6],\n",
    "    \"n_estimators\":[50, 100, 200, 300],\n",
    "    \"min_samples_leaf\": range(0, 10, 2),\n",
    "    \"max_samples\": [0, .1,.2,.3]\n",
    "}\n",
    "\n",
    "RF_Grid = GridSearchCV(RandomForestClassifier(), RFParam)\n",
    "RF_Grid.fit(train_X, train_y)\n",
    "print(RF_Grid.best_params_, RF_Grid.best_score_)"
   ],
   "metadata": {
    "collapsed": false
   }
  },
  {
   "cell_type": "code",
   "execution_count": null,
   "outputs": [],
   "source": [
    "RFModel = RandomForestClassifier(max_depth=5, max_samples=0.3, min_samples_leaf=2, n_estimators=100)\n",
    "RF_scores = cross_val_score(RFModel, train_X, train_y)\n",
    "(RF_scores.mean(), RF_scores.std())"
   ],
   "metadata": {
    "collapsed": false
   }
  },
  {
   "cell_type": "code",
   "execution_count": null,
   "outputs": [],
   "source": [
    "RFModel.fit(train_X, train_y)\n",
    "pred = RFModel.predict(test_X)\n",
    "accuracy_score(test_y, pred)"
   ],
   "metadata": {
    "collapsed": false
   }
  },
  {
   "cell_type": "markdown",
   "source": [
    "# GaussianNB"
   ],
   "metadata": {
    "collapsed": false
   }
  },
  {
   "cell_type": "code",
   "execution_count": 290,
   "outputs": [],
   "source": [
    "df_GNB = df.copy()"
   ],
   "metadata": {
    "collapsed": false
   }
  },
  {
   "cell_type": "code",
   "execution_count": 291,
   "outputs": [],
   "source": [
    "df_GNB = df_GNB.drop(['Fare','Age'], axis=1)"
   ],
   "metadata": {
    "collapsed": false
   }
  },
  {
   "cell_type": "code",
   "execution_count": 292,
   "outputs": [
    {
     "data": {
      "text/plain": "   Survived  Pclass  Sex  FamilyMembersCount  AgeGroup  Embarked_C  \\\n0         0       3    1                   2         1           0   \n1         1       1    0                   2         2           1   \n2         1       3    0                   1         1           0   \n3         1       1    0                   2         2           0   \n4         0       3    1                   1         2           0   \n\n   Embarked_Q  Embarked_S  \n0           0           1  \n1           0           0  \n2           0           1  \n3           0           1  \n4           0           1  ",
      "text/html": "<div>\n<style scoped>\n    .dataframe tbody tr th:only-of-type {\n        vertical-align: middle;\n    }\n\n    .dataframe tbody tr th {\n        vertical-align: top;\n    }\n\n    .dataframe thead th {\n        text-align: right;\n    }\n</style>\n<table border=\"1\" class=\"dataframe\">\n  <thead>\n    <tr style=\"text-align: right;\">\n      <th></th>\n      <th>Survived</th>\n      <th>Pclass</th>\n      <th>Sex</th>\n      <th>FamilyMembersCount</th>\n      <th>AgeGroup</th>\n      <th>Embarked_C</th>\n      <th>Embarked_Q</th>\n      <th>Embarked_S</th>\n    </tr>\n  </thead>\n  <tbody>\n    <tr>\n      <th>0</th>\n      <td>0</td>\n      <td>3</td>\n      <td>1</td>\n      <td>2</td>\n      <td>1</td>\n      <td>0</td>\n      <td>0</td>\n      <td>1</td>\n    </tr>\n    <tr>\n      <th>1</th>\n      <td>1</td>\n      <td>1</td>\n      <td>0</td>\n      <td>2</td>\n      <td>2</td>\n      <td>1</td>\n      <td>0</td>\n      <td>0</td>\n    </tr>\n    <tr>\n      <th>2</th>\n      <td>1</td>\n      <td>3</td>\n      <td>0</td>\n      <td>1</td>\n      <td>1</td>\n      <td>0</td>\n      <td>0</td>\n      <td>1</td>\n    </tr>\n    <tr>\n      <th>3</th>\n      <td>1</td>\n      <td>1</td>\n      <td>0</td>\n      <td>2</td>\n      <td>2</td>\n      <td>0</td>\n      <td>0</td>\n      <td>1</td>\n    </tr>\n    <tr>\n      <th>4</th>\n      <td>0</td>\n      <td>3</td>\n      <td>1</td>\n      <td>1</td>\n      <td>2</td>\n      <td>0</td>\n      <td>0</td>\n      <td>1</td>\n    </tr>\n  </tbody>\n</table>\n</div>"
     },
     "execution_count": 292,
     "metadata": {},
     "output_type": "execute_result"
    }
   ],
   "source": [
    "# df_GNB['Pclass'] = df_GNB['Pclass'].astype('category')\n",
    "# df_GNB['Embarked'] = df_GNB['Embarked'].astype('category')\n",
    "# df_GNB['AgeGroup'] = df_GNB['AgeGroup'].astype('category')\n",
    "\n",
    "df_GNB = pd.get_dummies(df_GNB)\n",
    "\n",
    "df_GNB.head()"
   ],
   "metadata": {
    "collapsed": false
   }
  },
  {
   "cell_type": "code",
   "execution_count": 293,
   "outputs": [
    {
     "data": {
      "text/plain": "(0.7574570755246325, 0.019572152841336187)"
     },
     "execution_count": 293,
     "metadata": {},
     "output_type": "execute_result"
    }
   ],
   "source": [
    "features = df_GNB.drop('Survived', axis=1)\n",
    "targets = df_GNB['Survived']\n",
    "train_X, test_X, train_y, test_y = train_test_split(features, targets, random_state=42)\n",
    "\n",
    "GNBModel = GaussianNB()\n",
    "\n",
    "GNB_scores = cross_val_score(GNBModel, train_X, train_y)\n",
    "(GNB_scores.mean(), GNB_scores.std())"
   ],
   "metadata": {
    "collapsed": false
   }
  },
  {
   "cell_type": "code",
   "execution_count": 294,
   "outputs": [
    {
     "data": {
      "text/plain": "0.757847533632287"
     },
     "execution_count": 294,
     "metadata": {},
     "output_type": "execute_result"
    }
   ],
   "source": [
    "GNBModel.fit(train_X, train_y)\n",
    "pred = GNBModel.predict(test_X)\n",
    "accuracy_score(test_y, pred)"
   ],
   "metadata": {
    "collapsed": false
   }
  },
  {
   "cell_type": "markdown",
   "source": [
    "# GNB TUNING"
   ],
   "metadata": {
    "collapsed": false
   }
  },
  {
   "cell_type": "code",
   "execution_count": null,
   "outputs": [],
   "source": [
    "GNBParam = {\n",
    "    'var_smoothing': [1e-12, 1e-10, 1e-8, 1e-6, 1e-5, 1e-4, 1e-2]\n",
    "}\n",
    "\n",
    "GNB_Grid = GridSearchCV(GaussianNB(), GNBParam)\n",
    "GNB_Grid.fit(train_X, train_y)\n",
    "print(GNB_Grid.best_params_, GNB_Grid.best_score_)"
   ],
   "metadata": {
    "collapsed": false
   }
  },
  {
   "cell_type": "code",
   "execution_count": null,
   "outputs": [],
   "source": [
    "GNBModel = GaussianNB(var_smoothing=1e-6)\n",
    "GNB_scores = cross_val_score(GNBModel, train_X, train_y)\n",
    "(GNB_scores.mean(), GNB_scores.std())"
   ],
   "metadata": {
    "collapsed": false
   }
  },
  {
   "cell_type": "code",
   "execution_count": null,
   "outputs": [],
   "source": [
    "GNBModel.fit(train_X, train_y)\n",
    "pred = GNBModel.predict(test_X)\n",
    "accuracy_score(test_y, pred)"
   ],
   "metadata": {
    "collapsed": false
   }
  },
  {
   "cell_type": "markdown",
   "source": [
    "# Support Vector Machine"
   ],
   "metadata": {
    "collapsed": false
   }
  },
  {
   "cell_type": "code",
   "execution_count": 295,
   "outputs": [],
   "source": [
    "df_SVM = df.copy()"
   ],
   "metadata": {
    "collapsed": false
   }
  },
  {
   "cell_type": "code",
   "execution_count": 296,
   "outputs": [],
   "source": [
    "df_SVM = df_SVM.drop(['Fare', 'AgeGroup'], axis=1)"
   ],
   "metadata": {
    "collapsed": false
   }
  },
  {
   "cell_type": "code",
   "execution_count": 297,
   "outputs": [
    {
     "data": {
      "text/plain": "   Survived  Pclass  Sex   Age  FamilyMembersCount  Embarked_C  Embarked_Q  \\\n0         0       3    1  22.0                   2           0           0   \n1         1       1    0  38.0                   2           1           0   \n2         1       3    0  26.0                   1           0           0   \n3         1       1    0  35.0                   2           0           0   \n4         0       3    1  35.0                   1           0           0   \n\n   Embarked_S  \n0           1  \n1           0  \n2           1  \n3           1  \n4           1  ",
      "text/html": "<div>\n<style scoped>\n    .dataframe tbody tr th:only-of-type {\n        vertical-align: middle;\n    }\n\n    .dataframe tbody tr th {\n        vertical-align: top;\n    }\n\n    .dataframe thead th {\n        text-align: right;\n    }\n</style>\n<table border=\"1\" class=\"dataframe\">\n  <thead>\n    <tr style=\"text-align: right;\">\n      <th></th>\n      <th>Survived</th>\n      <th>Pclass</th>\n      <th>Sex</th>\n      <th>Age</th>\n      <th>FamilyMembersCount</th>\n      <th>Embarked_C</th>\n      <th>Embarked_Q</th>\n      <th>Embarked_S</th>\n    </tr>\n  </thead>\n  <tbody>\n    <tr>\n      <th>0</th>\n      <td>0</td>\n      <td>3</td>\n      <td>1</td>\n      <td>22.0</td>\n      <td>2</td>\n      <td>0</td>\n      <td>0</td>\n      <td>1</td>\n    </tr>\n    <tr>\n      <th>1</th>\n      <td>1</td>\n      <td>1</td>\n      <td>0</td>\n      <td>38.0</td>\n      <td>2</td>\n      <td>1</td>\n      <td>0</td>\n      <td>0</td>\n    </tr>\n    <tr>\n      <th>2</th>\n      <td>1</td>\n      <td>3</td>\n      <td>0</td>\n      <td>26.0</td>\n      <td>1</td>\n      <td>0</td>\n      <td>0</td>\n      <td>1</td>\n    </tr>\n    <tr>\n      <th>3</th>\n      <td>1</td>\n      <td>1</td>\n      <td>0</td>\n      <td>35.0</td>\n      <td>2</td>\n      <td>0</td>\n      <td>0</td>\n      <td>1</td>\n    </tr>\n    <tr>\n      <th>4</th>\n      <td>0</td>\n      <td>3</td>\n      <td>1</td>\n      <td>35.0</td>\n      <td>1</td>\n      <td>0</td>\n      <td>0</td>\n      <td>1</td>\n    </tr>\n  </tbody>\n</table>\n</div>"
     },
     "execution_count": 297,
     "metadata": {},
     "output_type": "execute_result"
    }
   ],
   "source": [
    "df_SVM = pd.get_dummies(df_SVM)\n",
    "\n",
    "df_SVM.head()"
   ],
   "metadata": {
    "collapsed": false
   }
  },
  {
   "cell_type": "code",
   "execution_count": 298,
   "outputs": [],
   "source": [
    "features = df_SVM.drop('Survived', axis=1)\n",
    "targets = df_SVM['Survived']\n",
    "\n",
    "scaler = RobustScaler()\n",
    "features = scaler.fit_transform(features)\n",
    "\n",
    "train_X, test_X, train_y, test_y = train_test_split(features, targets, random_state=42)"
   ],
   "metadata": {
    "collapsed": false
   }
  },
  {
   "cell_type": "code",
   "execution_count": 299,
   "outputs": [
    {
     "data": {
      "text/plain": "(0.8248344742453148, 0.0330292559029942)"
     },
     "execution_count": 299,
     "metadata": {},
     "output_type": "execute_result"
    }
   ],
   "source": [
    "SVMModel = SVC()\n",
    "\n",
    "SVM_scores = cross_val_score(SVMModel, train_X, train_y)\n",
    "(SVM_scores.mean(), SVM_scores.std())"
   ],
   "metadata": {
    "collapsed": false
   }
  },
  {
   "cell_type": "code",
   "execution_count": 300,
   "outputs": [
    {
     "data": {
      "text/plain": "0.8251121076233184"
     },
     "execution_count": 300,
     "metadata": {},
     "output_type": "execute_result"
    }
   ],
   "source": [
    "SVMModel.fit(train_X, train_y)\n",
    "pred = SVMModel.predict(test_X)\n",
    "accuracy_score(test_y, pred)"
   ],
   "metadata": {
    "collapsed": false
   }
  },
  {
   "cell_type": "markdown",
   "source": [
    "# SVM TUNING"
   ],
   "metadata": {
    "collapsed": false
   }
  },
  {
   "cell_type": "code",
   "execution_count": 253,
   "outputs": [
    {
     "name": "stdout",
     "output_type": "stream",
     "text": [
      "{'C': 4, 'gamma': 0.0625} 0.8263382336438111\n"
     ]
    }
   ],
   "source": [
    "SVMParam = {\"C\":np.arange(1,10,1),\n",
    "            'gamma':np.arange(0.0125,1, 0.0125)}\n",
    "SVM_Grid = GridSearchCV(SVC(), SVMParam)\n",
    "SVM_Grid.fit(train_X, train_y)\n",
    "print(SVM_Grid.best_params_, SVM_Grid.best_score_)"
   ],
   "metadata": {
    "collapsed": false
   }
  },
  {
   "cell_type": "code",
   "execution_count": 301,
   "outputs": [
    {
     "data": {
      "text/plain": "(0.8263382336438111, 0.03185744198042598)"
     },
     "execution_count": 301,
     "metadata": {},
     "output_type": "execute_result"
    }
   ],
   "source": [
    "SVMModel = SVC(C=4, gamma=0.0625)\n",
    "\n",
    "SVM_scores = cross_val_score(SVMModel, train_X, train_y)\n",
    "(SVM_scores.mean(), SVM_scores.std())"
   ],
   "metadata": {
    "collapsed": false
   }
  },
  {
   "cell_type": "code",
   "execution_count": 302,
   "outputs": [
    {
     "data": {
      "text/plain": "0.820627802690583"
     },
     "execution_count": 302,
     "metadata": {},
     "output_type": "execute_result"
    }
   ],
   "source": [
    "SVMModel.fit(train_X, train_y)\n",
    "pred = SVMModel.predict(test_X)\n",
    "accuracy_score(test_y, pred)"
   ],
   "metadata": {
    "collapsed": false
   }
  },
  {
   "cell_type": "code",
   "execution_count": null,
   "outputs": [],
   "source": [],
   "metadata": {
    "collapsed": false
   }
  }
 ],
 "metadata": {
  "kernelspec": {
   "display_name": "Python 3",
   "language": "python",
   "name": "python3"
  },
  "language_info": {
   "codemirror_mode": {
    "name": "ipython",
    "version": 2
   },
   "file_extension": ".py",
   "mimetype": "text/x-python",
   "name": "python",
   "nbconvert_exporter": "python",
   "pygments_lexer": "ipython2",
   "version": "2.7.6"
  }
 },
 "nbformat": 4,
 "nbformat_minor": 0
}
