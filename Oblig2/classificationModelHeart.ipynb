{
 "cells": [
  {
   "cell_type": "code",
   "execution_count": 80,
   "metadata": {
    "collapsed": true
   },
   "outputs": [],
   "source": [
    "import pandas as pd\n",
    "from sklearn.metrics import accuracy_score\n",
    "from sklearn.model_selection import train_test_split\n",
    "from sklearn.naive_bayes import GaussianNB\n",
    "from xgboost import XGBClassifier\n",
    "from sklearn.model_selection import GridSearchCV\n",
    "from sklearn.ensemble import RandomForestClassifier\n",
    "from sklearn.model_selection import cross_val_score\n",
    "from sklearn.svm import SVC\n",
    "from sklearn.preprocessing import RobustScaler\n",
    "import numpy as np"
   ]
  },
  {
   "cell_type": "code",
   "execution_count": 81,
   "outputs": [],
   "source": [
    "df = pd.read_csv(r'C:\\Users\\marku\\Desktop\\ML\\MLGit\\datasets\\heart.csv')"
   ],
   "metadata": {
    "collapsed": false
   }
  },
  {
   "cell_type": "markdown",
   "source": [
    "# XGBoost"
   ],
   "metadata": {
    "collapsed": false
   }
  },
  {
   "cell_type": "code",
   "execution_count": null,
   "outputs": [],
   "source": [
    "df_XGB = df.copy()"
   ],
   "metadata": {
    "collapsed": false
   }
  },
  {
   "cell_type": "code",
   "execution_count": null,
   "outputs": [],
   "source": [
    "features = df_XGB.drop('output', axis=1)\n",
    "targets = df_XGB['output']\n",
    "train_X, test_X, train_y, test_y = train_test_split(features, targets, random_state=42)\n",
    "\n",
    "XGBModel = XGBClassifier()\n",
    "\n",
    "XGB_scores = cross_val_score(XGBModel, train_X, train_y)\n",
    "(XGB_scores.mean(), XGB_scores.std())"
   ],
   "metadata": {
    "collapsed": false
   }
  },
  {
   "cell_type": "code",
   "execution_count": null,
   "outputs": [],
   "source": [
    "XGBModel.fit(train_X, train_y)\n",
    "pred = XGBModel.predict(test_X)\n",
    "accuracy_score(test_y, pred)"
   ],
   "metadata": {
    "collapsed": false
   }
  },
  {
   "cell_type": "markdown",
   "source": [
    "# XGB TUNING"
   ],
   "metadata": {
    "collapsed": false
   }
  },
  {
   "cell_type": "code",
   "execution_count": null,
   "outputs": [],
   "source": [
    "XGBParam1 = {\n",
    "    'gamma':[0.0,0.1,0.2],\n",
    "    'learning_rate':[0.02, 0.025, 0.03],\n",
    "    'max_depth': [2,4,6],\n",
    "    'min_child_weight': [2,4,6],\n",
    "    'n_estimators':[350, 375],\n",
    "    'subsample':[0.6,0.7,0.8]\n",
    "}\n",
    "\n",
    "XGB_Grid1 = GridSearchCV(XGBClassifier(verbosity=0), XGBParam1)\n",
    "XGB_Grid1.fit(train_X, train_y)\n",
    "print(XGB_Grid1.best_params_, XGB_Grid1.best_score_)"
   ],
   "metadata": {
    "collapsed": false
   }
  },
  {
   "cell_type": "code",
   "execution_count": null,
   "outputs": [],
   "source": [
    "XGBParam2 = {\n",
    "    'learning_rate':[0.025,0.05,0.075,0.1],\n",
    "    'max_depth': [3,4,5],\n",
    "    'min_child_weight': [3,4,5],\n",
    "    'n_estimators':[325,350],\n",
    "    'subsample':[0.4,0.5,0.6]\n",
    "}\n",
    "\n",
    "XGB_Grid2 = GridSearchCV(XGBClassifier(verbosity=0,gamma=0.0), XGBParam2)\n",
    "XGB_Grid2.fit(train_X, train_y)\n",
    "print(XGB_Grid2.best_params_, XGB_Grid2.best_score_)"
   ],
   "metadata": {
    "collapsed": false
   }
  },
  {
   "cell_type": "code",
   "execution_count": null,
   "outputs": [],
   "source": [
    "XGBParam3 = {\n",
    "    'max_depth': [1,2,3]\n",
    "}\n",
    "\n",
    "XGB_Grid3 = GridSearchCV(XGBClassifier(verbosity=0, gamma=0.0, n_estimators=350, min_child_weight=4, subsample=0.6, learning_rate=0.025), XGBParam3)\n",
    "XGB_Grid3.fit(train_X, train_y)\n",
    "print(XGB_Grid3.best_params_, XGB_Grid3.best_score_)"
   ],
   "metadata": {
    "collapsed": false
   }
  },
  {
   "cell_type": "code",
   "execution_count": null,
   "outputs": [],
   "source": [
    "XGBModel = XGBClassifier(verbosity=0,\n",
    "                         gamma=0.0,\n",
    "                         n_estimators=350,\n",
    "                         min_child_weight=4,\n",
    "                         subsample=0.6,\n",
    "                         learning_rate=0.025,\n",
    "                         max_depth=3)\n",
    "XGB_scores = cross_val_score(XGBModel, train_X, train_y)\n",
    "(XGB_scores.mean(), XGB_scores.std())"
   ],
   "metadata": {
    "collapsed": false
   }
  },
  {
   "cell_type": "code",
   "execution_count": null,
   "outputs": [],
   "source": [
    "XGBModel.fit(train_X, train_y)\n",
    "pred = XGBModel.predict(test_X)\n",
    "accuracy_score(test_y, pred)"
   ],
   "metadata": {
    "collapsed": false
   }
  },
  {
   "cell_type": "markdown",
   "source": [
    "# RandomForestClassifier"
   ],
   "metadata": {
    "collapsed": false
   }
  },
  {
   "cell_type": "code",
   "execution_count": null,
   "outputs": [],
   "source": [
    "df_RF = df.copy()"
   ],
   "metadata": {
    "collapsed": false
   }
  },
  {
   "cell_type": "code",
   "execution_count": null,
   "outputs": [],
   "source": [
    "features = df_RF.drop('output', axis=1)\n",
    "targets = df_RF['output']\n",
    "train_X, test_X, train_y, test_y = train_test_split(features, targets, random_state=42)\n",
    "\n",
    "RFModel = RandomForestClassifier()\n",
    "\n",
    "RF_scores = cross_val_score(RFModel, train_X, train_y)\n",
    "(RF_scores.mean(), RF_scores.std())"
   ],
   "metadata": {
    "collapsed": false
   }
  },
  {
   "cell_type": "code",
   "execution_count": null,
   "outputs": [],
   "source": [
    "RFModel.fit(train_X, train_y)\n",
    "pred = RFModel.predict(test_X)\n",
    "accuracy_score(test_y, pred)"
   ],
   "metadata": {
    "collapsed": false
   }
  },
  {
   "cell_type": "markdown",
   "source": [
    "# RF TUNING"
   ],
   "metadata": {
    "collapsed": false
   }
  },
  {
   "cell_type": "code",
   "execution_count": null,
   "outputs": [],
   "source": [
    "RFParam1 = {\"n_estimators\":[350, 375],\n",
    "            \"max_depth\":[2,4,6],\n",
    "            'max_features':[5,10,15,20,31],\n",
    "            \"max_samples\": [.1,.2,.3]\n",
    "        }\n",
    "\n",
    "RF_Grid1 = GridSearchCV(RandomForestClassifier(), RFParam1)\n",
    "RF_Grid1.fit(train_X, train_y)\n",
    "print(RF_Grid1.best_params_, RF_Grid1.best_score_)"
   ],
   "metadata": {
    "collapsed": false
   }
  },
  {
   "cell_type": "code",
   "execution_count": null,
   "outputs": [],
   "source": [
    "RFParam2 = {\"max_depth\":[3,4,5],\n",
    "            'max_features':[12.5,15,17.5],\n",
    "            \"max_samples\": [0.075,0.1,0.15]\n",
    "            }\n",
    "\n",
    "RF_Grid2 = GridSearchCV(RandomForestClassifier(n_estimators=375), RFParam2)\n",
    "RF_Grid2.fit(train_X, train_y)\n",
    "print(RF_Grid2.best_params_, RF_Grid2.best_score_)"
   ],
   "metadata": {
    "collapsed": false
   }
  },
  {
   "cell_type": "code",
   "execution_count": null,
   "outputs": [],
   "source": [
    "RFParam3 = {\n",
    "            \"max_samples\": [0.05,0.065,0.075]\n",
    "            }\n",
    "\n",
    "RF_Grid3 = GridSearchCV(RandomForestClassifier(n_estimators=375, max_depth=4, max_features=15), RFParam3)\n",
    "RF_Grid3.fit(train_X, train_y)\n",
    "print(RF_Grid3.best_params_, RF_Grid3.best_score_)"
   ],
   "metadata": {
    "collapsed": false
   }
  },
  {
   "cell_type": "code",
   "execution_count": null,
   "outputs": [],
   "source": [
    "RFModel = RandomForestClassifier(n_estimators=375, max_depth=4, max_features=15, max_samples=0.065)\n",
    "\n",
    "RF_scores = cross_val_score(RFModel, train_X, train_y)\n",
    "(RF_scores.mean(), RF_scores.std())"
   ],
   "metadata": {
    "collapsed": false
   }
  },
  {
   "cell_type": "code",
   "execution_count": null,
   "outputs": [],
   "source": [
    "RFModel.fit(train_X, train_y)\n",
    "pred = RFModel.predict(test_X)\n",
    "accuracy_score(test_y, pred)"
   ],
   "metadata": {
    "collapsed": false
   }
  },
  {
   "cell_type": "markdown",
   "source": [
    "# GaussianNB"
   ],
   "metadata": {
    "collapsed": false
   }
  },
  {
   "cell_type": "code",
   "execution_count": 82,
   "outputs": [],
   "source": [
    "df_GNB = df.copy()"
   ],
   "metadata": {
    "collapsed": false
   }
  },
  {
   "cell_type": "code",
   "execution_count": 83,
   "outputs": [
    {
     "data": {
      "text/plain": "   age  sex  cp  trtbps  chol  fbs  restecg  thalachh  exng  oldpeak  slp  \\\n0   63    1   3     145   233    1        0       150     0      2.3    0   \n1   37    1   2     130   250    0        1       187     0      3.5    0   \n2   41    0   1     130   204    0        0       172     0      1.4    2   \n3   56    1   1     120   236    0        1       178     0      0.8    2   \n4   57    0   0     120   354    0        1       163     1      0.6    2   \n\n   caa  thall  output  \n0    0      1       1  \n1    0      2       1  \n2    0      2       1  \n3    0      2       1  \n4    0      2       1  ",
      "text/html": "<div>\n<style scoped>\n    .dataframe tbody tr th:only-of-type {\n        vertical-align: middle;\n    }\n\n    .dataframe tbody tr th {\n        vertical-align: top;\n    }\n\n    .dataframe thead th {\n        text-align: right;\n    }\n</style>\n<table border=\"1\" class=\"dataframe\">\n  <thead>\n    <tr style=\"text-align: right;\">\n      <th></th>\n      <th>age</th>\n      <th>sex</th>\n      <th>cp</th>\n      <th>trtbps</th>\n      <th>chol</th>\n      <th>fbs</th>\n      <th>restecg</th>\n      <th>thalachh</th>\n      <th>exng</th>\n      <th>oldpeak</th>\n      <th>slp</th>\n      <th>caa</th>\n      <th>thall</th>\n      <th>output</th>\n    </tr>\n  </thead>\n  <tbody>\n    <tr>\n      <th>0</th>\n      <td>63</td>\n      <td>1</td>\n      <td>3</td>\n      <td>145</td>\n      <td>233</td>\n      <td>1</td>\n      <td>0</td>\n      <td>150</td>\n      <td>0</td>\n      <td>2.3</td>\n      <td>0</td>\n      <td>0</td>\n      <td>1</td>\n      <td>1</td>\n    </tr>\n    <tr>\n      <th>1</th>\n      <td>37</td>\n      <td>1</td>\n      <td>2</td>\n      <td>130</td>\n      <td>250</td>\n      <td>0</td>\n      <td>1</td>\n      <td>187</td>\n      <td>0</td>\n      <td>3.5</td>\n      <td>0</td>\n      <td>0</td>\n      <td>2</td>\n      <td>1</td>\n    </tr>\n    <tr>\n      <th>2</th>\n      <td>41</td>\n      <td>0</td>\n      <td>1</td>\n      <td>130</td>\n      <td>204</td>\n      <td>0</td>\n      <td>0</td>\n      <td>172</td>\n      <td>0</td>\n      <td>1.4</td>\n      <td>2</td>\n      <td>0</td>\n      <td>2</td>\n      <td>1</td>\n    </tr>\n    <tr>\n      <th>3</th>\n      <td>56</td>\n      <td>1</td>\n      <td>1</td>\n      <td>120</td>\n      <td>236</td>\n      <td>0</td>\n      <td>1</td>\n      <td>178</td>\n      <td>0</td>\n      <td>0.8</td>\n      <td>2</td>\n      <td>0</td>\n      <td>2</td>\n      <td>1</td>\n    </tr>\n    <tr>\n      <th>4</th>\n      <td>57</td>\n      <td>0</td>\n      <td>0</td>\n      <td>120</td>\n      <td>354</td>\n      <td>0</td>\n      <td>1</td>\n      <td>163</td>\n      <td>1</td>\n      <td>0.6</td>\n      <td>2</td>\n      <td>0</td>\n      <td>2</td>\n      <td>1</td>\n    </tr>\n  </tbody>\n</table>\n</div>"
     },
     "execution_count": 83,
     "metadata": {},
     "output_type": "execute_result"
    }
   ],
   "source": [
    "# df_GNB['Pclass'] = df_GNB['Pclass'].astype('category')\n",
    "# df_GNB['Embarked'] = df_GNB['Embarked'].astype('category')\n",
    "# df_GNB['AgeGroup'] = df_GNB['AgeGroup'].astype('category')\n",
    "\n",
    "df_GNB = pd.get_dummies(df_GNB)\n",
    "\n",
    "df_GNB.head()"
   ],
   "metadata": {
    "collapsed": false
   }
  },
  {
   "cell_type": "code",
   "execution_count": 84,
   "outputs": [
    {
     "data": {
      "text/plain": "(0.783864734299517, 0.04793439159365486)"
     },
     "execution_count": 84,
     "metadata": {},
     "output_type": "execute_result"
    }
   ],
   "source": [
    "features = df_GNB.drop('output', axis=1)\n",
    "targets = df_GNB['output']\n",
    "train_X, test_X, train_y, test_y = train_test_split(features, targets, random_state=42)\n",
    "\n",
    "GNBModel = GaussianNB()\n",
    "\n",
    "GNB_scores = cross_val_score(GNBModel, train_X, train_y)\n",
    "(GNB_scores.mean(), GNB_scores.std())"
   ],
   "metadata": {
    "collapsed": false
   }
  },
  {
   "cell_type": "code",
   "execution_count": 85,
   "outputs": [
    {
     "data": {
      "text/plain": "0.881578947368421"
     },
     "execution_count": 85,
     "metadata": {},
     "output_type": "execute_result"
    }
   ],
   "source": [
    "GNBModel.fit(train_X, train_y)\n",
    "pred = GNBModel.predict(test_X)\n",
    "accuracy_score(test_y, pred)"
   ],
   "metadata": {
    "collapsed": false
   }
  },
  {
   "cell_type": "markdown",
   "source": [
    "# GNB TUNING"
   ],
   "metadata": {
    "collapsed": false
   }
  },
  {
   "cell_type": "code",
   "execution_count": 86,
   "outputs": [
    {
     "name": "stdout",
     "output_type": "stream",
     "text": [
      "{'var_smoothing': 0.0001} 0.7884057971014493\n"
     ]
    }
   ],
   "source": [
    "GNBParam = {\n",
    "    'var_smoothing': [1e-12, 1e-10, 1e-8, 1e-6, 1e-5, 1e-4, 1e-2]\n",
    "}\n",
    "\n",
    "GNB_Grid = GridSearchCV(GaussianNB(), GNBParam)\n",
    "GNB_Grid.fit(train_X, train_y)\n",
    "print(GNB_Grid.best_params_, GNB_Grid.best_score_)"
   ],
   "metadata": {
    "collapsed": false
   }
  },
  {
   "cell_type": "code",
   "execution_count": 87,
   "outputs": [
    {
     "data": {
      "text/plain": "(0.7884057971014493, 0.05199378460153737)"
     },
     "execution_count": 87,
     "metadata": {},
     "output_type": "execute_result"
    }
   ],
   "source": [
    "GNBModel = GaussianNB(var_smoothing=0.0001)\n",
    "GNB_scores = cross_val_score(GNBModel, train_X, train_y)\n",
    "(GNB_scores.mean(), GNB_scores.std())"
   ],
   "metadata": {
    "collapsed": false
   }
  },
  {
   "cell_type": "code",
   "execution_count": 88,
   "outputs": [
    {
     "data": {
      "text/plain": "0.881578947368421"
     },
     "execution_count": 88,
     "metadata": {},
     "output_type": "execute_result"
    }
   ],
   "source": [
    "GNBModel.fit(train_X, train_y)\n",
    "pred = GNBModel.predict(test_X)\n",
    "accuracy_score(test_y, pred)"
   ],
   "metadata": {
    "collapsed": false
   }
  },
  {
   "cell_type": "markdown",
   "source": [
    "# Support Vector Machine"
   ],
   "metadata": {
    "collapsed": false
   }
  },
  {
   "cell_type": "code",
   "execution_count": 67,
   "outputs": [],
   "source": [
    "df_SVM = df.copy()"
   ],
   "metadata": {
    "collapsed": false
   }
  },
  {
   "cell_type": "code",
   "execution_count": 68,
   "outputs": [],
   "source": [
    "numeric = ['age', 'trtbps', 'chol', 'thalachh', 'oldpeak']\n",
    "categorical = ['sex', 'cp', 'fbs', 'restecg', 'exng', 'slp', 'caa', 'thall']"
   ],
   "metadata": {
    "collapsed": false
   }
  },
  {
   "cell_type": "code",
   "execution_count": 69,
   "outputs": [],
   "source": [
    "df_SVM['sex'] =  df_SVM['sex'].astype('category')\n",
    "df_SVM['cp'] =  df_SVM['cp'].astype('category')\n",
    "df_SVM['fbs'] =  df_SVM['fbs'].astype('category')\n",
    "df_SVM['restecg'] =  df_SVM['restecg'].astype('category')\n",
    "df_SVM['exng'] =  df_SVM['exng'].astype('category')\n",
    "df_SVM['slp'] =  df_SVM['slp'].astype('category')\n",
    "df_SVM['caa'] =  df_SVM['caa'].astype('category')\n",
    "df_SVM['thall'] =  df_SVM['thall'].astype('category')"
   ],
   "metadata": {
    "collapsed": false
   }
  },
  {
   "cell_type": "code",
   "execution_count": 70,
   "outputs": [
    {
     "data": {
      "text/plain": "   age  trtbps  chol  thalachh  oldpeak  output  sex_0  sex_1  cp_0  cp_1  \\\n0   63     145   233       150      2.3       1      0      1     0     0   \n1   37     130   250       187      3.5       1      0      1     0     0   \n2   41     130   204       172      1.4       1      1      0     0     1   \n3   56     120   236       178      0.8       1      0      1     0     1   \n4   57     120   354       163      0.6       1      1      0     1     0   \n\n   ...  slp_2  caa_0  caa_1  caa_2  caa_3  caa_4  thall_0  thall_1  thall_2  \\\n0  ...      0      1      0      0      0      0        0        1        0   \n1  ...      0      1      0      0      0      0        0        0        1   \n2  ...      1      1      0      0      0      0        0        0        1   \n3  ...      1      1      0      0      0      0        0        0        1   \n4  ...      1      1      0      0      0      0        0        0        1   \n\n   thall_3  \n0        0  \n1        0  \n2        0  \n3        0  \n4        0  \n\n[5 rows x 31 columns]",
      "text/html": "<div>\n<style scoped>\n    .dataframe tbody tr th:only-of-type {\n        vertical-align: middle;\n    }\n\n    .dataframe tbody tr th {\n        vertical-align: top;\n    }\n\n    .dataframe thead th {\n        text-align: right;\n    }\n</style>\n<table border=\"1\" class=\"dataframe\">\n  <thead>\n    <tr style=\"text-align: right;\">\n      <th></th>\n      <th>age</th>\n      <th>trtbps</th>\n      <th>chol</th>\n      <th>thalachh</th>\n      <th>oldpeak</th>\n      <th>output</th>\n      <th>sex_0</th>\n      <th>sex_1</th>\n      <th>cp_0</th>\n      <th>cp_1</th>\n      <th>...</th>\n      <th>slp_2</th>\n      <th>caa_0</th>\n      <th>caa_1</th>\n      <th>caa_2</th>\n      <th>caa_3</th>\n      <th>caa_4</th>\n      <th>thall_0</th>\n      <th>thall_1</th>\n      <th>thall_2</th>\n      <th>thall_3</th>\n    </tr>\n  </thead>\n  <tbody>\n    <tr>\n      <th>0</th>\n      <td>63</td>\n      <td>145</td>\n      <td>233</td>\n      <td>150</td>\n      <td>2.3</td>\n      <td>1</td>\n      <td>0</td>\n      <td>1</td>\n      <td>0</td>\n      <td>0</td>\n      <td>...</td>\n      <td>0</td>\n      <td>1</td>\n      <td>0</td>\n      <td>0</td>\n      <td>0</td>\n      <td>0</td>\n      <td>0</td>\n      <td>1</td>\n      <td>0</td>\n      <td>0</td>\n    </tr>\n    <tr>\n      <th>1</th>\n      <td>37</td>\n      <td>130</td>\n      <td>250</td>\n      <td>187</td>\n      <td>3.5</td>\n      <td>1</td>\n      <td>0</td>\n      <td>1</td>\n      <td>0</td>\n      <td>0</td>\n      <td>...</td>\n      <td>0</td>\n      <td>1</td>\n      <td>0</td>\n      <td>0</td>\n      <td>0</td>\n      <td>0</td>\n      <td>0</td>\n      <td>0</td>\n      <td>1</td>\n      <td>0</td>\n    </tr>\n    <tr>\n      <th>2</th>\n      <td>41</td>\n      <td>130</td>\n      <td>204</td>\n      <td>172</td>\n      <td>1.4</td>\n      <td>1</td>\n      <td>1</td>\n      <td>0</td>\n      <td>0</td>\n      <td>1</td>\n      <td>...</td>\n      <td>1</td>\n      <td>1</td>\n      <td>0</td>\n      <td>0</td>\n      <td>0</td>\n      <td>0</td>\n      <td>0</td>\n      <td>0</td>\n      <td>1</td>\n      <td>0</td>\n    </tr>\n    <tr>\n      <th>3</th>\n      <td>56</td>\n      <td>120</td>\n      <td>236</td>\n      <td>178</td>\n      <td>0.8</td>\n      <td>1</td>\n      <td>0</td>\n      <td>1</td>\n      <td>0</td>\n      <td>1</td>\n      <td>...</td>\n      <td>1</td>\n      <td>1</td>\n      <td>0</td>\n      <td>0</td>\n      <td>0</td>\n      <td>0</td>\n      <td>0</td>\n      <td>0</td>\n      <td>1</td>\n      <td>0</td>\n    </tr>\n    <tr>\n      <th>4</th>\n      <td>57</td>\n      <td>120</td>\n      <td>354</td>\n      <td>163</td>\n      <td>0.6</td>\n      <td>1</td>\n      <td>1</td>\n      <td>0</td>\n      <td>1</td>\n      <td>0</td>\n      <td>...</td>\n      <td>1</td>\n      <td>1</td>\n      <td>0</td>\n      <td>0</td>\n      <td>0</td>\n      <td>0</td>\n      <td>0</td>\n      <td>0</td>\n      <td>1</td>\n      <td>0</td>\n    </tr>\n  </tbody>\n</table>\n<p>5 rows × 31 columns</p>\n</div>"
     },
     "execution_count": 70,
     "metadata": {},
     "output_type": "execute_result"
    }
   ],
   "source": [
    "df_SVM = pd.get_dummies(df_SVM)\n",
    "df_SVM.head()"
   ],
   "metadata": {
    "collapsed": false
   }
  },
  {
   "cell_type": "code",
   "execution_count": 71,
   "outputs": [],
   "source": [
    "features = df_SVM.drop('output', axis=1)\n",
    "targets = df_SVM['output']\n",
    "\n",
    "scaler = RobustScaler()\n",
    "features[numeric] = scaler.fit_transform(features[numeric])\n",
    "\n",
    "train_X, test_X, train_y, test_y = train_test_split(features, targets, random_state=42)"
   ],
   "metadata": {
    "collapsed": false
   }
  },
  {
   "cell_type": "code",
   "execution_count": 72,
   "outputs": [
    {
     "data": {
      "text/plain": "(0.8279227053140097, 0.04593631382181455)"
     },
     "execution_count": 72,
     "metadata": {},
     "output_type": "execute_result"
    }
   ],
   "source": [
    "SVMModel = SVC()\n",
    "\n",
    "SVM_scores = cross_val_score(SVMModel, train_X, train_y)\n",
    "(SVM_scores.mean(), SVM_scores.std())"
   ],
   "metadata": {
    "collapsed": false
   }
  },
  {
   "cell_type": "code",
   "execution_count": 73,
   "outputs": [
    {
     "data": {
      "text/plain": "0.8947368421052632"
     },
     "execution_count": 73,
     "metadata": {},
     "output_type": "execute_result"
    }
   ],
   "source": [
    "SVMModel.fit(train_X, train_y)\n",
    "pred = SVMModel.predict(test_X)\n",
    "accuracy_score(test_y, pred)"
   ],
   "metadata": {
    "collapsed": false
   }
  },
  {
   "cell_type": "markdown",
   "source": [
    "# SVM TUNING"
   ],
   "metadata": {
    "collapsed": false
   }
  },
  {
   "cell_type": "code",
   "execution_count": null,
   "outputs": [],
   "source": [
    "SVMParam = {\"C\":np.arange(1,10,1),\n",
    "            'gamma':np.arange(0.0125,1, 0.0125)}\n",
    "SVM_Grid = GridSearchCV(SVC(), SVMParam)\n",
    "SVM_Grid.fit(train_X, train_y)\n",
    "print(SVM_Grid.best_params_, SVM_Grid.best_score_)"
   ],
   "metadata": {
    "collapsed": false
   }
  },
  {
   "cell_type": "code",
   "execution_count": null,
   "outputs": [],
   "source": [
    "SVMModel = SVC(C=3, gamma=0.0375)\n",
    "\n",
    "SVM_scores = cross_val_score(SVMModel, train_X, train_y)\n",
    "(SVM_scores.mean(), SVM_scores.std())"
   ],
   "metadata": {
    "collapsed": false
   }
  },
  {
   "cell_type": "code",
   "execution_count": null,
   "outputs": [],
   "source": [
    "SVMModel.fit(train_X, train_y)\n",
    "pred = SVMModel.predict(test_X)\n",
    "accuracy_score(test_y, pred)"
   ],
   "metadata": {
    "collapsed": false
   }
  }
 ],
 "metadata": {
  "kernelspec": {
   "display_name": "Python 3",
   "language": "python",
   "name": "python3"
  },
  "language_info": {
   "codemirror_mode": {
    "name": "ipython",
    "version": 2
   },
   "file_extension": ".py",
   "mimetype": "text/x-python",
   "name": "python",
   "nbconvert_exporter": "python",
   "pygments_lexer": "ipython2",
   "version": "2.7.6"
  }
 },
 "nbformat": 4,
 "nbformat_minor": 0
}
