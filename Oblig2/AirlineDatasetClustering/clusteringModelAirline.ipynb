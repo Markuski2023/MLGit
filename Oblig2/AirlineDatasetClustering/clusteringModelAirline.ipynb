{
 "cells": [
  {
   "cell_type": "markdown",
   "source": [
    "# Notes for this notebook:\n",
    "\n",
    "## Models:\n",
    "I've used 3 different algorithms:\n",
    "- Kmeans\n",
    "- Birch\n",
    "- Agglomerative\n",
    "\n",
    "## Each Model before and after Tuning:\n",
    "### Kmeans\n",
    "The baseline model score:\n",
    "- silhouette score: 0.6407\n",
    "\n",
    "After the tuning the model, I managed to get this score:\n",
    "- silhouette score: 0.7765\n",
    "\n",
    "A bad baseline due to me starting with the default number of clusters.\n",
    "\n",
    "### BIRCH\n",
    "The baseline model score:\n",
    "- silhouette score: 0.7100\n",
    "\n",
    "After the tuning the model, I managed to get this score:\n",
    "- silhouette score: 0.7821\n",
    "\n",
    "A decent increase in performance, and way better than random guessing.\n",
    "\n",
    "### Agglomerative\n",
    "The baseline model score:\n",
    "- silhouette score: 0.8093\n",
    "\n",
    "After the tuning the model, I managed to get this score:\n",
    "- silhouette score: 0.8093\n",
    "\n",
    "I could not find any parameters worth tuning for agglomerative so the baseline model and after tuning model are the same\n",
    "\n",
    "## Result Discussion (Some stuff I want to point out)\n",
    "- The Agglomerative model had the highest solhouette score of 0.8093.\n",
    "- Every model performed way better than random guessing.\n",
    "- Almost no parameters to tune."
   ],
   "metadata": {
    "collapsed": false
   }
  },
  {
   "cell_type": "code",
   "execution_count": 77,
   "outputs": [],
   "source": [
    "import pandas as pd\n",
    "from sklearn.cluster import KMeans, Birch, AgglomerativeClustering\n",
    "from sklearn.metrics import silhouette_score\n",
    "from sklearn.model_selection import train_test_split"
   ],
   "metadata": {
    "collapsed": false
   }
  },
  {
   "cell_type": "code",
   "execution_count": 57,
   "outputs": [],
   "source": [
    "df = pd.read_csv(r'C:\\Users\\marku\\Desktop\\ML\\MLGit\\datasets\\airline.csv')"
   ],
   "metadata": {
    "collapsed": false
   }
  },
  {
   "cell_type": "markdown",
   "source": [
    "# EDA in Oblig1 Clustering notebook"
   ],
   "metadata": {
    "collapsed": false
   }
  },
  {
   "cell_type": "code",
   "execution_count": 58,
   "outputs": [
    {
     "data": {
      "text/plain": "   Gender  Customer Type  Age  Type of Travel  Class  Inflight wifi service  \\\n0       1              1   13               0      0                      3   \n1       1              0   25               1      1                      3   \n2       0              1   26               1      1                      2   \n3       0              1   25               1      1                      2   \n4       1              1   61               1      1                      3   \n\n   Departure/Arrival time convenient  Ease of Online booking  Gate location  \\\n0                                  4                       3              1   \n1                                  2                       3              3   \n2                                  2                       2              2   \n3                                  5                       5              5   \n4                                  3                       3              3   \n\n   Food and drink  ...  Seat comfort  Inflight entertainment  \\\n0               5  ...             5                       5   \n1               1  ...             1                       1   \n2               5  ...             5                       5   \n3               2  ...             2                       2   \n4               4  ...             5                       3   \n\n   On-board service  Leg room service  Baggage handling  Checkin service  \\\n0                 4                 3                 4                4   \n1                 1                 5                 3                1   \n2                 4                 3                 4                4   \n3                 2                 5                 3                1   \n4                 3                 4                 4                3   \n\n   Inflight service  Cleanliness  Arrival Delay in Minutes  satisfaction  \n0                 5            5                      18.0             0  \n1                 4            1                       6.0             0  \n2                 4            5                       0.0             1  \n3                 4            2                       9.0             0  \n4                 3            3                       0.0             1  \n\n[5 rows x 21 columns]",
      "text/html": "<div>\n<style scoped>\n    .dataframe tbody tr th:only-of-type {\n        vertical-align: middle;\n    }\n\n    .dataframe tbody tr th {\n        vertical-align: top;\n    }\n\n    .dataframe thead th {\n        text-align: right;\n    }\n</style>\n<table border=\"1\" class=\"dataframe\">\n  <thead>\n    <tr style=\"text-align: right;\">\n      <th></th>\n      <th>Gender</th>\n      <th>Customer Type</th>\n      <th>Age</th>\n      <th>Type of Travel</th>\n      <th>Class</th>\n      <th>Inflight wifi service</th>\n      <th>Departure/Arrival time convenient</th>\n      <th>Ease of Online booking</th>\n      <th>Gate location</th>\n      <th>Food and drink</th>\n      <th>...</th>\n      <th>Seat comfort</th>\n      <th>Inflight entertainment</th>\n      <th>On-board service</th>\n      <th>Leg room service</th>\n      <th>Baggage handling</th>\n      <th>Checkin service</th>\n      <th>Inflight service</th>\n      <th>Cleanliness</th>\n      <th>Arrival Delay in Minutes</th>\n      <th>satisfaction</th>\n    </tr>\n  </thead>\n  <tbody>\n    <tr>\n      <th>0</th>\n      <td>1</td>\n      <td>1</td>\n      <td>13</td>\n      <td>0</td>\n      <td>0</td>\n      <td>3</td>\n      <td>4</td>\n      <td>3</td>\n      <td>1</td>\n      <td>5</td>\n      <td>...</td>\n      <td>5</td>\n      <td>5</td>\n      <td>4</td>\n      <td>3</td>\n      <td>4</td>\n      <td>4</td>\n      <td>5</td>\n      <td>5</td>\n      <td>18.0</td>\n      <td>0</td>\n    </tr>\n    <tr>\n      <th>1</th>\n      <td>1</td>\n      <td>0</td>\n      <td>25</td>\n      <td>1</td>\n      <td>1</td>\n      <td>3</td>\n      <td>2</td>\n      <td>3</td>\n      <td>3</td>\n      <td>1</td>\n      <td>...</td>\n      <td>1</td>\n      <td>1</td>\n      <td>1</td>\n      <td>5</td>\n      <td>3</td>\n      <td>1</td>\n      <td>4</td>\n      <td>1</td>\n      <td>6.0</td>\n      <td>0</td>\n    </tr>\n    <tr>\n      <th>2</th>\n      <td>0</td>\n      <td>1</td>\n      <td>26</td>\n      <td>1</td>\n      <td>1</td>\n      <td>2</td>\n      <td>2</td>\n      <td>2</td>\n      <td>2</td>\n      <td>5</td>\n      <td>...</td>\n      <td>5</td>\n      <td>5</td>\n      <td>4</td>\n      <td>3</td>\n      <td>4</td>\n      <td>4</td>\n      <td>4</td>\n      <td>5</td>\n      <td>0.0</td>\n      <td>1</td>\n    </tr>\n    <tr>\n      <th>3</th>\n      <td>0</td>\n      <td>1</td>\n      <td>25</td>\n      <td>1</td>\n      <td>1</td>\n      <td>2</td>\n      <td>5</td>\n      <td>5</td>\n      <td>5</td>\n      <td>2</td>\n      <td>...</td>\n      <td>2</td>\n      <td>2</td>\n      <td>2</td>\n      <td>5</td>\n      <td>3</td>\n      <td>1</td>\n      <td>4</td>\n      <td>2</td>\n      <td>9.0</td>\n      <td>0</td>\n    </tr>\n    <tr>\n      <th>4</th>\n      <td>1</td>\n      <td>1</td>\n      <td>61</td>\n      <td>1</td>\n      <td>1</td>\n      <td>3</td>\n      <td>3</td>\n      <td>3</td>\n      <td>3</td>\n      <td>4</td>\n      <td>...</td>\n      <td>5</td>\n      <td>3</td>\n      <td>3</td>\n      <td>4</td>\n      <td>4</td>\n      <td>3</td>\n      <td>3</td>\n      <td>3</td>\n      <td>0.0</td>\n      <td>1</td>\n    </tr>\n  </tbody>\n</table>\n<p>5 rows × 21 columns</p>\n</div>"
     },
     "execution_count": 58,
     "metadata": {},
     "output_type": "execute_result"
    }
   ],
   "source": [
    "df = df.drop(['Unnamed: 0', 'id', 'Flight Distance', 'Departure Delay in Minutes'], axis=1)\n",
    "df['Gender'] = df['Gender'].replace(['Female', 'Male'], [0,1])\n",
    "df['Type of Travel'] = df['Type of Travel'].replace(['Personal Travel', 'Business travel'], [0,1])\n",
    "df['Class'] = df['Class'].replace(['Eco Plus', 'Business', 'Eco'], [0,1, 2])\n",
    "df['Customer Type'] = df['Customer Type'].replace(['disloyal Customer', 'Loyal Customer'], [0,1])\n",
    "df['satisfaction'] = df['satisfaction'].replace(['neutral or dissatisfied', 'satisfied'], [0,1])\n",
    "\n",
    "def handle_null_median(df):\n",
    "    # Need to set inplace=True, so it doesn't create a copy of the dataframe. Tried without and this led to null-values not being removed\n",
    "    df['Arrival Delay in Minutes'].fillna(df['Arrival Delay in Minutes'].median(), inplace=True)\n",
    "\n",
    "    return  df\n",
    "df_unlabeled = df.drop(['satisfaction', 'Gate location', 'Departure/Arrival time convenient'], axis=1)\n",
    "df_unlabeled = handle_null_median(df_unlabeled)\n",
    "df.head()"
   ],
   "metadata": {
    "collapsed": false
   }
  },
  {
   "cell_type": "code",
   "execution_count": 59,
   "outputs": [],
   "source": [
    "train, test = train_test_split(df_unlabeled, random_state=42, test_size=0.25)"
   ],
   "metadata": {
    "collapsed": false
   }
  },
  {
   "cell_type": "markdown",
   "source": [
    "# Kmeans"
   ],
   "metadata": {
    "collapsed": false
   }
  },
  {
   "cell_type": "code",
   "execution_count": 53,
   "outputs": [
    {
     "data": {
      "text/plain": "0.6407188307005522"
     },
     "execution_count": 53,
     "metadata": {},
     "output_type": "execute_result"
    }
   ],
   "source": [
    "kmeans = KMeans(n_clusters=3)\n",
    "kmeans_cluster = kmeans.fit(train)\n",
    "prediction = kmeans_cluster.predict(test)\n",
    "silhouette_score(test, prediction)"
   ],
   "metadata": {
    "collapsed": false
   }
  },
  {
   "cell_type": "markdown",
   "source": [
    "3 clusters is the default value so here I start."
   ],
   "metadata": {
    "collapsed": false
   }
  },
  {
   "cell_type": "markdown",
   "source": [
    "# KMEANS TUNING"
   ],
   "metadata": {
    "collapsed": false
   }
  },
  {
   "cell_type": "code",
   "execution_count": 54,
   "outputs": [
    {
     "data": {
      "text/plain": "0.4063376690024187"
     },
     "execution_count": 54,
     "metadata": {},
     "output_type": "execute_result"
    }
   ],
   "source": [
    "kmeans = KMeans(n_clusters=4)\n",
    "kmeans_cluster = kmeans.fit(train)\n",
    "prediction = kmeans_cluster.predict(test)\n",
    "silhouette_score(test, prediction)"
   ],
   "metadata": {
    "collapsed": false
   }
  },
  {
   "cell_type": "markdown",
   "source": [
    "Moving up from 3 clusters resulted in extremely poor accuracy. Will therefor test out 2"
   ],
   "metadata": {
    "collapsed": false
   }
  },
  {
   "cell_type": "code",
   "execution_count": 55,
   "outputs": [
    {
     "data": {
      "text/plain": "0.776568653602399"
     },
     "execution_count": 55,
     "metadata": {},
     "output_type": "execute_result"
    }
   ],
   "source": [
    "kmeans = KMeans(n_clusters=2)\n",
    "kmeans_cluster = kmeans.fit(train)\n",
    "prediction = kmeans_cluster.predict(test)\n",
    "silhouette_score(test, prediction)"
   ],
   "metadata": {
    "collapsed": false
   }
  },
  {
   "cell_type": "markdown",
   "source": [
    "Since this is originally a classification dataset, I know 2 clusters will be the best. From this point on, I will start each model with 2 clusters."
   ],
   "metadata": {
    "collapsed": false
   }
  },
  {
   "cell_type": "markdown",
   "source": [
    "# BIRCH"
   ],
   "metadata": {
    "collapsed": false
   }
  },
  {
   "cell_type": "code",
   "execution_count": 72,
   "outputs": [
    {
     "data": {
      "text/plain": "0.7100111087302052"
     },
     "execution_count": 72,
     "metadata": {},
     "output_type": "execute_result"
    }
   ],
   "source": [
    "birch = Birch(n_clusters=2)\n",
    "birch_cluster = birch.fit(train)\n",
    "prediction = birch_cluster.predict(test)\n",
    "silhouette_score(test, prediction)"
   ],
   "metadata": {
    "collapsed": false
   }
  },
  {
   "cell_type": "markdown",
   "source": [
    "# BIRCH TUNING"
   ],
   "metadata": {
    "collapsed": false
   }
  },
  {
   "cell_type": "code",
   "execution_count": 73,
   "outputs": [
    {
     "data": {
      "text/plain": "0.734814752055152"
     },
     "execution_count": 73,
     "metadata": {},
     "output_type": "execute_result"
    }
   ],
   "source": [
    "birch = Birch(n_clusters=2, branching_factor=60)\n",
    "birch_cluster = birch.fit(train)\n",
    "prediction = birch_cluster.predict(test)\n",
    "silhouette_score(test, prediction)"
   ],
   "metadata": {
    "collapsed": false
   }
  },
  {
   "cell_type": "code",
   "execution_count": 74,
   "outputs": [
    {
     "data": {
      "text/plain": "0.7691711173890805"
     },
     "execution_count": 74,
     "metadata": {},
     "output_type": "execute_result"
    }
   ],
   "source": [
    "birch = Birch(n_clusters=2, branching_factor=100)\n",
    "birch_cluster = birch.fit(train)\n",
    "prediction = birch_cluster.predict(test)\n",
    "silhouette_score(test, prediction)"
   ],
   "metadata": {
    "collapsed": false
   }
  },
  {
   "cell_type": "code",
   "execution_count": 75,
   "outputs": [
    {
     "data": {
      "text/plain": "0.7821382998018902"
     },
     "execution_count": 75,
     "metadata": {},
     "output_type": "execute_result"
    }
   ],
   "source": [
    "birch = Birch(n_clusters=2, branching_factor=150)\n",
    "birch_cluster = birch.fit(train)\n",
    "prediction = birch_cluster.predict(test)\n",
    "silhouette_score(test, prediction)"
   ],
   "metadata": {
    "collapsed": false
   }
  },
  {
   "cell_type": "code",
   "execution_count": 76,
   "outputs": [
    {
     "data": {
      "text/plain": "0.7821382998018902"
     },
     "execution_count": 76,
     "metadata": {},
     "output_type": "execute_result"
    }
   ],
   "source": [
    "birch = Birch(n_clusters=2, branching_factor=200)\n",
    "birch_cluster = birch.fit(train)\n",
    "prediction = birch_cluster.predict(test)\n",
    "silhouette_score(test, prediction)"
   ],
   "metadata": {
    "collapsed": false
   }
  },
  {
   "cell_type": "markdown",
   "source": [
    "# Agglomerative"
   ],
   "metadata": {
    "collapsed": false
   }
  },
  {
   "cell_type": "code",
   "execution_count": 83,
   "outputs": [
    {
     "data": {
      "text/plain": "(13904, 18)"
     },
     "execution_count": 83,
     "metadata": {},
     "output_type": "execute_result"
    }
   ],
   "source": [
    "train, test = train_test_split(df_unlabeled, train_size=0.90, random_state=42)\n",
    "df_unlabeled.shape"
   ],
   "metadata": {
    "collapsed": false
   }
  },
  {
   "cell_type": "code",
   "execution_count": 79,
   "outputs": [
    {
     "data": {
      "text/plain": "0.8093158154120401"
     },
     "execution_count": 79,
     "metadata": {},
     "output_type": "execute_result"
    }
   ],
   "source": [
    "agglomerative = AgglomerativeClustering(n_clusters=2)\n",
    "agglomerative_cluster = agglomerative.fit(df_unlabeled)\n",
    "silhouette_score(df_unlabeled, agglomerative.labels_)"
   ],
   "metadata": {
    "collapsed": false
   }
  },
  {
   "cell_type": "markdown",
   "source": [
    "# AGGLOMERATIVE TUNING\n",
    "I could not find any parameters worth tuning"
   ],
   "metadata": {
    "collapsed": false
   }
  },
  {
   "cell_type": "code",
   "execution_count": 81,
   "outputs": [
    {
     "data": {
      "text/plain": "0.8093158154120401"
     },
     "execution_count": 81,
     "metadata": {},
     "output_type": "execute_result"
    }
   ],
   "source": [
    "agglomerative = AgglomerativeClustering(n_clusters=2)\n",
    "agglomerative_cluster = agglomerative.fit(df_unlabeled)\n",
    "silhouette_score(df_unlabeled, agglomerative.labels_)"
   ],
   "metadata": {
    "collapsed": false
   }
  }
 ],
 "metadata": {
  "kernelspec": {
   "display_name": "Python 3",
   "language": "python",
   "name": "python3"
  },
  "language_info": {
   "codemirror_mode": {
    "name": "ipython",
    "version": 2
   },
   "file_extension": ".py",
   "mimetype": "text/x-python",
   "name": "python",
   "nbconvert_exporter": "python",
   "pygments_lexer": "ipython2",
   "version": "2.7.6"
  }
 },
 "nbformat": 4,
 "nbformat_minor": 0
}
