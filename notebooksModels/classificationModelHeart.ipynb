{
 "cells": [
  {
   "cell_type": "code",
   "execution_count": null,
   "metadata": {
    "collapsed": true
   },
   "outputs": [],
   "source": [
    "import pandas as pd\n",
    "from sklearn.metrics import accuracy_score\n",
    "from sklearn.model_selection import train_test_split\n",
    "from xgboost import XGBClassifier\n",
    "from sklearn.model_selection import GridSearchCV\n",
    "from sklearn.ensemble import RandomForestClassifier\n",
    "from sklearn.model_selection import cross_val_score\n",
    "from sklearn.naive_bayes import GaussianNB"
   ]
  },
  {
   "cell_type": "code",
   "execution_count": null,
   "outputs": [],
   "source": [
    "df = pd.read_csv(r'C:\\Users\\marku\\Desktop\\ML\\MLGit\\datasets\\heart.csv')\n",
    "df_XGB = df.copy()\n",
    "df_RF = df.copy()\n",
    "df_GNB = df.copy()"
   ],
   "metadata": {
    "collapsed": false
   }
  },
  {
   "cell_type": "markdown",
   "source": [
    "# XGBoost"
   ],
   "metadata": {
    "collapsed": false
   }
  },
  {
   "cell_type": "code",
   "execution_count": null,
   "outputs": [],
   "source": [
    "train_X, test_X, train_y, test_y = train_test_split(df_XGB.drop('output', axis=1), df_XGB['output'], random_state=42)\n",
    "\n",
    "XGBModel = XGBClassifier()\n",
    "\n",
    "XGB_scores = cross_val_score(XGBModel, train_X, train_y)\n",
    "(XGB_scores.mean(), XGB_scores.std())"
   ],
   "metadata": {
    "collapsed": false
   }
  },
  {
   "cell_type": "code",
   "execution_count": null,
   "outputs": [],
   "source": [
    "XGBModel.fit(train_X, train_y)\n",
    "pred = XGBModel.predict(test_X)\n",
    "accuracy_score(test_y, pred)"
   ],
   "metadata": {
    "collapsed": false
   }
  },
  {
   "cell_type": "markdown",
   "source": [
    "# XGB TUNING"
   ],
   "metadata": {
    "collapsed": false
   }
  },
  {
   "cell_type": "code",
   "execution_count": null,
   "outputs": [],
   "source": [
    "XGBParam1 = {\n",
    "    'max_depth': [2,4,6,8,10],\n",
    "    'min_child_weight': [2,4,6,8]\n",
    "}\n",
    "\n",
    "XGB_Grid1 = GridSearchCV(XGBClassifier(verbosity=0,\n",
    "                                       gamma=0,\n",
    "                                       subsample=0.6,\n",
    "                                       learning_rate=0.1,\n",
    "                                       n_estimators=200), XGBParam1)\n",
    "XGB_Grid1.fit(train_X, train_y)\n",
    "print(XGB_Grid1.best_params_, XGB_Grid1.best_score_)"
   ],
   "metadata": {
    "collapsed": false
   }
  },
  {
   "cell_type": "code",
   "execution_count": null,
   "outputs": [],
   "source": [
    "XGBParam2 = {\n",
    "    'gamma':[0.0,0.1,0.2,0.3,0.4,0.5]\n",
    "}\n",
    "\n",
    "XGB_Grid2 = GridSearchCV(XGBClassifier(verbosity=0,\n",
    "                                       max_depth=2,\n",
    "                                       min_child_weight=4,\n",
    "                                       subsample=0.6,\n",
    "                                       learning_rate=0.1,\n",
    "                                       n_estimators=200), XGBParam2)\n",
    "XGB_Grid2.fit(train_X, train_y)\n",
    "print(XGB_Grid2.best_params_, XGB_Grid2.best_score_)"
   ],
   "metadata": {
    "collapsed": false
   }
  },
  {
   "cell_type": "code",
   "execution_count": null,
   "outputs": [],
   "source": [
    "XGBParam3 = {\n",
    "    'subsample':[0.5,0.6,0.7]\n",
    "}\n",
    "\n",
    "XGB_Grid3 = GridSearchCV(XGBClassifier(verbosity=0,\n",
    "                                       max_depth=2,\n",
    "                                       min_child_weight=4,\n",
    "                                       gamma=0.2,\n",
    "                                       learning_rate=0.04,\n",
    "                                       n_estimators=200), XGBParam3)\n",
    "XGB_Grid3.fit(train_X, train_y)\n",
    "print(XGB_Grid3.best_params_, XGB_Grid3.best_score_)"
   ],
   "metadata": {
    "collapsed": false
   }
  },
  {
   "cell_type": "code",
   "execution_count": null,
   "outputs": [],
   "source": [
    "XGBParam4 = {\n",
    "    'learning_rate':[0.03,0.04,0.06]\n",
    "}\n",
    "\n",
    "XGB_Grid4 = GridSearchCV(XGBClassifier(verbosity=0,\n",
    "                                       max_depth=2,\n",
    "                                       min_child_weight=4,\n",
    "                                       gamma=0.2,\n",
    "                                       subsample=0.6,\n",
    "                                       n_estimators=100), XGBParam4)\n",
    "XGB_Grid4.fit(train_X, train_y)\n",
    "print(XGB_Grid4.best_params_, XGB_Grid4.best_score_)"
   ],
   "metadata": {
    "collapsed": false
   }
  },
  {
   "cell_type": "code",
   "execution_count": null,
   "outputs": [],
   "source": [
    "XGBParam5 = {\n",
    "    'n_estimators':[60, 80, 100]\n",
    "}\n",
    "\n",
    "XGB_Grid5 = GridSearchCV(XGBClassifier(verbosity=0,\n",
    "                                       max_depth=2,\n",
    "                                       min_child_weight=4,\n",
    "                                       gamma=0.2,\n",
    "                                       subsample=0.6,\n",
    "                                       learning_rate=0.04), XGBParam5)\n",
    "XGB_Grid5.fit(train_X, train_y)\n",
    "print(XGB_Grid5.best_params_, XGB_Grid5.best_score_)"
   ],
   "metadata": {
    "collapsed": false
   }
  },
  {
   "cell_type": "code",
   "execution_count": null,
   "outputs": [],
   "source": [
    "XGBModel = XGBClassifier(verbosity=0,\n",
    "                         max_depth=2,\n",
    "                         min_child_weight=4,\n",
    "                         gamma=0.2,\n",
    "                         subsample=0.6,\n",
    "                         learning_rate=0.04,\n",
    "                         n_estimators=100)\n",
    "XGB_scores = cross_val_score(XGBModel, train_X, train_y)\n",
    "(XGB_scores.mean(), XGB_scores.std())"
   ],
   "metadata": {
    "collapsed": false
   }
  },
  {
   "cell_type": "code",
   "execution_count": null,
   "outputs": [],
   "source": [
    "XGBModel.fit(train_X, train_y)\n",
    "pred = XGBModel.predict(test_X)\n",
    "accuracy_score(test_y, pred)"
   ],
   "metadata": {
    "collapsed": false
   }
  },
  {
   "cell_type": "markdown",
   "source": [
    "# RandomForestClassifier"
   ],
   "metadata": {
    "collapsed": false
   }
  },
  {
   "cell_type": "code",
   "execution_count": null,
   "outputs": [],
   "source": [
    "df_RF.head()"
   ],
   "metadata": {
    "collapsed": false
   }
  },
  {
   "cell_type": "code",
   "execution_count": null,
   "outputs": [],
   "source": [
    "train_X, test_X, train_y, test_y = train_test_split(df_RF.drop('output', axis=1), df_RF['output'], random_state=42)\n",
    "\n",
    "RFModel = RandomForestClassifier()\n",
    "\n",
    "RF_scores = cross_val_score(RFModel, train_X, train_y)\n",
    "(RF_scores.mean(), RF_scores.std())"
   ],
   "metadata": {
    "collapsed": false
   }
  },
  {
   "cell_type": "code",
   "execution_count": null,
   "outputs": [],
   "source": [
    "RFModel.fit(train_X, train_y)\n",
    "pred = RFModel.predict(test_X)\n",
    "accuracy_score(test_y, pred)"
   ],
   "metadata": {
    "collapsed": false
   }
  },
  {
   "cell_type": "code",
   "execution_count": null,
   "outputs": [],
   "source": [
    "RFParam = {\n",
    "           \"max_depth\":[7.5, 10, 12.5, 15],\n",
    "           \"n_estimators\":[100, 150, 200],\n",
    "            \"max_samples\": [.1,.2,.3]\n",
    "        }\n",
    "\n",
    "RF_Grid = GridSearchCV(RandomForestClassifier(), RFParam)\n",
    "RF_Grid.fit(train_X, train_y)"
   ],
   "metadata": {
    "collapsed": false
   }
  },
  {
   "cell_type": "code",
   "execution_count": null,
   "outputs": [],
   "source": [
    "grid_results = pd.DataFrame(RF_Grid.cv_results_)\n",
    "grid_results"
   ],
   "metadata": {
    "collapsed": false
   }
  },
  {
   "cell_type": "code",
   "execution_count": null,
   "outputs": [],
   "source": [
    "RFModel = RandomForestClassifier(max_depth=12.5, max_samples=0.1, n_estimators=100)"
   ],
   "metadata": {
    "collapsed": false
   }
  },
  {
   "cell_type": "code",
   "execution_count": null,
   "outputs": [],
   "source": [
    "RF_scores = cross_val_score(RFModel, train_X, train_y)\n",
    "(RF_scores.mean(), RF_scores.std())"
   ],
   "metadata": {
    "collapsed": false
   }
  },
  {
   "cell_type": "code",
   "execution_count": null,
   "outputs": [],
   "source": [
    "RFModel.fit(train_X, train_y)\n",
    "pred = RFModel.predict(test_X)\n",
    "accuracy_score(test_y, pred)"
   ],
   "metadata": {
    "collapsed": false
   }
  },
  {
   "cell_type": "markdown",
   "source": [
    "# GaussianNB"
   ],
   "metadata": {
    "collapsed": false
   }
  },
  {
   "cell_type": "code",
   "execution_count": null,
   "outputs": [],
   "source": [
    "df_GNB.head()"
   ],
   "metadata": {
    "collapsed": false
   }
  },
  {
   "cell_type": "code",
   "execution_count": null,
   "outputs": [],
   "source": [
    "train_X, test_X, train_y, test_y = train_test_split(df_GNB.drop('output', axis=1), df_RF['output'], random_state=42)\n",
    "\n",
    "GNBModel = GaussianNB()\n",
    "\n",
    "GNB_scores = cross_val_score(GNBModel, train_X, train_y)\n",
    "(GNB_scores.mean(), GNB_scores.std())"
   ],
   "metadata": {
    "collapsed": false
   }
  },
  {
   "cell_type": "code",
   "execution_count": null,
   "outputs": [],
   "source": [
    "GNBModel.fit(train_X, train_y)\n",
    "pred = GNBModel.predict(test_X)\n",
    "accuracy_score(test_y, pred)"
   ],
   "metadata": {
    "collapsed": false
   }
  },
  {
   "cell_type": "code",
   "execution_count": null,
   "outputs": [],
   "source": [
    "GNBParam = {\n",
    "    'var_smoothing': [1e-9, 1e-6, 1e-5]\n",
    "}\n",
    "\n",
    "GNB_Grid = GridSearchCV(GaussianNB(), GNBParam)\n",
    "GNB_Grid.fit(train_X, train_y)"
   ],
   "metadata": {
    "collapsed": false
   }
  },
  {
   "cell_type": "code",
   "execution_count": null,
   "outputs": [],
   "source": [
    "grid_results = pd.DataFrame(GNB_Grid.cv_results_)\n",
    "grid_results"
   ],
   "metadata": {
    "collapsed": false
   }
  },
  {
   "cell_type": "code",
   "execution_count": null,
   "outputs": [],
   "source": [
    "GNBModel = GaussianNB(var_smoothing=1e-5)"
   ],
   "metadata": {
    "collapsed": false
   }
  },
  {
   "cell_type": "code",
   "execution_count": null,
   "outputs": [],
   "source": [
    "GNB_scores = cross_val_score(GNBModel, train_X, train_y)\n",
    "(GNB_scores.mean(), GNB_scores.std())"
   ],
   "metadata": {
    "collapsed": false
   }
  },
  {
   "cell_type": "code",
   "execution_count": null,
   "outputs": [],
   "source": [
    "GNB_Grid.fit(train_X, train_y)\n",
    "pred = GNB_Grid.predict(test_X)\n",
    "accuracy_score(test_y, pred)"
   ],
   "metadata": {
    "collapsed": false
   }
  }
 ],
 "metadata": {
  "kernelspec": {
   "display_name": "Python 3",
   "language": "python",
   "name": "python3"
  },
  "language_info": {
   "codemirror_mode": {
    "name": "ipython",
    "version": 2
   },
   "file_extension": ".py",
   "mimetype": "text/x-python",
   "name": "python",
   "nbconvert_exporter": "python",
   "pygments_lexer": "ipython2",
   "version": "2.7.6"
  }
 },
 "nbformat": 4,
 "nbformat_minor": 0
}
