{
 "cells": [
  {
   "cell_type": "code",
   "execution_count": 1,
   "metadata": {
    "collapsed": true
   },
   "outputs": [],
   "source": [
    "import pandas as pd"
   ]
  },
  {
   "cell_type": "code",
   "execution_count": 2,
   "outputs": [],
   "source": [
    "df = pd.read_csv(r'C:\\Users\\marku\\Desktop\\Skole\\5\\ML\\MLGit\\datasets\\airline.csv')"
   ],
   "metadata": {
    "collapsed": false
   }
  },
  {
   "cell_type": "code",
   "execution_count": 3,
   "outputs": [
    {
     "data": {
      "text/plain": "   Unnamed: 0      id  Gender      Customer Type  Age   Type of Travel  \\\n0           0   70172    Male     Loyal Customer   13  Personal Travel   \n1           1    5047    Male  disloyal Customer   25  Business travel   \n2           2  110028  Female     Loyal Customer   26  Business travel   \n3           3   24026  Female     Loyal Customer   25  Business travel   \n4           4  119299    Male     Loyal Customer   61  Business travel   \n\n      Class  Flight Distance  Inflight wifi service  \\\n0  Eco Plus              460                      3   \n1  Business              235                      3   \n2  Business             1142                      2   \n3  Business              562                      2   \n4  Business              214                      3   \n\n   Departure/Arrival time convenient  ...  Inflight entertainment  \\\n0                                  4  ...                       5   \n1                                  2  ...                       1   \n2                                  2  ...                       5   \n3                                  5  ...                       2   \n4                                  3  ...                       3   \n\n   On-board service  Leg room service  Baggage handling  Checkin service  \\\n0                 4                 3                 4                4   \n1                 1                 5                 3                1   \n2                 4                 3                 4                4   \n3                 2                 5                 3                1   \n4                 3                 4                 4                3   \n\n   Inflight service  Cleanliness  Departure Delay in Minutes  \\\n0                 5            5                          25   \n1                 4            1                           1   \n2                 4            5                           0   \n3                 4            2                          11   \n4                 3            3                           0   \n\n   Arrival Delay in Minutes             satisfaction  \n0                      18.0  neutral or dissatisfied  \n1                       6.0  neutral or dissatisfied  \n2                       0.0                satisfied  \n3                       9.0  neutral or dissatisfied  \n4                       0.0                satisfied  \n\n[5 rows x 25 columns]",
      "text/html": "<div>\n<style scoped>\n    .dataframe tbody tr th:only-of-type {\n        vertical-align: middle;\n    }\n\n    .dataframe tbody tr th {\n        vertical-align: top;\n    }\n\n    .dataframe thead th {\n        text-align: right;\n    }\n</style>\n<table border=\"1\" class=\"dataframe\">\n  <thead>\n    <tr style=\"text-align: right;\">\n      <th></th>\n      <th>Unnamed: 0</th>\n      <th>id</th>\n      <th>Gender</th>\n      <th>Customer Type</th>\n      <th>Age</th>\n      <th>Type of Travel</th>\n      <th>Class</th>\n      <th>Flight Distance</th>\n      <th>Inflight wifi service</th>\n      <th>Departure/Arrival time convenient</th>\n      <th>...</th>\n      <th>Inflight entertainment</th>\n      <th>On-board service</th>\n      <th>Leg room service</th>\n      <th>Baggage handling</th>\n      <th>Checkin service</th>\n      <th>Inflight service</th>\n      <th>Cleanliness</th>\n      <th>Departure Delay in Minutes</th>\n      <th>Arrival Delay in Minutes</th>\n      <th>satisfaction</th>\n    </tr>\n  </thead>\n  <tbody>\n    <tr>\n      <th>0</th>\n      <td>0</td>\n      <td>70172</td>\n      <td>Male</td>\n      <td>Loyal Customer</td>\n      <td>13</td>\n      <td>Personal Travel</td>\n      <td>Eco Plus</td>\n      <td>460</td>\n      <td>3</td>\n      <td>4</td>\n      <td>...</td>\n      <td>5</td>\n      <td>4</td>\n      <td>3</td>\n      <td>4</td>\n      <td>4</td>\n      <td>5</td>\n      <td>5</td>\n      <td>25</td>\n      <td>18.0</td>\n      <td>neutral or dissatisfied</td>\n    </tr>\n    <tr>\n      <th>1</th>\n      <td>1</td>\n      <td>5047</td>\n      <td>Male</td>\n      <td>disloyal Customer</td>\n      <td>25</td>\n      <td>Business travel</td>\n      <td>Business</td>\n      <td>235</td>\n      <td>3</td>\n      <td>2</td>\n      <td>...</td>\n      <td>1</td>\n      <td>1</td>\n      <td>5</td>\n      <td>3</td>\n      <td>1</td>\n      <td>4</td>\n      <td>1</td>\n      <td>1</td>\n      <td>6.0</td>\n      <td>neutral or dissatisfied</td>\n    </tr>\n    <tr>\n      <th>2</th>\n      <td>2</td>\n      <td>110028</td>\n      <td>Female</td>\n      <td>Loyal Customer</td>\n      <td>26</td>\n      <td>Business travel</td>\n      <td>Business</td>\n      <td>1142</td>\n      <td>2</td>\n      <td>2</td>\n      <td>...</td>\n      <td>5</td>\n      <td>4</td>\n      <td>3</td>\n      <td>4</td>\n      <td>4</td>\n      <td>4</td>\n      <td>5</td>\n      <td>0</td>\n      <td>0.0</td>\n      <td>satisfied</td>\n    </tr>\n    <tr>\n      <th>3</th>\n      <td>3</td>\n      <td>24026</td>\n      <td>Female</td>\n      <td>Loyal Customer</td>\n      <td>25</td>\n      <td>Business travel</td>\n      <td>Business</td>\n      <td>562</td>\n      <td>2</td>\n      <td>5</td>\n      <td>...</td>\n      <td>2</td>\n      <td>2</td>\n      <td>5</td>\n      <td>3</td>\n      <td>1</td>\n      <td>4</td>\n      <td>2</td>\n      <td>11</td>\n      <td>9.0</td>\n      <td>neutral or dissatisfied</td>\n    </tr>\n    <tr>\n      <th>4</th>\n      <td>4</td>\n      <td>119299</td>\n      <td>Male</td>\n      <td>Loyal Customer</td>\n      <td>61</td>\n      <td>Business travel</td>\n      <td>Business</td>\n      <td>214</td>\n      <td>3</td>\n      <td>3</td>\n      <td>...</td>\n      <td>3</td>\n      <td>3</td>\n      <td>4</td>\n      <td>4</td>\n      <td>3</td>\n      <td>3</td>\n      <td>3</td>\n      <td>0</td>\n      <td>0.0</td>\n      <td>satisfied</td>\n    </tr>\n  </tbody>\n</table>\n<p>5 rows × 25 columns</p>\n</div>"
     },
     "execution_count": 3,
     "metadata": {},
     "output_type": "execute_result"
    }
   ],
   "source": [
    "df.head()"
   ],
   "metadata": {
    "collapsed": false
   }
  },
  {
   "cell_type": "code",
   "execution_count": 4,
   "outputs": [],
   "source": [
    "df = df.drop(['Unnamed: 0', 'id', 'Flight Distance', 'Departure Delay in Minutes'], axis=1)\n",
    "df['Gender'] = df['Gender'].replace(['Female', 'Male'], [0,1])\n",
    "df['Type of Travel'] = df['Type of Travel'].replace(['Personal Travel', 'Business travel'], [0,1])\n",
    "df['Class'] = df['Class'].replace(['Eco Plus', 'Business', 'Eco'], [0,1, 2])\n",
    "df['Customer Type'] = df['Customer Type'].replace(['disloyal Customer', 'Loyal Customer'], [0,1])\n",
    "df['satisfaction'] = df['satisfaction'].replace(['neutral or dissatisfied', 'satisfied'], [0,1])\n",
    "\n",
    "def handle_null_median(df):\n",
    "    # Need to set inplace=True, so it doesn't create a copy of the dataframe. Tried without and this led to null-values not being removed\n",
    "    df['Arrival Delay in Minutes'].fillna(df['Arrival Delay in Minutes'].median(), inplace=True)\n",
    "\n",
    "    return  df\n",
    "\n",
    "df = handle_null_median(df)"
   ],
   "metadata": {
    "collapsed": false
   }
  },
  {
   "cell_type": "code",
   "execution_count": 5,
   "outputs": [
    {
     "data": {
      "text/plain": "KMeans(n_clusters=2)"
     },
     "execution_count": 5,
     "metadata": {},
     "output_type": "execute_result"
    }
   ],
   "source": [
    "from sklearn.cluster import KMeans\n",
    "from sklearn.model_selection import train_test_split\n",
    "\n",
    "train_X, test_X, train_y, test_y = train_test_split(df.drop('satisfaction', axis=1), df['satisfaction'], random_state=40)\n",
    "\n",
    "model = KMeans(n_clusters=2)\n",
    "model.fit(train_X, train_y)"
   ],
   "metadata": {
    "collapsed": false
   }
  },
  {
   "cell_type": "code",
   "execution_count": 6,
   "outputs": [
    {
     "name": "stdout",
     "output_type": "stream",
     "text": [
      "Accuracy: 55.49%\n"
     ]
    }
   ],
   "source": [
    "from sklearn.metrics import accuracy_score\n",
    "\n",
    "pred_y = model.predict(test_X)\n",
    "preds = [round(value) for value in pred_y]\n",
    "\n",
    "# evaluate predictions\n",
    "accuracy = accuracy_score(test_y, preds)\n",
    "print(\"Accuracy: %.2f%%\" % (accuracy * 100.0))"
   ],
   "metadata": {
    "collapsed": false
   }
  },
  {
   "cell_type": "code",
   "execution_count": 7,
   "outputs": [
    {
     "ename": "KeyboardInterrupt",
     "evalue": "",
     "output_type": "error",
     "traceback": [
      "\u001B[1;31m---------------------------------------------------------------------------\u001B[0m",
      "\u001B[1;31mKeyboardInterrupt\u001B[0m                         Traceback (most recent call last)",
      "Input \u001B[1;32mIn [7]\u001B[0m, in \u001B[0;36m<cell line: 4>\u001B[1;34m()\u001B[0m\n\u001B[0;32m      1\u001B[0m \u001B[38;5;28;01mfrom\u001B[39;00m \u001B[38;5;21;01msklearn\u001B[39;00m\u001B[38;5;21;01m.\u001B[39;00m\u001B[38;5;21;01mcluster\u001B[39;00m \u001B[38;5;28;01mimport\u001B[39;00m OPTICS\n\u001B[0;32m      3\u001B[0m model \u001B[38;5;241m=\u001B[39m OPTICS()\n\u001B[1;32m----> 4\u001B[0m \u001B[43mmodel\u001B[49m\u001B[38;5;241;43m.\u001B[39;49m\u001B[43mfit\u001B[49m\u001B[43m(\u001B[49m\u001B[43mtrain_X\u001B[49m\u001B[43m,\u001B[49m\u001B[43m \u001B[49m\u001B[43mtrain_y\u001B[49m\u001B[43m)\u001B[49m\n",
      "File \u001B[1;32m~\\anaconda3\\lib\\site-packages\\sklearn\\cluster\\_optics.py:302\u001B[0m, in \u001B[0;36mOPTICS.fit\u001B[1;34m(self, X, y)\u001B[0m\n\u001B[0;32m    291\u001B[0m \u001B[38;5;28;01mif\u001B[39;00m \u001B[38;5;28mself\u001B[39m\u001B[38;5;241m.\u001B[39mcluster_method \u001B[38;5;129;01mnot\u001B[39;00m \u001B[38;5;129;01min\u001B[39;00m [\u001B[38;5;124m\"\u001B[39m\u001B[38;5;124mdbscan\u001B[39m\u001B[38;5;124m\"\u001B[39m, \u001B[38;5;124m\"\u001B[39m\u001B[38;5;124mxi\u001B[39m\u001B[38;5;124m\"\u001B[39m]:\n\u001B[0;32m    292\u001B[0m     \u001B[38;5;28;01mraise\u001B[39;00m \u001B[38;5;167;01mValueError\u001B[39;00m(\n\u001B[0;32m    293\u001B[0m         \u001B[38;5;124m\"\u001B[39m\u001B[38;5;124mcluster_method should be one of \u001B[39m\u001B[38;5;124m'\u001B[39m\u001B[38;5;124mdbscan\u001B[39m\u001B[38;5;124m'\u001B[39m\u001B[38;5;124m or \u001B[39m\u001B[38;5;124m'\u001B[39m\u001B[38;5;124mxi\u001B[39m\u001B[38;5;124m'\u001B[39m\u001B[38;5;124m but is \u001B[39m\u001B[38;5;132;01m%s\u001B[39;00m\u001B[38;5;124m\"\u001B[39m\n\u001B[0;32m    294\u001B[0m         \u001B[38;5;241m%\u001B[39m \u001B[38;5;28mself\u001B[39m\u001B[38;5;241m.\u001B[39mcluster_method\n\u001B[0;32m    295\u001B[0m     )\n\u001B[0;32m    297\u001B[0m (\n\u001B[0;32m    298\u001B[0m     \u001B[38;5;28mself\u001B[39m\u001B[38;5;241m.\u001B[39mordering_,\n\u001B[0;32m    299\u001B[0m     \u001B[38;5;28mself\u001B[39m\u001B[38;5;241m.\u001B[39mcore_distances_,\n\u001B[0;32m    300\u001B[0m     \u001B[38;5;28mself\u001B[39m\u001B[38;5;241m.\u001B[39mreachability_,\n\u001B[0;32m    301\u001B[0m     \u001B[38;5;28mself\u001B[39m\u001B[38;5;241m.\u001B[39mpredecessor_,\n\u001B[1;32m--> 302\u001B[0m ) \u001B[38;5;241m=\u001B[39m \u001B[43mmemory\u001B[49m\u001B[38;5;241;43m.\u001B[39;49m\u001B[43mcache\u001B[49m\u001B[43m(\u001B[49m\u001B[43mcompute_optics_graph\u001B[49m\u001B[43m)\u001B[49m\u001B[43m(\u001B[49m\n\u001B[0;32m    303\u001B[0m \u001B[43m    \u001B[49m\u001B[43mX\u001B[49m\u001B[38;5;241;43m=\u001B[39;49m\u001B[43mX\u001B[49m\u001B[43m,\u001B[49m\n\u001B[0;32m    304\u001B[0m \u001B[43m    \u001B[49m\u001B[43mmin_samples\u001B[49m\u001B[38;5;241;43m=\u001B[39;49m\u001B[38;5;28;43mself\u001B[39;49m\u001B[38;5;241;43m.\u001B[39;49m\u001B[43mmin_samples\u001B[49m\u001B[43m,\u001B[49m\n\u001B[0;32m    305\u001B[0m \u001B[43m    \u001B[49m\u001B[43malgorithm\u001B[49m\u001B[38;5;241;43m=\u001B[39;49m\u001B[38;5;28;43mself\u001B[39;49m\u001B[38;5;241;43m.\u001B[39;49m\u001B[43malgorithm\u001B[49m\u001B[43m,\u001B[49m\n\u001B[0;32m    306\u001B[0m \u001B[43m    \u001B[49m\u001B[43mleaf_size\u001B[49m\u001B[38;5;241;43m=\u001B[39;49m\u001B[38;5;28;43mself\u001B[39;49m\u001B[38;5;241;43m.\u001B[39;49m\u001B[43mleaf_size\u001B[49m\u001B[43m,\u001B[49m\n\u001B[0;32m    307\u001B[0m \u001B[43m    \u001B[49m\u001B[43mmetric\u001B[49m\u001B[38;5;241;43m=\u001B[39;49m\u001B[38;5;28;43mself\u001B[39;49m\u001B[38;5;241;43m.\u001B[39;49m\u001B[43mmetric\u001B[49m\u001B[43m,\u001B[49m\n\u001B[0;32m    308\u001B[0m \u001B[43m    \u001B[49m\u001B[43mmetric_params\u001B[49m\u001B[38;5;241;43m=\u001B[39;49m\u001B[38;5;28;43mself\u001B[39;49m\u001B[38;5;241;43m.\u001B[39;49m\u001B[43mmetric_params\u001B[49m\u001B[43m,\u001B[49m\n\u001B[0;32m    309\u001B[0m \u001B[43m    \u001B[49m\u001B[43mp\u001B[49m\u001B[38;5;241;43m=\u001B[39;49m\u001B[38;5;28;43mself\u001B[39;49m\u001B[38;5;241;43m.\u001B[39;49m\u001B[43mp\u001B[49m\u001B[43m,\u001B[49m\n\u001B[0;32m    310\u001B[0m \u001B[43m    \u001B[49m\u001B[43mn_jobs\u001B[49m\u001B[38;5;241;43m=\u001B[39;49m\u001B[38;5;28;43mself\u001B[39;49m\u001B[38;5;241;43m.\u001B[39;49m\u001B[43mn_jobs\u001B[49m\u001B[43m,\u001B[49m\n\u001B[0;32m    311\u001B[0m \u001B[43m    \u001B[49m\u001B[43mmax_eps\u001B[49m\u001B[38;5;241;43m=\u001B[39;49m\u001B[38;5;28;43mself\u001B[39;49m\u001B[38;5;241;43m.\u001B[39;49m\u001B[43mmax_eps\u001B[49m\u001B[43m,\u001B[49m\n\u001B[0;32m    312\u001B[0m \u001B[43m\u001B[49m\u001B[43m)\u001B[49m\n\u001B[0;32m    314\u001B[0m \u001B[38;5;66;03m# Extract clusters from the calculated orders and reachability\u001B[39;00m\n\u001B[0;32m    315\u001B[0m \u001B[38;5;28;01mif\u001B[39;00m \u001B[38;5;28mself\u001B[39m\u001B[38;5;241m.\u001B[39mcluster_method \u001B[38;5;241m==\u001B[39m \u001B[38;5;124m\"\u001B[39m\u001B[38;5;124mxi\u001B[39m\u001B[38;5;124m\"\u001B[39m:\n",
      "File \u001B[1;32m~\\anaconda3\\lib\\site-packages\\joblib\\memory.py:349\u001B[0m, in \u001B[0;36mNotMemorizedFunc.__call__\u001B[1;34m(self, *args, **kwargs)\u001B[0m\n\u001B[0;32m    348\u001B[0m \u001B[38;5;28;01mdef\u001B[39;00m \u001B[38;5;21m__call__\u001B[39m(\u001B[38;5;28mself\u001B[39m, \u001B[38;5;241m*\u001B[39margs, \u001B[38;5;241m*\u001B[39m\u001B[38;5;241m*\u001B[39mkwargs):\n\u001B[1;32m--> 349\u001B[0m     \u001B[38;5;28;01mreturn\u001B[39;00m \u001B[38;5;28mself\u001B[39m\u001B[38;5;241m.\u001B[39mfunc(\u001B[38;5;241m*\u001B[39margs, \u001B[38;5;241m*\u001B[39m\u001B[38;5;241m*\u001B[39mkwargs)\n",
      "File \u001B[1;32m~\\anaconda3\\lib\\site-packages\\sklearn\\cluster\\_optics.py:530\u001B[0m, in \u001B[0;36mcompute_optics_graph\u001B[1;34m(X, min_samples, max_eps, metric, p, metric_params, algorithm, leaf_size, n_jobs)\u001B[0m\n\u001B[0;32m    526\u001B[0m nbrs\u001B[38;5;241m.\u001B[39mfit(X)\n\u001B[0;32m    527\u001B[0m \u001B[38;5;66;03m# Here we first do a kNN query for each point, this differs from\u001B[39;00m\n\u001B[0;32m    528\u001B[0m \u001B[38;5;66;03m# the original OPTICS that only used epsilon range queries.\u001B[39;00m\n\u001B[0;32m    529\u001B[0m \u001B[38;5;66;03m# TODO: handle working_memory somehow?\u001B[39;00m\n\u001B[1;32m--> 530\u001B[0m core_distances_ \u001B[38;5;241m=\u001B[39m \u001B[43m_compute_core_distances_\u001B[49m\u001B[43m(\u001B[49m\n\u001B[0;32m    531\u001B[0m \u001B[43m    \u001B[49m\u001B[43mX\u001B[49m\u001B[38;5;241;43m=\u001B[39;49m\u001B[43mX\u001B[49m\u001B[43m,\u001B[49m\u001B[43m \u001B[49m\u001B[43mneighbors\u001B[49m\u001B[38;5;241;43m=\u001B[39;49m\u001B[43mnbrs\u001B[49m\u001B[43m,\u001B[49m\u001B[43m \u001B[49m\u001B[43mmin_samples\u001B[49m\u001B[38;5;241;43m=\u001B[39;49m\u001B[43mmin_samples\u001B[49m\u001B[43m,\u001B[49m\u001B[43m \u001B[49m\u001B[43mworking_memory\u001B[49m\u001B[38;5;241;43m=\u001B[39;49m\u001B[38;5;28;43;01mNone\u001B[39;49;00m\n\u001B[0;32m    532\u001B[0m \u001B[43m\u001B[49m\u001B[43m)\u001B[49m\n\u001B[0;32m    533\u001B[0m \u001B[38;5;66;03m# OPTICS puts an upper limit on these, use inf for undefined.\u001B[39;00m\n\u001B[0;32m    534\u001B[0m core_distances_[core_distances_ \u001B[38;5;241m>\u001B[39m max_eps] \u001B[38;5;241m=\u001B[39m np\u001B[38;5;241m.\u001B[39minf\n",
      "File \u001B[1;32m~\\anaconda3\\lib\\site-packages\\sklearn\\cluster\\_optics.py:394\u001B[0m, in \u001B[0;36m_compute_core_distances_\u001B[1;34m(X, neighbors, min_samples, working_memory)\u001B[0m\n\u001B[0;32m    392\u001B[0m slices \u001B[38;5;241m=\u001B[39m gen_batches(n_samples, chunk_n_rows)\n\u001B[0;32m    393\u001B[0m \u001B[38;5;28;01mfor\u001B[39;00m sl \u001B[38;5;129;01min\u001B[39;00m slices:\n\u001B[1;32m--> 394\u001B[0m     core_distances[sl] \u001B[38;5;241m=\u001B[39m \u001B[43mneighbors\u001B[49m\u001B[38;5;241;43m.\u001B[39;49m\u001B[43mkneighbors\u001B[49m\u001B[43m(\u001B[49m\u001B[43mX\u001B[49m\u001B[43m[\u001B[49m\u001B[43msl\u001B[49m\u001B[43m]\u001B[49m\u001B[43m,\u001B[49m\u001B[43m \u001B[49m\u001B[43mmin_samples\u001B[49m\u001B[43m)\u001B[49m[\u001B[38;5;241m0\u001B[39m][:, \u001B[38;5;241m-\u001B[39m\u001B[38;5;241m1\u001B[39m]\n\u001B[0;32m    395\u001B[0m \u001B[38;5;28;01mreturn\u001B[39;00m core_distances\n",
      "File \u001B[1;32m~\\anaconda3\\lib\\site-packages\\sklearn\\neighbors\\_base.py:752\u001B[0m, in \u001B[0;36mKNeighborsMixin.kneighbors\u001B[1;34m(self, X, n_neighbors, return_distance)\u001B[0m\n\u001B[0;32m    749\u001B[0m     \u001B[38;5;28;01melse\u001B[39;00m:\n\u001B[0;32m    750\u001B[0m         kwds \u001B[38;5;241m=\u001B[39m \u001B[38;5;28mself\u001B[39m\u001B[38;5;241m.\u001B[39meffective_metric_params_\n\u001B[1;32m--> 752\u001B[0m     chunked_results \u001B[38;5;241m=\u001B[39m \u001B[38;5;28;43mlist\u001B[39;49m\u001B[43m(\u001B[49m\n\u001B[0;32m    753\u001B[0m \u001B[43m        \u001B[49m\u001B[43mpairwise_distances_chunked\u001B[49m\u001B[43m(\u001B[49m\n\u001B[0;32m    754\u001B[0m \u001B[43m            \u001B[49m\u001B[43mX\u001B[49m\u001B[43m,\u001B[49m\n\u001B[0;32m    755\u001B[0m \u001B[43m            \u001B[49m\u001B[38;5;28;43mself\u001B[39;49m\u001B[38;5;241;43m.\u001B[39;49m\u001B[43m_fit_X\u001B[49m\u001B[43m,\u001B[49m\n\u001B[0;32m    756\u001B[0m \u001B[43m            \u001B[49m\u001B[43mreduce_func\u001B[49m\u001B[38;5;241;43m=\u001B[39;49m\u001B[43mreduce_func\u001B[49m\u001B[43m,\u001B[49m\n\u001B[0;32m    757\u001B[0m \u001B[43m            \u001B[49m\u001B[43mmetric\u001B[49m\u001B[38;5;241;43m=\u001B[39;49m\u001B[38;5;28;43mself\u001B[39;49m\u001B[38;5;241;43m.\u001B[39;49m\u001B[43meffective_metric_\u001B[49m\u001B[43m,\u001B[49m\n\u001B[0;32m    758\u001B[0m \u001B[43m            \u001B[49m\u001B[43mn_jobs\u001B[49m\u001B[38;5;241;43m=\u001B[39;49m\u001B[43mn_jobs\u001B[49m\u001B[43m,\u001B[49m\n\u001B[0;32m    759\u001B[0m \u001B[43m            \u001B[49m\u001B[38;5;241;43m*\u001B[39;49m\u001B[38;5;241;43m*\u001B[39;49m\u001B[43mkwds\u001B[49m\u001B[43m,\u001B[49m\n\u001B[0;32m    760\u001B[0m \u001B[43m        \u001B[49m\u001B[43m)\u001B[49m\n\u001B[0;32m    761\u001B[0m \u001B[43m    \u001B[49m\u001B[43m)\u001B[49m\n\u001B[0;32m    763\u001B[0m \u001B[38;5;28;01melif\u001B[39;00m \u001B[38;5;28mself\u001B[39m\u001B[38;5;241m.\u001B[39m_fit_method \u001B[38;5;129;01min\u001B[39;00m [\u001B[38;5;124m\"\u001B[39m\u001B[38;5;124mball_tree\u001B[39m\u001B[38;5;124m\"\u001B[39m, \u001B[38;5;124m\"\u001B[39m\u001B[38;5;124mkd_tree\u001B[39m\u001B[38;5;124m\"\u001B[39m]:\n\u001B[0;32m    764\u001B[0m     \u001B[38;5;28;01mif\u001B[39;00m issparse(X):\n",
      "File \u001B[1;32m~\\anaconda3\\lib\\site-packages\\sklearn\\metrics\\pairwise.py:1726\u001B[0m, in \u001B[0;36mpairwise_distances_chunked\u001B[1;34m(X, Y, reduce_func, metric, n_jobs, working_memory, **kwds)\u001B[0m\n\u001B[0;32m   1724\u001B[0m \u001B[38;5;28;01mif\u001B[39;00m reduce_func \u001B[38;5;129;01mis\u001B[39;00m \u001B[38;5;129;01mnot\u001B[39;00m \u001B[38;5;28;01mNone\u001B[39;00m:\n\u001B[0;32m   1725\u001B[0m     chunk_size \u001B[38;5;241m=\u001B[39m D_chunk\u001B[38;5;241m.\u001B[39mshape[\u001B[38;5;241m0\u001B[39m]\n\u001B[1;32m-> 1726\u001B[0m     D_chunk \u001B[38;5;241m=\u001B[39m \u001B[43mreduce_func\u001B[49m\u001B[43m(\u001B[49m\u001B[43mD_chunk\u001B[49m\u001B[43m,\u001B[49m\u001B[43m \u001B[49m\u001B[43msl\u001B[49m\u001B[38;5;241;43m.\u001B[39;49m\u001B[43mstart\u001B[49m\u001B[43m)\u001B[49m\n\u001B[0;32m   1727\u001B[0m     _check_chunk_size(D_chunk, chunk_size)\n\u001B[0;32m   1728\u001B[0m \u001B[38;5;28;01myield\u001B[39;00m D_chunk\n",
      "File \u001B[1;32m~\\anaconda3\\lib\\site-packages\\sklearn\\neighbors\\_base.py:634\u001B[0m, in \u001B[0;36mKNeighborsMixin._kneighbors_reduce_func\u001B[1;34m(self, dist, start, n_neighbors, return_distance)\u001B[0m\n\u001B[0;32m    607\u001B[0m \u001B[38;5;124;03m\"\"\"Reduce a chunk of distances to the nearest neighbors.\u001B[39;00m\n\u001B[0;32m    608\u001B[0m \n\u001B[0;32m    609\u001B[0m \u001B[38;5;124;03mCallback to :func:`sklearn.metrics.pairwise.pairwise_distances_chunked`\u001B[39;00m\n\u001B[1;32m   (...)\u001B[0m\n\u001B[0;32m    631\u001B[0m \u001B[38;5;124;03m    The neighbors indices.\u001B[39;00m\n\u001B[0;32m    632\u001B[0m \u001B[38;5;124;03m\"\"\"\u001B[39;00m\n\u001B[0;32m    633\u001B[0m sample_range \u001B[38;5;241m=\u001B[39m np\u001B[38;5;241m.\u001B[39marange(dist\u001B[38;5;241m.\u001B[39mshape[\u001B[38;5;241m0\u001B[39m])[:, \u001B[38;5;28;01mNone\u001B[39;00m]\n\u001B[1;32m--> 634\u001B[0m neigh_ind \u001B[38;5;241m=\u001B[39m \u001B[43mnp\u001B[49m\u001B[38;5;241;43m.\u001B[39;49m\u001B[43margpartition\u001B[49m\u001B[43m(\u001B[49m\u001B[43mdist\u001B[49m\u001B[43m,\u001B[49m\u001B[43m \u001B[49m\u001B[43mn_neighbors\u001B[49m\u001B[43m \u001B[49m\u001B[38;5;241;43m-\u001B[39;49m\u001B[43m \u001B[49m\u001B[38;5;241;43m1\u001B[39;49m\u001B[43m,\u001B[49m\u001B[43m \u001B[49m\u001B[43maxis\u001B[49m\u001B[38;5;241;43m=\u001B[39;49m\u001B[38;5;241;43m1\u001B[39;49m\u001B[43m)\u001B[49m\n\u001B[0;32m    635\u001B[0m neigh_ind \u001B[38;5;241m=\u001B[39m neigh_ind[:, :n_neighbors]\n\u001B[0;32m    636\u001B[0m \u001B[38;5;66;03m# argpartition doesn't guarantee sorted order, so we sort again\u001B[39;00m\n",
      "File \u001B[1;32m<__array_function__ internals>:5\u001B[0m, in \u001B[0;36margpartition\u001B[1;34m(*args, **kwargs)\u001B[0m\n",
      "File \u001B[1;32m~\\anaconda3\\lib\\site-packages\\numpy\\core\\fromnumeric.py:839\u001B[0m, in \u001B[0;36margpartition\u001B[1;34m(a, kth, axis, kind, order)\u001B[0m\n\u001B[0;32m    763\u001B[0m \u001B[38;5;129m@array_function_dispatch\u001B[39m(_argpartition_dispatcher)\n\u001B[0;32m    764\u001B[0m \u001B[38;5;28;01mdef\u001B[39;00m \u001B[38;5;21margpartition\u001B[39m(a, kth, axis\u001B[38;5;241m=\u001B[39m\u001B[38;5;241m-\u001B[39m\u001B[38;5;241m1\u001B[39m, kind\u001B[38;5;241m=\u001B[39m\u001B[38;5;124m'\u001B[39m\u001B[38;5;124mintroselect\u001B[39m\u001B[38;5;124m'\u001B[39m, order\u001B[38;5;241m=\u001B[39m\u001B[38;5;28;01mNone\u001B[39;00m):\n\u001B[0;32m    765\u001B[0m     \u001B[38;5;124;03m\"\"\"\u001B[39;00m\n\u001B[0;32m    766\u001B[0m \u001B[38;5;124;03m    Perform an indirect partition along the given axis using the\u001B[39;00m\n\u001B[0;32m    767\u001B[0m \u001B[38;5;124;03m    algorithm specified by the `kind` keyword. It returns an array of\u001B[39;00m\n\u001B[1;32m   (...)\u001B[0m\n\u001B[0;32m    837\u001B[0m \n\u001B[0;32m    838\u001B[0m \u001B[38;5;124;03m    \"\"\"\u001B[39;00m\n\u001B[1;32m--> 839\u001B[0m     \u001B[38;5;28;01mreturn\u001B[39;00m \u001B[43m_wrapfunc\u001B[49m\u001B[43m(\u001B[49m\u001B[43ma\u001B[49m\u001B[43m,\u001B[49m\u001B[43m \u001B[49m\u001B[38;5;124;43m'\u001B[39;49m\u001B[38;5;124;43margpartition\u001B[39;49m\u001B[38;5;124;43m'\u001B[39;49m\u001B[43m,\u001B[49m\u001B[43m \u001B[49m\u001B[43mkth\u001B[49m\u001B[43m,\u001B[49m\u001B[43m \u001B[49m\u001B[43maxis\u001B[49m\u001B[38;5;241;43m=\u001B[39;49m\u001B[43maxis\u001B[49m\u001B[43m,\u001B[49m\u001B[43m \u001B[49m\u001B[43mkind\u001B[49m\u001B[38;5;241;43m=\u001B[39;49m\u001B[43mkind\u001B[49m\u001B[43m,\u001B[49m\u001B[43m \u001B[49m\u001B[43morder\u001B[49m\u001B[38;5;241;43m=\u001B[39;49m\u001B[43morder\u001B[49m\u001B[43m)\u001B[49m\n",
      "File \u001B[1;32m~\\anaconda3\\lib\\site-packages\\numpy\\core\\fromnumeric.py:57\u001B[0m, in \u001B[0;36m_wrapfunc\u001B[1;34m(obj, method, *args, **kwds)\u001B[0m\n\u001B[0;32m     54\u001B[0m     \u001B[38;5;28;01mreturn\u001B[39;00m _wrapit(obj, method, \u001B[38;5;241m*\u001B[39margs, \u001B[38;5;241m*\u001B[39m\u001B[38;5;241m*\u001B[39mkwds)\n\u001B[0;32m     56\u001B[0m \u001B[38;5;28;01mtry\u001B[39;00m:\n\u001B[1;32m---> 57\u001B[0m     \u001B[38;5;28;01mreturn\u001B[39;00m bound(\u001B[38;5;241m*\u001B[39margs, \u001B[38;5;241m*\u001B[39m\u001B[38;5;241m*\u001B[39mkwds)\n\u001B[0;32m     58\u001B[0m \u001B[38;5;28;01mexcept\u001B[39;00m \u001B[38;5;167;01mTypeError\u001B[39;00m:\n\u001B[0;32m     59\u001B[0m     \u001B[38;5;66;03m# A TypeError occurs if the object does have such a method in its\u001B[39;00m\n\u001B[0;32m     60\u001B[0m     \u001B[38;5;66;03m# class, but its signature is not identical to that of NumPy's. This\u001B[39;00m\n\u001B[1;32m   (...)\u001B[0m\n\u001B[0;32m     64\u001B[0m     \u001B[38;5;66;03m# Call _wrapit from within the except clause to ensure a potential\u001B[39;00m\n\u001B[0;32m     65\u001B[0m     \u001B[38;5;66;03m# exception has a traceback chain.\u001B[39;00m\n\u001B[0;32m     66\u001B[0m     \u001B[38;5;28;01mreturn\u001B[39;00m _wrapit(obj, method, \u001B[38;5;241m*\u001B[39margs, \u001B[38;5;241m*\u001B[39m\u001B[38;5;241m*\u001B[39mkwds)\n",
      "\u001B[1;31mKeyboardInterrupt\u001B[0m: "
     ]
    }
   ],
   "source": [
    "from sklearn.cluster import OPTICS\n",
    "\n",
    "model = OPTICS()\n",
    "model.fit(train_X, train_y)"
   ],
   "metadata": {
    "collapsed": false
   }
  },
  {
   "cell_type": "code",
   "execution_count": null,
   "outputs": [],
   "source": [
    "pred_y = model.predict(test_X)\n",
    "preds = [round(value) for value in pred_y]\n",
    "\n",
    "# evaluate predictions\n",
    "accuracy = accuracy_score(test_y, preds)\n",
    "print(\"Accuracy: %.2f%%\" % (accuracy * 100.0))"
   ],
   "metadata": {
    "collapsed": false
   }
  }
 ],
 "metadata": {
  "kernelspec": {
   "display_name": "Python 3",
   "language": "python",
   "name": "python3"
  },
  "language_info": {
   "codemirror_mode": {
    "name": "ipython",
    "version": 2
   },
   "file_extension": ".py",
   "mimetype": "text/x-python",
   "name": "python",
   "nbconvert_exporter": "python",
   "pygments_lexer": "ipython2",
   "version": "2.7.6"
  }
 },
 "nbformat": 4,
 "nbformat_minor": 0
}
