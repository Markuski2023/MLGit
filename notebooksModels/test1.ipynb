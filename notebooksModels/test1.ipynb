{
 "cells": [
  {
   "cell_type": "code",
   "execution_count": 3,
   "metadata": {
    "collapsed": true
   },
   "outputs": [],
   "source": [
    "import pandas as pd\n",
    "from sklearn.model_selection import cross_val_score\n",
    "from xgboost import XGBClassifier\n",
    "from sklearn.model_selection import train_test_split\n",
    "from sklearn.model_selection import GridSearchCV\n",
    "from sklearn.ensemble import RandomForestClassifier\n",
    "from sklearn.naive_bayes import GaussianNB\n",
    "from sklearn.metrics import accuracy_score"
   ]
  },
  {
   "cell_type": "code",
   "execution_count": 4,
   "outputs": [],
   "source": [
    "# Load dataset\n",
    "df_titanic = pd.read_csv(r'C:\\Users\\marku\\Desktop\\ML\\MLGit\\datasets\\titanic.csv')"
   ],
   "metadata": {
    "collapsed": false
   }
  },
  {
   "cell_type": "code",
   "execution_count": 5,
   "outputs": [],
   "source": [
    "# Sets null values equal to the median of that column\n",
    "def handle_null_median(df):\n",
    "    # Need to set inplace=True, so it doesn't create a copy of the dataframe. Tried without and this led to null-values not being removed\n",
    "    df['Fare'].fillna(df['Fare'].median(), inplace=True)\n",
    "    df['Age'].fillna(df['Age'].median(), inplace=True)\n",
    "\n",
    "    df['Embarked'].fillna('S', inplace=True)\n",
    "\n",
    "    return  df\n",
    "\n",
    "df_titanic = handle_null_median(df_titanic)\n",
    "df_titanic['Sex'] = df_titanic['Sex'].replace(['female', 'male'], [0,1])\n",
    "df_titanic['FamilyMembersCount'] = df_titanic['Parch'] + df_titanic['SibSp'] + 1\n",
    "df_titanic = df_titanic.drop(['PassengerId', 'Name', 'Ticket', 'Cabin', 'SibSp', 'Parch'], axis=1)"
   ],
   "metadata": {
    "collapsed": false
   }
  },
  {
   "cell_type": "code",
   "execution_count": 6,
   "outputs": [],
   "source": [
    "df_XGB = df_titanic.copy()\n",
    "df_RF = df_titanic.copy()\n",
    "df_GNB = df_titanic.copy()"
   ],
   "metadata": {
    "collapsed": false
   }
  },
  {
   "cell_type": "code",
   "execution_count": 7,
   "outputs": [],
   "source": [
    "def bins(df): # This is kind of feature engineering as well\n",
    "    df['AgeGroup'] = 0\n",
    "    df.loc[df['Age'] < 16.336, 'AgeGroup' ] = 0\n",
    "    df.loc[(df['Age'] >= 16.336) & (df['Age'] < 32.252), 'AgeGroup'] = 1\n",
    "    df.loc[(df['Age'] >= 32.252) & (df['Age'] < 48.168), 'AgeGroup'] = 2\n",
    "    df.loc[(df['Age'] >= 48.168) & (df['Age'] < 64.084), 'AgeGroup'] = 3\n",
    "    df.loc[df['Age'] >= 64.084, 'AgeGroup'] = 4\n",
    "\n",
    "    # Could also create bins for fare, but not sure Fare is needed.\n",
    "    return df\n",
    "\n",
    "df_RF = bins(df_titanic)"
   ],
   "metadata": {
    "collapsed": false
   }
  },
  {
   "cell_type": "code",
   "execution_count": 8,
   "outputs": [],
   "source": [
    "df_titanic['Pclass'] =  df_titanic['Pclass'].astype('category')\n",
    "df_titanic['Embarked'] =  df_titanic['Embarked'].astype('category')\n",
    "df_titanic['AgeGroup'] =  df_titanic['AgeGroup'].astype('category')\n",
    "df_titanic['Sex'] =  df_titanic['Sex'].astype('category')\n",
    "df_titanic = df_titanic.drop('Age', axis=1)"
   ],
   "metadata": {
    "collapsed": false
   }
  },
  {
   "cell_type": "markdown",
   "source": [
    "# Random Forest"
   ],
   "metadata": {
    "collapsed": false
   }
  },
  {
   "cell_type": "code",
   "execution_count": 9,
   "outputs": [
    {
     "data": {
      "text/plain": "   Survived  FamilyMembersCount  Pclass_1  Pclass_2  Pclass_3  Sex_0  Sex_1  \\\n0         0                   2         0         0         1      0      1   \n1         1                   2         1         0         0      1      0   \n2         1                   1         0         0         1      1      0   \n3         1                   2         1         0         0      1      0   \n4         0                   1         0         0         1      0      1   \n\n   Embarked_C  Embarked_Q  Embarked_S  AgeGroup_0  AgeGroup_1  AgeGroup_2  \\\n0           0           0           1           0           1           0   \n1           1           0           0           0           0           1   \n2           0           0           1           0           1           0   \n3           0           0           1           0           0           1   \n4           0           0           1           0           0           1   \n\n   AgeGroup_3  AgeGroup_4  \n0           0           0  \n1           0           0  \n2           0           0  \n3           0           0  \n4           0           0  ",
      "text/html": "<div>\n<style scoped>\n    .dataframe tbody tr th:only-of-type {\n        vertical-align: middle;\n    }\n\n    .dataframe tbody tr th {\n        vertical-align: top;\n    }\n\n    .dataframe thead th {\n        text-align: right;\n    }\n</style>\n<table border=\"1\" class=\"dataframe\">\n  <thead>\n    <tr style=\"text-align: right;\">\n      <th></th>\n      <th>Survived</th>\n      <th>FamilyMembersCount</th>\n      <th>Pclass_1</th>\n      <th>Pclass_2</th>\n      <th>Pclass_3</th>\n      <th>Sex_0</th>\n      <th>Sex_1</th>\n      <th>Embarked_C</th>\n      <th>Embarked_Q</th>\n      <th>Embarked_S</th>\n      <th>AgeGroup_0</th>\n      <th>AgeGroup_1</th>\n      <th>AgeGroup_2</th>\n      <th>AgeGroup_3</th>\n      <th>AgeGroup_4</th>\n    </tr>\n  </thead>\n  <tbody>\n    <tr>\n      <th>0</th>\n      <td>0</td>\n      <td>2</td>\n      <td>0</td>\n      <td>0</td>\n      <td>1</td>\n      <td>0</td>\n      <td>1</td>\n      <td>0</td>\n      <td>0</td>\n      <td>1</td>\n      <td>0</td>\n      <td>1</td>\n      <td>0</td>\n      <td>0</td>\n      <td>0</td>\n    </tr>\n    <tr>\n      <th>1</th>\n      <td>1</td>\n      <td>2</td>\n      <td>1</td>\n      <td>0</td>\n      <td>0</td>\n      <td>1</td>\n      <td>0</td>\n      <td>1</td>\n      <td>0</td>\n      <td>0</td>\n      <td>0</td>\n      <td>0</td>\n      <td>1</td>\n      <td>0</td>\n      <td>0</td>\n    </tr>\n    <tr>\n      <th>2</th>\n      <td>1</td>\n      <td>1</td>\n      <td>0</td>\n      <td>0</td>\n      <td>1</td>\n      <td>1</td>\n      <td>0</td>\n      <td>0</td>\n      <td>0</td>\n      <td>1</td>\n      <td>0</td>\n      <td>1</td>\n      <td>0</td>\n      <td>0</td>\n      <td>0</td>\n    </tr>\n    <tr>\n      <th>3</th>\n      <td>1</td>\n      <td>2</td>\n      <td>1</td>\n      <td>0</td>\n      <td>0</td>\n      <td>1</td>\n      <td>0</td>\n      <td>0</td>\n      <td>0</td>\n      <td>1</td>\n      <td>0</td>\n      <td>0</td>\n      <td>1</td>\n      <td>0</td>\n      <td>0</td>\n    </tr>\n    <tr>\n      <th>4</th>\n      <td>0</td>\n      <td>1</td>\n      <td>0</td>\n      <td>0</td>\n      <td>1</td>\n      <td>0</td>\n      <td>1</td>\n      <td>0</td>\n      <td>0</td>\n      <td>1</td>\n      <td>0</td>\n      <td>0</td>\n      <td>1</td>\n      <td>0</td>\n      <td>0</td>\n    </tr>\n  </tbody>\n</table>\n</div>"
     },
     "execution_count": 9,
     "metadata": {},
     "output_type": "execute_result"
    }
   ],
   "source": [
    "df_RF = pd.get_dummies(df_titanic)\n",
    "df_RF = df_RF.drop(['Fare'], axis=1)\n",
    "df_RF.head()"
   ],
   "metadata": {
    "collapsed": false
   }
  },
  {
   "cell_type": "code",
   "execution_count": 10,
   "outputs": [],
   "source": [
    "train_X, test_X, train_y, test_y = train_test_split(df_RF.drop('Survived', axis=1), df_RF['Survived'], random_state=42)"
   ],
   "metadata": {
    "collapsed": false
   }
  },
  {
   "cell_type": "code",
   "execution_count": 11,
   "outputs": [
    {
     "name": "stdout",
     "output_type": "stream",
     "text": [
      "{'max_depth': 5} 0.7934238581528448\n"
     ]
    }
   ],
   "source": [
    "RFParam1 = {\n",
    "    \"max_depth\":[4, 5, 6]\n",
    "}\n",
    "\n",
    "RF_Grid1 = GridSearchCV(RandomForestClassifier(verbose=0,\n",
    "                                               n_estimators=100,\n",
    "                                               min_samples_leaf=6,\n",
    "                                               max_samples=.2,\n",
    "                                               max_features=3,\n",
    "                                               min_samples_split=12), RFParam1)\n",
    "RF_Grid1.fit(train_X, train_y)\n",
    "print(RF_Grid1.best_params_, RF_Grid1.best_score_)"
   ],
   "metadata": {
    "collapsed": false
   }
  },
  {
   "cell_type": "code",
   "execution_count": 12,
   "outputs": [
    {
     "name": "stdout",
     "output_type": "stream",
     "text": [
      "{'n_estimators': 50} 0.7934238581528448\n"
     ]
    }
   ],
   "source": [
    "RFParam2 = {\n",
    "    \"n_estimators\":[50, 100, 200, 300]\n",
    "}\n",
    "\n",
    "RF_Grid2 = GridSearchCV(RandomForestClassifier(verbose=0,\n",
    "                                               max_depth=5,\n",
    "                                               min_samples_leaf=6,\n",
    "                                               max_samples=.2,\n",
    "                                               max_features=3,\n",
    "                                               min_samples_split=12), RFParam2)\n",
    "RF_Grid2.fit(train_X, train_y)\n",
    "print(RF_Grid2.best_params_, RF_Grid2.best_score_)"
   ],
   "metadata": {
    "collapsed": false
   }
  },
  {
   "cell_type": "code",
   "execution_count": 18,
   "outputs": [
    {
     "name": "stdout",
     "output_type": "stream",
     "text": [
      "{'min_samples_leaf': 2} 0.814330602625968\n"
     ]
    },
    {
     "name": "stderr",
     "output_type": "stream",
     "text": [
      "C:\\Users\\marku\\anaconda3\\lib\\site-packages\\sklearn\\model_selection\\_validation.py:372: FitFailedWarning: \n",
      "5 fits failed out of a total of 25.\n",
      "The score on these train-test partitions for these parameters will be set to nan.\n",
      "If these failures are not expected, you can try to debug them by setting error_score='raise'.\n",
      "\n",
      "Below are more details about the failures:\n",
      "--------------------------------------------------------------------------------\n",
      "5 fits failed with the following error:\n",
      "Traceback (most recent call last):\n",
      "  File \"C:\\Users\\marku\\anaconda3\\lib\\site-packages\\sklearn\\model_selection\\_validation.py\", line 680, in _fit_and_score\n",
      "    estimator.fit(X_train, y_train, **fit_params)\n",
      "  File \"C:\\Users\\marku\\anaconda3\\lib\\site-packages\\sklearn\\ensemble\\_forest.py\", line 450, in fit\n",
      "    trees = Parallel(\n",
      "  File \"C:\\Users\\marku\\anaconda3\\lib\\site-packages\\joblib\\parallel.py\", line 1043, in __call__\n",
      "    if self.dispatch_one_batch(iterator):\n",
      "  File \"C:\\Users\\marku\\anaconda3\\lib\\site-packages\\joblib\\parallel.py\", line 861, in dispatch_one_batch\n",
      "    self._dispatch(tasks)\n",
      "  File \"C:\\Users\\marku\\anaconda3\\lib\\site-packages\\joblib\\parallel.py\", line 779, in _dispatch\n",
      "    job = self._backend.apply_async(batch, callback=cb)\n",
      "  File \"C:\\Users\\marku\\anaconda3\\lib\\site-packages\\joblib\\_parallel_backends.py\", line 208, in apply_async\n",
      "    result = ImmediateResult(func)\n",
      "  File \"C:\\Users\\marku\\anaconda3\\lib\\site-packages\\joblib\\_parallel_backends.py\", line 572, in __init__\n",
      "    self.results = batch()\n",
      "  File \"C:\\Users\\marku\\anaconda3\\lib\\site-packages\\joblib\\parallel.py\", line 262, in __call__\n",
      "    return [func(*args, **kwargs)\n",
      "  File \"C:\\Users\\marku\\anaconda3\\lib\\site-packages\\joblib\\parallel.py\", line 262, in <listcomp>\n",
      "    return [func(*args, **kwargs)\n",
      "  File \"C:\\Users\\marku\\anaconda3\\lib\\site-packages\\sklearn\\utils\\fixes.py\", line 216, in __call__\n",
      "    return self.function(*args, **kwargs)\n",
      "  File \"C:\\Users\\marku\\anaconda3\\lib\\site-packages\\sklearn\\ensemble\\_forest.py\", line 185, in _parallel_build_trees\n",
      "    tree.fit(X, y, sample_weight=curr_sample_weight, check_input=False)\n",
      "  File \"C:\\Users\\marku\\anaconda3\\lib\\site-packages\\sklearn\\tree\\_classes.py\", line 937, in fit\n",
      "    super().fit(\n",
      "  File \"C:\\Users\\marku\\anaconda3\\lib\\site-packages\\sklearn\\tree\\_classes.py\", line 235, in fit\n",
      "    raise ValueError(\n",
      "ValueError: min_samples_leaf must be at least 1 or in (0, 0.5], got 0\n",
      "\n",
      "  warnings.warn(some_fits_failed_message, FitFailedWarning)\n",
      "C:\\Users\\marku\\anaconda3\\lib\\site-packages\\sklearn\\model_selection\\_search.py:969: UserWarning: One or more of the test scores are non-finite: [       nan 0.8143306  0.80090899 0.80087532 0.78744249]\n",
      "  warnings.warn(\n"
     ]
    }
   ],
   "source": [
    "RFParam3 = {\n",
    "    \"min_samples_leaf\": range(0, 10, 2)\n",
    "}\n",
    "\n",
    "RF_Grid3 = GridSearchCV(RandomForestClassifier(verbose=0,\n",
    "                                               max_depth=5,\n",
    "                                               n_estimators=50,\n",
    "                                               max_samples=.2,\n",
    "                                               max_features=3,\n",
    "                                               min_samples_split=12), RFParam3)\n",
    "RF_Grid3.fit(train_X, train_y)\n",
    "print(RF_Grid3.best_params_, RF_Grid3.best_score_)"
   ],
   "metadata": {
    "collapsed": false
   }
  },
  {
   "cell_type": "code",
   "execution_count": 21,
   "outputs": [
    {
     "name": "stdout",
     "output_type": "stream",
     "text": [
      "{'max_samples': 0.4} 0.8053529345752442\n"
     ]
    }
   ],
   "source": [
    "RFParam4 = {\n",
    "    \"max_samples\": [.2,.3,.4,.5]\n",
    "}\n",
    "\n",
    "RF_Grid4 = GridSearchCV(RandomForestClassifier(verbose=0,\n",
    "                                               max_depth=5,\n",
    "                                               n_estimators=50,\n",
    "                                               min_samples_leaf=6,\n",
    "                                               max_features=3,\n",
    "                                               min_samples_split=12), RFParam4)\n",
    "RF_Grid4.fit(train_X, train_y)\n",
    "print(RF_Grid4.best_params_, RF_Grid4.best_score_)"
   ],
   "metadata": {
    "collapsed": false
   }
  },
  {
   "cell_type": "code",
   "execution_count": 22,
   "outputs": [
    {
     "name": "stdout",
     "output_type": "stream",
     "text": [
      "{'max_features': 4} 0.7993827853215127\n"
     ]
    }
   ],
   "source": [
    "RFParam5 = {\n",
    "    'max_features': [2,3,4,5]\n",
    "}\n",
    "\n",
    "RF_Grid5 = GridSearchCV(RandomForestClassifier(verbose=0,\n",
    "                                               max_depth=5,\n",
    "                                               n_estimators=50,\n",
    "                                               min_samples_leaf=6,\n",
    "                                               max_samples=.4,\n",
    "                                               min_samples_split=12), RFParam5)\n",
    "RF_Grid5.fit(train_X, train_y)\n",
    "print(RF_Grid5.best_params_, RF_Grid5.best_score_)"
   ],
   "metadata": {
    "collapsed": false
   }
  },
  {
   "cell_type": "code",
   "execution_count": 26,
   "outputs": [
    {
     "name": "stdout",
     "output_type": "stream",
     "text": [
      "{'min_samples_split': 12} 0.8053753787453708\n"
     ]
    }
   ],
   "source": [
    "RFParam6 = {\n",
    "    'min_samples_split': [6, 8, 12, 16]\n",
    "}\n",
    "\n",
    "RF_Grid6 = GridSearchCV(RandomForestClassifier(verbose=0,\n",
    "                                               max_depth=5,\n",
    "                                               n_estimators=50,\n",
    "                                               min_samples_leaf=6,\n",
    "                                               max_samples=.4), RFParam6)\n",
    "RF_Grid6.fit(train_X, train_y)\n",
    "print(RF_Grid6.best_params_, RF_Grid6.best_score_)"
   ],
   "metadata": {
    "collapsed": false
   }
  },
  {
   "cell_type": "code",
   "execution_count": 30,
   "outputs": [
    {
     "data": {
      "text/plain": "(0.8053641566603075, 0.035885543474865195)"
     },
     "execution_count": 30,
     "metadata": {},
     "output_type": "execute_result"
    }
   ],
   "source": [
    "RFModel = RandomForestClassifier(verbose=0,\n",
    "                                 max_depth=5,\n",
    "                                 n_estimators=50,\n",
    "                                 min_samples_leaf=6,\n",
    "                                 max_samples=.4)\n",
    "RF_scores = cross_val_score(RFModel, train_X, train_y)\n",
    "(RF_scores.mean(), RF_scores.std())"
   ],
   "metadata": {
    "collapsed": false
   }
  },
  {
   "cell_type": "code",
   "execution_count": 51,
   "outputs": [
    {
     "data": {
      "text/plain": "0.820627802690583"
     },
     "execution_count": 51,
     "metadata": {},
     "output_type": "execute_result"
    }
   ],
   "source": [
    "RFModel.fit(train_X, train_y)\n",
    "pred = RFModel.predict(test_X)\n",
    "accuracy_score(test_y, pred)"
   ],
   "metadata": {
    "collapsed": false
   }
  }
 ],
 "metadata": {
  "kernelspec": {
   "display_name": "Python 3",
   "language": "python",
   "name": "python3"
  },
  "language_info": {
   "codemirror_mode": {
    "name": "ipython",
    "version": 2
   },
   "file_extension": ".py",
   "mimetype": "text/x-python",
   "name": "python",
   "nbconvert_exporter": "python",
   "pygments_lexer": "ipython2",
   "version": "2.7.6"
  }
 },
 "nbformat": 4,
 "nbformat_minor": 0
}
