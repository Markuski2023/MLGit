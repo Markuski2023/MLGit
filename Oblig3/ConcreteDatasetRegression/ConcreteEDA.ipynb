{
 "cells": [
  {
   "cell_type": "markdown",
   "source": [
    "# EDA\n",
    "I've split the EDA into 3 separate parts:\n",
    "- Understanding the dataset\n",
    "- Cleaning the dataset\n",
    "- Feature analysis\n",
    "    - Univariate\n",
    "    - Multivariate"
   ],
   "metadata": {
    "collapsed": false
   }
  },
  {
   "cell_type": "code",
   "execution_count": 189,
   "outputs": [],
   "source": [
    "import pandas as pd\n",
    "import matplotlib.pyplot as plt\n",
    "import seaborn as sns"
   ],
   "metadata": {
    "collapsed": false
   }
  },
  {
   "cell_type": "code",
   "execution_count": 190,
   "outputs": [],
   "source": [
    "df = pd.read_excel(r'C:\\Users\\marku\\Desktop\\ML\\MLGit\\datasets\\Concrete_Data.xls')"
   ],
   "metadata": {
    "collapsed": false
   }
  },
  {
   "cell_type": "markdown",
   "source": [
    "# Understanding the dataset"
   ],
   "metadata": {
    "collapsed": false
   }
  },
  {
   "cell_type": "code",
   "execution_count": 191,
   "outputs": [
    {
     "data": {
      "text/plain": "(1030, 9)"
     },
     "execution_count": 191,
     "metadata": {},
     "output_type": "execute_result"
    }
   ],
   "source": [
    "df.shape"
   ],
   "metadata": {
    "collapsed": false
   }
  },
  {
   "cell_type": "markdown",
   "source": [
    "The dataset has 1030 rows and 9 columns"
   ],
   "metadata": {
    "collapsed": false
   }
  },
  {
   "cell_type": "code",
   "execution_count": 192,
   "outputs": [
    {
     "data": {
      "text/plain": "Index(['Cement (component 1)(kg in a m^3 mixture)',\n       'Blast Furnace Slag (component 2)(kg in a m^3 mixture)',\n       'Fly Ash (component 3)(kg in a m^3 mixture)',\n       'Water  (component 4)(kg in a m^3 mixture)',\n       'Superplasticizer (component 5)(kg in a m^3 mixture)',\n       'Coarse Aggregate  (component 6)(kg in a m^3 mixture)',\n       'Fine Aggregate (component 7)(kg in a m^3 mixture)', 'Age (day)',\n       'Concrete compressive strength(MPa, megapascals) '],\n      dtype='object')"
     },
     "execution_count": 192,
     "metadata": {},
     "output_type": "execute_result"
    }
   ],
   "source": [
    "df.columns"
   ],
   "metadata": {
    "collapsed": false
   }
  },
  {
   "cell_type": "markdown",
   "source": [
    "Name of each column. Gives us an overview of what kind of values to expect"
   ],
   "metadata": {
    "collapsed": false
   }
  },
  {
   "cell_type": "code",
   "execution_count": 193,
   "outputs": [
    {
     "data": {
      "text/plain": "   Cement (component 1)(kg in a m^3 mixture)  \\\n0                                      540.0   \n1                                      540.0   \n2                                      332.5   \n3                                      332.5   \n4                                      198.6   \n\n   Blast Furnace Slag (component 2)(kg in a m^3 mixture)  \\\n0                                                0.0       \n1                                                0.0       \n2                                              142.5       \n3                                              142.5       \n4                                              132.4       \n\n   Fly Ash (component 3)(kg in a m^3 mixture)  \\\n0                                         0.0   \n1                                         0.0   \n2                                         0.0   \n3                                         0.0   \n4                                         0.0   \n\n   Water  (component 4)(kg in a m^3 mixture)  \\\n0                                      162.0   \n1                                      162.0   \n2                                      228.0   \n3                                      228.0   \n4                                      192.0   \n\n   Superplasticizer (component 5)(kg in a m^3 mixture)  \\\n0                                                2.5     \n1                                                2.5     \n2                                                0.0     \n3                                                0.0     \n4                                                0.0     \n\n   Coarse Aggregate  (component 6)(kg in a m^3 mixture)  \\\n0                                             1040.0      \n1                                             1055.0      \n2                                              932.0      \n3                                              932.0      \n4                                              978.4      \n\n   Fine Aggregate (component 7)(kg in a m^3 mixture)  Age (day)  \\\n0                                              676.0         28   \n1                                              676.0         28   \n2                                              594.0        270   \n3                                              594.0        365   \n4                                              825.5        360   \n\n   Concrete compressive strength(MPa, megapascals)   \n0                                         79.986111  \n1                                         61.887366  \n2                                         40.269535  \n3                                         41.052780  \n4                                         44.296075  ",
      "text/html": "<div>\n<style scoped>\n    .dataframe tbody tr th:only-of-type {\n        vertical-align: middle;\n    }\n\n    .dataframe tbody tr th {\n        vertical-align: top;\n    }\n\n    .dataframe thead th {\n        text-align: right;\n    }\n</style>\n<table border=\"1\" class=\"dataframe\">\n  <thead>\n    <tr style=\"text-align: right;\">\n      <th></th>\n      <th>Cement (component 1)(kg in a m^3 mixture)</th>\n      <th>Blast Furnace Slag (component 2)(kg in a m^3 mixture)</th>\n      <th>Fly Ash (component 3)(kg in a m^3 mixture)</th>\n      <th>Water  (component 4)(kg in a m^3 mixture)</th>\n      <th>Superplasticizer (component 5)(kg in a m^3 mixture)</th>\n      <th>Coarse Aggregate  (component 6)(kg in a m^3 mixture)</th>\n      <th>Fine Aggregate (component 7)(kg in a m^3 mixture)</th>\n      <th>Age (day)</th>\n      <th>Concrete compressive strength(MPa, megapascals)</th>\n    </tr>\n  </thead>\n  <tbody>\n    <tr>\n      <th>0</th>\n      <td>540.0</td>\n      <td>0.0</td>\n      <td>0.0</td>\n      <td>162.0</td>\n      <td>2.5</td>\n      <td>1040.0</td>\n      <td>676.0</td>\n      <td>28</td>\n      <td>79.986111</td>\n    </tr>\n    <tr>\n      <th>1</th>\n      <td>540.0</td>\n      <td>0.0</td>\n      <td>0.0</td>\n      <td>162.0</td>\n      <td>2.5</td>\n      <td>1055.0</td>\n      <td>676.0</td>\n      <td>28</td>\n      <td>61.887366</td>\n    </tr>\n    <tr>\n      <th>2</th>\n      <td>332.5</td>\n      <td>142.5</td>\n      <td>0.0</td>\n      <td>228.0</td>\n      <td>0.0</td>\n      <td>932.0</td>\n      <td>594.0</td>\n      <td>270</td>\n      <td>40.269535</td>\n    </tr>\n    <tr>\n      <th>3</th>\n      <td>332.5</td>\n      <td>142.5</td>\n      <td>0.0</td>\n      <td>228.0</td>\n      <td>0.0</td>\n      <td>932.0</td>\n      <td>594.0</td>\n      <td>365</td>\n      <td>41.052780</td>\n    </tr>\n    <tr>\n      <th>4</th>\n      <td>198.6</td>\n      <td>132.4</td>\n      <td>0.0</td>\n      <td>192.0</td>\n      <td>0.0</td>\n      <td>978.4</td>\n      <td>825.5</td>\n      <td>360</td>\n      <td>44.296075</td>\n    </tr>\n  </tbody>\n</table>\n</div>"
     },
     "execution_count": 193,
     "metadata": {},
     "output_type": "execute_result"
    }
   ],
   "source": [
    "df.head()"
   ],
   "metadata": {
    "collapsed": false
   }
  },
  {
   "cell_type": "code",
   "execution_count": 194,
   "outputs": [
    {
     "name": "stdout",
     "output_type": "stream",
     "text": [
      "<class 'pandas.core.frame.DataFrame'>\n",
      "RangeIndex: 1030 entries, 0 to 1029\n",
      "Data columns (total 9 columns):\n",
      " #   Column                                                 Non-Null Count  Dtype  \n",
      "---  ------                                                 --------------  -----  \n",
      " 0   Cement (component 1)(kg in a m^3 mixture)              1030 non-null   float64\n",
      " 1   Blast Furnace Slag (component 2)(kg in a m^3 mixture)  1030 non-null   float64\n",
      " 2   Fly Ash (component 3)(kg in a m^3 mixture)             1030 non-null   float64\n",
      " 3   Water  (component 4)(kg in a m^3 mixture)              1030 non-null   float64\n",
      " 4   Superplasticizer (component 5)(kg in a m^3 mixture)    1030 non-null   float64\n",
      " 5   Coarse Aggregate  (component 6)(kg in a m^3 mixture)   1030 non-null   float64\n",
      " 6   Fine Aggregate (component 7)(kg in a m^3 mixture)      1030 non-null   float64\n",
      " 7   Age (day)                                              1030 non-null   int64  \n",
      " 8   Concrete compressive strength(MPa, megapascals)        1030 non-null   float64\n",
      "dtypes: float64(8), int64(1)\n",
      "memory usage: 72.5 KB\n"
     ]
    }
   ],
   "source": [
    "df.info()"
   ],
   "metadata": {
    "collapsed": false
   }
  },
  {
   "cell_type": "markdown",
   "source": [
    "Indicates which datatype each column has\n",
    "- int64/float64: normal numeric value"
   ],
   "metadata": {
    "collapsed": false
   }
  },
  {
   "cell_type": "code",
   "execution_count": 195,
   "outputs": [
    {
     "data": {
      "text/plain": "       Cement (component 1)(kg in a m^3 mixture)  \\\ncount                                1030.000000   \nmean                                  281.165631   \nstd                                   104.507142   \nmin                                   102.000000   \n25%                                   192.375000   \n50%                                   272.900000   \n75%                                   350.000000   \nmax                                   540.000000   \n\n       Blast Furnace Slag (component 2)(kg in a m^3 mixture)  \\\ncount                                        1030.000000       \nmean                                           73.895485       \nstd                                            86.279104       \nmin                                             0.000000       \n25%                                             0.000000       \n50%                                            22.000000       \n75%                                           142.950000       \nmax                                           359.400000       \n\n       Fly Ash (component 3)(kg in a m^3 mixture)  \\\ncount                                 1030.000000   \nmean                                    54.187136   \nstd                                     63.996469   \nmin                                      0.000000   \n25%                                      0.000000   \n50%                                      0.000000   \n75%                                    118.270000   \nmax                                    200.100000   \n\n       Water  (component 4)(kg in a m^3 mixture)  \\\ncount                                1030.000000   \nmean                                  181.566359   \nstd                                    21.355567   \nmin                                   121.750000   \n25%                                   164.900000   \n50%                                   185.000000   \n75%                                   192.000000   \nmax                                   247.000000   \n\n       Superplasticizer (component 5)(kg in a m^3 mixture)  \\\ncount                                        1030.000000     \nmean                                            6.203112     \nstd                                             5.973492     \nmin                                             0.000000     \n25%                                             0.000000     \n50%                                             6.350000     \n75%                                            10.160000     \nmax                                            32.200000     \n\n       Coarse Aggregate  (component 6)(kg in a m^3 mixture)  \\\ncount                                        1030.000000      \nmean                                          972.918592      \nstd                                            77.753818      \nmin                                           801.000000      \n25%                                           932.000000      \n50%                                           968.000000      \n75%                                          1029.400000      \nmax                                          1145.000000      \n\n       Fine Aggregate (component 7)(kg in a m^3 mixture)    Age (day)  \\\ncount                                        1030.000000  1030.000000   \nmean                                          773.578883    45.662136   \nstd                                            80.175427    63.169912   \nmin                                           594.000000     1.000000   \n25%                                           730.950000     7.000000   \n50%                                           779.510000    28.000000   \n75%                                           824.000000    56.000000   \nmax                                           992.600000   365.000000   \n\n       Concrete compressive strength(MPa, megapascals)   \ncount                                       1030.000000  \nmean                                          35.817836  \nstd                                           16.705679  \nmin                                            2.331808  \n25%                                           23.707115  \n50%                                           34.442774  \n75%                                           46.136287  \nmax                                           82.599225  ",
      "text/html": "<div>\n<style scoped>\n    .dataframe tbody tr th:only-of-type {\n        vertical-align: middle;\n    }\n\n    .dataframe tbody tr th {\n        vertical-align: top;\n    }\n\n    .dataframe thead th {\n        text-align: right;\n    }\n</style>\n<table border=\"1\" class=\"dataframe\">\n  <thead>\n    <tr style=\"text-align: right;\">\n      <th></th>\n      <th>Cement (component 1)(kg in a m^3 mixture)</th>\n      <th>Blast Furnace Slag (component 2)(kg in a m^3 mixture)</th>\n      <th>Fly Ash (component 3)(kg in a m^3 mixture)</th>\n      <th>Water  (component 4)(kg in a m^3 mixture)</th>\n      <th>Superplasticizer (component 5)(kg in a m^3 mixture)</th>\n      <th>Coarse Aggregate  (component 6)(kg in a m^3 mixture)</th>\n      <th>Fine Aggregate (component 7)(kg in a m^3 mixture)</th>\n      <th>Age (day)</th>\n      <th>Concrete compressive strength(MPa, megapascals)</th>\n    </tr>\n  </thead>\n  <tbody>\n    <tr>\n      <th>count</th>\n      <td>1030.000000</td>\n      <td>1030.000000</td>\n      <td>1030.000000</td>\n      <td>1030.000000</td>\n      <td>1030.000000</td>\n      <td>1030.000000</td>\n      <td>1030.000000</td>\n      <td>1030.000000</td>\n      <td>1030.000000</td>\n    </tr>\n    <tr>\n      <th>mean</th>\n      <td>281.165631</td>\n      <td>73.895485</td>\n      <td>54.187136</td>\n      <td>181.566359</td>\n      <td>6.203112</td>\n      <td>972.918592</td>\n      <td>773.578883</td>\n      <td>45.662136</td>\n      <td>35.817836</td>\n    </tr>\n    <tr>\n      <th>std</th>\n      <td>104.507142</td>\n      <td>86.279104</td>\n      <td>63.996469</td>\n      <td>21.355567</td>\n      <td>5.973492</td>\n      <td>77.753818</td>\n      <td>80.175427</td>\n      <td>63.169912</td>\n      <td>16.705679</td>\n    </tr>\n    <tr>\n      <th>min</th>\n      <td>102.000000</td>\n      <td>0.000000</td>\n      <td>0.000000</td>\n      <td>121.750000</td>\n      <td>0.000000</td>\n      <td>801.000000</td>\n      <td>594.000000</td>\n      <td>1.000000</td>\n      <td>2.331808</td>\n    </tr>\n    <tr>\n      <th>25%</th>\n      <td>192.375000</td>\n      <td>0.000000</td>\n      <td>0.000000</td>\n      <td>164.900000</td>\n      <td>0.000000</td>\n      <td>932.000000</td>\n      <td>730.950000</td>\n      <td>7.000000</td>\n      <td>23.707115</td>\n    </tr>\n    <tr>\n      <th>50%</th>\n      <td>272.900000</td>\n      <td>22.000000</td>\n      <td>0.000000</td>\n      <td>185.000000</td>\n      <td>6.350000</td>\n      <td>968.000000</td>\n      <td>779.510000</td>\n      <td>28.000000</td>\n      <td>34.442774</td>\n    </tr>\n    <tr>\n      <th>75%</th>\n      <td>350.000000</td>\n      <td>142.950000</td>\n      <td>118.270000</td>\n      <td>192.000000</td>\n      <td>10.160000</td>\n      <td>1029.400000</td>\n      <td>824.000000</td>\n      <td>56.000000</td>\n      <td>46.136287</td>\n    </tr>\n    <tr>\n      <th>max</th>\n      <td>540.000000</td>\n      <td>359.400000</td>\n      <td>200.100000</td>\n      <td>247.000000</td>\n      <td>32.200000</td>\n      <td>1145.000000</td>\n      <td>992.600000</td>\n      <td>365.000000</td>\n      <td>82.599225</td>\n    </tr>\n  </tbody>\n</table>\n</div>"
     },
     "execution_count": 195,
     "metadata": {},
     "output_type": "execute_result"
    }
   ],
   "source": [
    "df.describe()"
   ],
   "metadata": {
    "collapsed": false
   }
  },
  {
   "cell_type": "markdown",
   "source": [
    ".describe() gives us information about how many values each column contains, the mean, standard deviation, and different percentiles. .describe() can only handle numeric values.\n",
    "I can see no indication of missing values (Will double check)\n",
    "I cannot see any strange values."
   ],
   "metadata": {
    "collapsed": false
   }
  },
  {
   "cell_type": "markdown",
   "source": [
    "## Dataset Dictionary"
   ],
   "metadata": {
    "collapsed": false
   }
  },
  {
   "cell_type": "markdown",
   "source": [
    "- Cement: ...\n",
    "- Blast Furnace Slag: By product of steel manufacturing\n",
    "- Fly Ash: Product of coal combustion\n",
    "- Water: ...\n",
    "- Superplasticizer: reduces the amount of water needed\n",
    "- Coarse Aggregate: small rocks (norsk = pukk)\n",
    "- Age: ...\n",
    "- Concreate compressive strength: Strength"
   ],
   "metadata": {
    "collapsed": false
   }
  },
  {
   "cell_type": "markdown",
   "source": [
    "# Cleaning the dataset"
   ],
   "metadata": {
    "collapsed": false
   }
  },
  {
   "cell_type": "code",
   "execution_count": 196,
   "outputs": [],
   "source": [
    "df.rename(columns={'Cement (component 1)(kg in a m^3 mixture)':'Cement'}, inplace=True)\n",
    "df.rename(columns={'Blast Furnace Slag (component 2)(kg in a m^3 mixture)':'Blast Furnace Slag'}, inplace=True)\n",
    "df.rename(columns={'Fly Ash (component 3)(kg in a m^3 mixture)':'Fly Ash'}, inplace=True)\n",
    "df.rename(columns={'Water  (component 4)(kg in a m^3 mixture)':'Water'}, inplace=True)\n",
    "df.rename(columns={'Superplasticizer (component 5)(kg in a m^3 mixture)':'Superplasticizer'}, inplace=True)\n",
    "df.rename(columns={'Coarse Aggregate  (component 6)(kg in a m^3 mixture)':'Coarse Aggregate'}, inplace=True)\n",
    "df.rename(columns={'Fine Aggregate (component 7)(kg in a m^3 mixture)':'Fine Aggregate'}, inplace=True)\n",
    "df.rename(columns={'Age (day)':'Age'}, inplace=True)\n",
    "df.rename(columns={'Concrete compressive strength(MPa, megapascals) ':'Strength'}, inplace=True)"
   ],
   "metadata": {
    "collapsed": false
   }
  },
  {
   "cell_type": "markdown",
   "source": [
    "Renaming every column to make them more readable and easier to use"
   ],
   "metadata": {
    "collapsed": false
   }
  },
  {
   "cell_type": "code",
   "execution_count": 197,
   "outputs": [
    {
     "data": {
      "text/plain": "   Cement  Blast Furnace Slag  Fly Ash  Water  Superplasticizer  \\\n0   540.0                 0.0      0.0  162.0               2.5   \n1   540.0                 0.0      0.0  162.0               2.5   \n2   332.5               142.5      0.0  228.0               0.0   \n3   332.5               142.5      0.0  228.0               0.0   \n4   198.6               132.4      0.0  192.0               0.0   \n\n   Coarse Aggregate  Fine Aggregate  Age   Strength  \n0            1040.0           676.0   28  79.986111  \n1            1055.0           676.0   28  61.887366  \n2             932.0           594.0  270  40.269535  \n3             932.0           594.0  365  41.052780  \n4             978.4           825.5  360  44.296075  ",
      "text/html": "<div>\n<style scoped>\n    .dataframe tbody tr th:only-of-type {\n        vertical-align: middle;\n    }\n\n    .dataframe tbody tr th {\n        vertical-align: top;\n    }\n\n    .dataframe thead th {\n        text-align: right;\n    }\n</style>\n<table border=\"1\" class=\"dataframe\">\n  <thead>\n    <tr style=\"text-align: right;\">\n      <th></th>\n      <th>Cement</th>\n      <th>Blast Furnace Slag</th>\n      <th>Fly Ash</th>\n      <th>Water</th>\n      <th>Superplasticizer</th>\n      <th>Coarse Aggregate</th>\n      <th>Fine Aggregate</th>\n      <th>Age</th>\n      <th>Strength</th>\n    </tr>\n  </thead>\n  <tbody>\n    <tr>\n      <th>0</th>\n      <td>540.0</td>\n      <td>0.0</td>\n      <td>0.0</td>\n      <td>162.0</td>\n      <td>2.5</td>\n      <td>1040.0</td>\n      <td>676.0</td>\n      <td>28</td>\n      <td>79.986111</td>\n    </tr>\n    <tr>\n      <th>1</th>\n      <td>540.0</td>\n      <td>0.0</td>\n      <td>0.0</td>\n      <td>162.0</td>\n      <td>2.5</td>\n      <td>1055.0</td>\n      <td>676.0</td>\n      <td>28</td>\n      <td>61.887366</td>\n    </tr>\n    <tr>\n      <th>2</th>\n      <td>332.5</td>\n      <td>142.5</td>\n      <td>0.0</td>\n      <td>228.0</td>\n      <td>0.0</td>\n      <td>932.0</td>\n      <td>594.0</td>\n      <td>270</td>\n      <td>40.269535</td>\n    </tr>\n    <tr>\n      <th>3</th>\n      <td>332.5</td>\n      <td>142.5</td>\n      <td>0.0</td>\n      <td>228.0</td>\n      <td>0.0</td>\n      <td>932.0</td>\n      <td>594.0</td>\n      <td>365</td>\n      <td>41.052780</td>\n    </tr>\n    <tr>\n      <th>4</th>\n      <td>198.6</td>\n      <td>132.4</td>\n      <td>0.0</td>\n      <td>192.0</td>\n      <td>0.0</td>\n      <td>978.4</td>\n      <td>825.5</td>\n      <td>360</td>\n      <td>44.296075</td>\n    </tr>\n  </tbody>\n</table>\n</div>"
     },
     "execution_count": 197,
     "metadata": {},
     "output_type": "execute_result"
    }
   ],
   "source": [
    "df.head()"
   ],
   "metadata": {
    "collapsed": false
   }
  },
  {
   "cell_type": "markdown",
   "source": [
    "Dataframe after renaming"
   ],
   "metadata": {
    "collapsed": false
   }
  },
  {
   "cell_type": "markdown",
   "source": [
    "## Null-values"
   ],
   "metadata": {
    "collapsed": false
   }
  },
  {
   "cell_type": "code",
   "execution_count": 198,
   "outputs": [
    {
     "data": {
      "text/plain": "Cement                0\nBlast Furnace Slag    0\nFly Ash               0\nWater                 0\nSuperplasticizer      0\nCoarse Aggregate      0\nFine Aggregate        0\nAge                   0\nStrength              0\ndtype: int64"
     },
     "execution_count": 198,
     "metadata": {},
     "output_type": "execute_result"
    }
   ],
   "source": [
    "df.isnull().sum()"
   ],
   "metadata": {
    "collapsed": false
   }
  },
  {
   "cell_type": "markdown",
   "source": [
    "The dataset contains zero null values"
   ],
   "metadata": {
    "collapsed": false
   }
  },
  {
   "cell_type": "markdown",
   "source": [
    "## Feature engineering (Makes it easier to analyse features)"
   ],
   "metadata": {
    "collapsed": false
   }
  },
  {
   "cell_type": "code",
   "execution_count": 199,
   "outputs": [
    {
     "data": {
      "text/plain": "0         (452.4, 540.0]\n1         (452.4, 540.0]\n2         (277.2, 364.8]\n3         (277.2, 364.8]\n4         (189.6, 277.2]\n              ...       \n1025      (189.6, 277.2]\n1026      (277.2, 364.8]\n1027    (101.562, 189.6]\n1028    (101.562, 189.6]\n1029      (189.6, 277.2]\nName: Cement, Length: 1030, dtype: category\nCategories (5, interval[float64, right]): [(101.562, 189.6] < (189.6, 277.2] < (277.2, 364.8] < (364.8, 452.4] < (452.4, 540.0]]"
     },
     "execution_count": 199,
     "metadata": {},
     "output_type": "execute_result"
    }
   ],
   "source": [
    "pd.cut(df['Cement'], 5)"
   ],
   "metadata": {
    "collapsed": false
   }
  },
  {
   "cell_type": "code",
   "execution_count": 200,
   "outputs": [
    {
     "data": {
      "text/plain": "0        (-0.359, 71.88]\n1        (-0.359, 71.88]\n2        (71.88, 143.76]\n3        (71.88, 143.76]\n4        (71.88, 143.76]\n              ...       \n1025     (71.88, 143.76]\n1026     (-0.359, 71.88]\n1027     (71.88, 143.76]\n1028    (143.76, 215.64]\n1029     (71.88, 143.76]\nName: Blast Furnace Slag, Length: 1030, dtype: category\nCategories (5, interval[float64, right]): [(-0.359, 71.88] < (71.88, 143.76] < (143.76, 215.64] < (215.64, 287.52] < (287.52, 359.4]]"
     },
     "execution_count": 200,
     "metadata": {},
     "output_type": "execute_result"
    }
   ],
   "source": [
    "pd.cut(df['Blast Furnace Slag'], 5)"
   ],
   "metadata": {
    "collapsed": false
   }
  },
  {
   "cell_type": "code",
   "execution_count": 201,
   "outputs": [
    {
     "data": {
      "text/plain": "0         (-0.2, 40.02]\n1         (-0.2, 40.02]\n2         (-0.2, 40.02]\n3         (-0.2, 40.02]\n4         (-0.2, 40.02]\n             ...       \n1025    (80.04, 120.06]\n1026    (80.04, 120.06]\n1027    (80.04, 120.06]\n1028      (-0.2, 40.02]\n1029     (40.02, 80.04]\nName: Fly Ash, Length: 1030, dtype: category\nCategories (5, interval[float64, right]): [(-0.2, 40.02] < (40.02, 80.04] < (80.04, 120.06] < (120.06, 160.08] < (160.08, 200.1]]"
     },
     "execution_count": 201,
     "metadata": {},
     "output_type": "execute_result"
    }
   ],
   "source": [
    "pd.cut(df['Fly Ash'], 5)"
   ],
   "metadata": {
    "collapsed": false
   }
  },
  {
   "cell_type": "code",
   "execution_count": 202,
   "outputs": [
    {
     "data": {
      "text/plain": "0       (146.8, 171.85]\n1       (146.8, 171.85]\n2       (221.95, 247.0]\n3       (221.95, 247.0]\n4       (171.85, 196.9]\n             ...       \n1025    (171.85, 196.9]\n1026    (171.85, 196.9]\n1027    (171.85, 196.9]\n1028    (171.85, 196.9]\n1029    (196.9, 221.95]\nName: Water, Length: 1030, dtype: category\nCategories (5, interval[float64, right]): [(121.625, 146.8] < (146.8, 171.85] < (171.85, 196.9] < (196.9, 221.95] < (221.95, 247.0]]"
     },
     "execution_count": 202,
     "metadata": {},
     "output_type": "execute_result"
    }
   ],
   "source": [
    "pd.cut(df['Water'], 5)"
   ],
   "metadata": {
    "collapsed": false
   }
  },
  {
   "cell_type": "code",
   "execution_count": 203,
   "outputs": [
    {
     "data": {
      "text/plain": "0       (-0.0322, 6.44]\n1       (-0.0322, 6.44]\n2       (-0.0322, 6.44]\n3       (-0.0322, 6.44]\n4       (-0.0322, 6.44]\n             ...       \n1025      (6.44, 12.88]\n1026      (6.44, 12.88]\n1027    (-0.0322, 6.44]\n1028      (6.44, 12.88]\n1029      (6.44, 12.88]\nName: Superplasticizer, Length: 1030, dtype: category\nCategories (5, interval[float64, right]): [(-0.0322, 6.44] < (6.44, 12.88] < (12.88, 19.32] < (19.32, 25.76] < (25.76, 32.2]]"
     },
     "execution_count": 203,
     "metadata": {},
     "output_type": "execute_result"
    }
   ],
   "source": [
    "pd.cut(df['Superplasticizer'], 5)"
   ],
   "metadata": {
    "collapsed": false
   }
  },
  {
   "cell_type": "code",
   "execution_count": 204,
   "outputs": [
    {
     "data": {
      "text/plain": "0       (1007.4, 1076.2]\n1       (1007.4, 1076.2]\n2         (869.8, 938.6]\n3         (869.8, 938.6]\n4        (938.6, 1007.4]\n              ...       \n1025      (869.8, 938.6]\n1026    (800.656, 869.8]\n1027      (869.8, 938.6]\n1028     (938.6, 1007.4]\n1029    (800.656, 869.8]\nName: Coarse Aggregate, Length: 1030, dtype: category\nCategories (5, interval[float64, right]): [(800.656, 869.8] < (869.8, 938.6] < (938.6, 1007.4] < (1007.4, 1076.2] < (1076.2, 1145.0]]"
     },
     "execution_count": 204,
     "metadata": {},
     "output_type": "execute_result"
    }
   ],
   "source": [
    "pd.cut(df['Coarse Aggregate'], 5)"
   ],
   "metadata": {
    "collapsed": false
   }
  },
  {
   "cell_type": "code",
   "execution_count": 205,
   "outputs": [
    {
     "data": {
      "text/plain": "0        (673.72, 753.44]\n1        (673.72, 753.44]\n2       (593.601, 673.72]\n3       (593.601, 673.72]\n4        (753.44, 833.16]\n              ...        \n1025     (753.44, 833.16]\n1026     (753.44, 833.16]\n1027     (753.44, 833.16]\n1028     (753.44, 833.16]\n1029     (753.44, 833.16]\nName: Fine Aggregate, Length: 1030, dtype: category\nCategories (5, interval[float64, right]): [(593.601, 673.72] < (673.72, 753.44] < (753.44, 833.16] < (833.16, 912.88] < (912.88, 992.6]]"
     },
     "execution_count": 205,
     "metadata": {},
     "output_type": "execute_result"
    }
   ],
   "source": [
    "pd.cut(df['Fine Aggregate'], 5)"
   ],
   "metadata": {
    "collapsed": false
   }
  },
  {
   "cell_type": "code",
   "execution_count": 206,
   "outputs": [
    {
     "data": {
      "text/plain": "0        (0.636, 73.8]\n1        (0.636, 73.8]\n2       (219.4, 292.2]\n3       (292.2, 365.0]\n4       (292.2, 365.0]\n             ...      \n1025     (0.636, 73.8]\n1026     (0.636, 73.8]\n1027     (0.636, 73.8]\n1028     (0.636, 73.8]\n1029     (0.636, 73.8]\nName: Age, Length: 1030, dtype: category\nCategories (5, interval[float64, right]): [(0.636, 73.8] < (73.8, 146.6] < (146.6, 219.4] < (219.4, 292.2] < (292.2, 365.0]]"
     },
     "execution_count": 206,
     "metadata": {},
     "output_type": "execute_result"
    }
   ],
   "source": [
    "pd.cut(df['Age'], 5)"
   ],
   "metadata": {
    "collapsed": false
   }
  },
  {
   "cell_type": "code",
   "execution_count": 207,
   "outputs": [
    {
     "data": {
      "text/plain": "0       (66.546, 82.599]\n1       (50.492, 66.546]\n2       (34.439, 50.492]\n3       (34.439, 50.492]\n4       (34.439, 50.492]\n              ...       \n1025    (34.439, 50.492]\n1026    (18.385, 34.439]\n1027    (18.385, 34.439]\n1028    (18.385, 34.439]\n1029    (18.385, 34.439]\nName: Strength, Length: 1030, dtype: category\nCategories (5, interval[float64, right]): [(2.252, 18.385] < (18.385, 34.439] < (34.439, 50.492] < (50.492, 66.546] < (66.546, 82.599]]"
     },
     "execution_count": 207,
     "metadata": {},
     "output_type": "execute_result"
    }
   ],
   "source": [
    "pd.cut(df['Strength'], 5)"
   ],
   "metadata": {
    "collapsed": false
   }
  },
  {
   "cell_type": "code",
   "execution_count": 208,
   "outputs": [
    {
     "data": {
      "text/plain": "   Cement  Blast Furnace Slag  Fly Ash  Water  Superplasticizer  \\\n0   540.0                 0.0      0.0  162.0               2.5   \n1   540.0                 0.0      0.0  162.0               2.5   \n2   332.5               142.5      0.0  228.0               0.0   \n3   332.5               142.5      0.0  228.0               0.0   \n4   198.6               132.4      0.0  192.0               0.0   \n\n   Coarse Aggregate  Fine Aggregate  Age   Strength  CementGroup  BlastGroup  \\\n0            1040.0           676.0   28  79.986111            4           0   \n1            1055.0           676.0   28  61.887366            4           0   \n2             932.0           594.0  270  40.269535            2           1   \n3             932.0           594.0  365  41.052780            2           1   \n4             978.4           825.5  360  44.296075            1           1   \n\n   FlyGroup  WaterGroup  SuperplasticizerGroup  CoarseGroup  FineGroup  \\\n0         0           1                      0            3          1   \n1         0           1                      0            3          1   \n2         0           4                      0            1          0   \n3         0           4                      0            1          0   \n4         0           2                      0            2          2   \n\n   AgeGroup  StrengthGroup  \n0         0              4  \n1         0              3  \n2         3              2  \n3         4              2  \n4         4              2  ",
      "text/html": "<div>\n<style scoped>\n    .dataframe tbody tr th:only-of-type {\n        vertical-align: middle;\n    }\n\n    .dataframe tbody tr th {\n        vertical-align: top;\n    }\n\n    .dataframe thead th {\n        text-align: right;\n    }\n</style>\n<table border=\"1\" class=\"dataframe\">\n  <thead>\n    <tr style=\"text-align: right;\">\n      <th></th>\n      <th>Cement</th>\n      <th>Blast Furnace Slag</th>\n      <th>Fly Ash</th>\n      <th>Water</th>\n      <th>Superplasticizer</th>\n      <th>Coarse Aggregate</th>\n      <th>Fine Aggregate</th>\n      <th>Age</th>\n      <th>Strength</th>\n      <th>CementGroup</th>\n      <th>BlastGroup</th>\n      <th>FlyGroup</th>\n      <th>WaterGroup</th>\n      <th>SuperplasticizerGroup</th>\n      <th>CoarseGroup</th>\n      <th>FineGroup</th>\n      <th>AgeGroup</th>\n      <th>StrengthGroup</th>\n    </tr>\n  </thead>\n  <tbody>\n    <tr>\n      <th>0</th>\n      <td>540.0</td>\n      <td>0.0</td>\n      <td>0.0</td>\n      <td>162.0</td>\n      <td>2.5</td>\n      <td>1040.0</td>\n      <td>676.0</td>\n      <td>28</td>\n      <td>79.986111</td>\n      <td>4</td>\n      <td>0</td>\n      <td>0</td>\n      <td>1</td>\n      <td>0</td>\n      <td>3</td>\n      <td>1</td>\n      <td>0</td>\n      <td>4</td>\n    </tr>\n    <tr>\n      <th>1</th>\n      <td>540.0</td>\n      <td>0.0</td>\n      <td>0.0</td>\n      <td>162.0</td>\n      <td>2.5</td>\n      <td>1055.0</td>\n      <td>676.0</td>\n      <td>28</td>\n      <td>61.887366</td>\n      <td>4</td>\n      <td>0</td>\n      <td>0</td>\n      <td>1</td>\n      <td>0</td>\n      <td>3</td>\n      <td>1</td>\n      <td>0</td>\n      <td>3</td>\n    </tr>\n    <tr>\n      <th>2</th>\n      <td>332.5</td>\n      <td>142.5</td>\n      <td>0.0</td>\n      <td>228.0</td>\n      <td>0.0</td>\n      <td>932.0</td>\n      <td>594.0</td>\n      <td>270</td>\n      <td>40.269535</td>\n      <td>2</td>\n      <td>1</td>\n      <td>0</td>\n      <td>4</td>\n      <td>0</td>\n      <td>1</td>\n      <td>0</td>\n      <td>3</td>\n      <td>2</td>\n    </tr>\n    <tr>\n      <th>3</th>\n      <td>332.5</td>\n      <td>142.5</td>\n      <td>0.0</td>\n      <td>228.0</td>\n      <td>0.0</td>\n      <td>932.0</td>\n      <td>594.0</td>\n      <td>365</td>\n      <td>41.052780</td>\n      <td>2</td>\n      <td>1</td>\n      <td>0</td>\n      <td>4</td>\n      <td>0</td>\n      <td>1</td>\n      <td>0</td>\n      <td>4</td>\n      <td>2</td>\n    </tr>\n    <tr>\n      <th>4</th>\n      <td>198.6</td>\n      <td>132.4</td>\n      <td>0.0</td>\n      <td>192.0</td>\n      <td>0.0</td>\n      <td>978.4</td>\n      <td>825.5</td>\n      <td>360</td>\n      <td>44.296075</td>\n      <td>1</td>\n      <td>1</td>\n      <td>0</td>\n      <td>2</td>\n      <td>0</td>\n      <td>2</td>\n      <td>2</td>\n      <td>4</td>\n      <td>2</td>\n    </tr>\n  </tbody>\n</table>\n</div>"
     },
     "execution_count": 208,
     "metadata": {},
     "output_type": "execute_result"
    }
   ],
   "source": [
    "def bins(df): # This is kind of feature engineering as well\n",
    "    df['CementGroup'] = 0\n",
    "    df.loc[df['Cement'] < 189.6, 'CementGroup' ] = 0\n",
    "    df.loc[(df['Cement'] >= 189.6) & (df['Cement'] < 277.2), 'CementGroup'] = 1\n",
    "    df.loc[(df['Cement'] >= 277.2) & (df['Cement'] < 364.8), 'CementGroup'] = 2\n",
    "    df.loc[(df['Cement'] >= 364.8) & (df['Cement'] < 452.4), 'CementGroup'] = 3\n",
    "    df.loc[df['Cement'] >= 452.4, 'CementGroup'] = 4\n",
    "\n",
    "    df['BlastGroup'] = 0\n",
    "    df.loc[df['Blast Furnace Slag'] < 71.88, 'BlastGroup' ] = 0\n",
    "    df.loc[(df['Blast Furnace Slag'] >= 71.88) & (df['Blast Furnace Slag'] < 143.76), 'BlastGroup'] = 1\n",
    "    df.loc[(df['Blast Furnace Slag'] >= 143.76) & (df['Blast Furnace Slag'] < 215.64), 'BlastGroup'] = 2\n",
    "    df.loc[(df['Blast Furnace Slag'] >= 215.64) & (df['Blast Furnace Slag'] < 287.52), 'BlastGroup'] = 3\n",
    "    df.loc[df['Blast Furnace Slag'] >= 287.52, 'BlastGroup'] = 4\n",
    "\n",
    "    df['FlyGroup'] = 0\n",
    "    df.loc[df['Fly Ash'] < 40.02, 'FlyGroup' ] = 0\n",
    "    df.loc[(df['Fly Ash'] >= 40.02) & (df['Fly Ash'] < 80.04), 'FlyGroup'] = 1\n",
    "    df.loc[(df['Fly Ash'] >= 80.04) & (df['Fly Ash'] < 120.06), 'FlyGroup'] = 2\n",
    "    df.loc[(df['Fly Ash'] >= 120.06) & (df['Fly Ash'] < 160.08), 'FlyGroup'] = 3\n",
    "    df.loc[df['Fly Ash'] >= 160.08, 'FlyGroup'] = 4\n",
    "\n",
    "    df['WaterGroup'] = 0\n",
    "    df.loc[df['Water'] < 146.8, 'WaterGroup' ] = 0\n",
    "    df.loc[(df['Water'] >= 146.8) & (df['Water'] < 171.85), 'WaterGroup'] = 1\n",
    "    df.loc[(df['Water'] >= 171.85) & (df['Water'] < 196.9), 'WaterGroup'] = 2\n",
    "    df.loc[(df['Water'] >= 196.9) & (df['Water'] < 221.95), 'WaterGroup'] = 3\n",
    "    df.loc[df['Water'] >= 221.95, 'WaterGroup'] = 4\n",
    "\n",
    "    df['SuperplasticizerGroup'] = 0\n",
    "    df.loc[df['Superplasticizer'] < 6.44, 'SuperplasticizerGroup' ] = 0\n",
    "    df.loc[(df['Superplasticizer'] >= 6.44) & (df['Superplasticizer'] < 12.88), 'SuperplasticizerGroup'] = 1\n",
    "    df.loc[(df['Superplasticizer'] >= 12.88) & (df['Superplasticizer'] < 19.32), 'SuperplasticizerGroup'] = 2\n",
    "    df.loc[(df['Superplasticizer'] >= 19.32) & (df['Superplasticizer'] < 25.76), 'SuperplasticizerGroup'] = 3\n",
    "    df.loc[df['Superplasticizer'] >= 25.76, 'SuperplasticizerGroup'] = 4\n",
    "\n",
    "    df['CoarseGroup'] = 0\n",
    "    df.loc[df['Coarse Aggregate'] < 869.8, 'CoarseGroup' ] = 0\n",
    "    df.loc[(df['Coarse Aggregate'] >= 869.8) & (df['Coarse Aggregate'] < 938.6), 'CoarseGroup'] = 1\n",
    "    df.loc[(df['Coarse Aggregate'] >= 938.6) & (df['Coarse Aggregate'] < 1007.4), 'CoarseGroup'] = 2\n",
    "    df.loc[(df['Coarse Aggregate'] >= 1007.4) & (df['Coarse Aggregate'] < 1076.2), 'CoarseGroup'] = 3\n",
    "    df.loc[df['Coarse Aggregate'] >= 1076.2, 'CoarseGroup'] = 4\n",
    "\n",
    "    df['FineGroup'] = 0\n",
    "    df.loc[df['Fine Aggregate'] < 673.72, 'FineGroup' ] = 0\n",
    "    df.loc[(df['Fine Aggregate'] >= 673.72) & (df['Fine Aggregate'] < 753.44), 'FineGroup'] = 1\n",
    "    df.loc[(df['Fine Aggregate'] >= 753.44) & (df['Fine Aggregate'] < 833.16), 'FineGroup'] = 2\n",
    "    df.loc[(df['Fine Aggregate'] >= 833.16) & (df['Fine Aggregate'] < 912.88), 'FineGroup'] = 3\n",
    "    df.loc[df['Fine Aggregate'] >= 912.88, 'FineGroup'] = 4\n",
    "\n",
    "    df['AgeGroup'] = 0\n",
    "    df.loc[df['Age'] < 73.8, 'AgeGroup' ] = 0\n",
    "    df.loc[(df['Age'] >= 73.8) & (df['Age'] < 146.6), 'AgeGroup'] = 1\n",
    "    df.loc[(df['Age'] >= 146.6) & (df['Age'] < 219.4), 'AgeGroup'] = 2\n",
    "    df.loc[(df['Age'] >= 219.4) & (df['Age'] < 292.2), 'AgeGroup'] = 3\n",
    "    df.loc[df['Age'] >= 292.2, 'AgeGroup'] = 4\n",
    "\n",
    "    df['StrengthGroup'] = 0\n",
    "    df.loc[df['Strength'] < 18.385, 'StrengthGroup' ] = 0\n",
    "    df.loc[(df['Strength'] >= 18.385) & (df['Strength'] < 34.439), 'StrengthGroup'] = 1\n",
    "    df.loc[(df['Strength'] >= 34.439) & (df['Strength'] < 50.492), 'StrengthGroup'] = 2\n",
    "    df.loc[(df['Strength'] >= 50.492) & (df['Strength'] < 66.546), 'StrengthGroup'] = 3\n",
    "    df.loc[df['Strength'] >= 66.546, 'StrengthGroup'] = 4\n",
    "\n",
    "    df.drop(columns=['Cement', 'Blast Furnace Slag', 'Fly Ash', 'Water', 'Superplasticizer', 'Coarse Aggregate', 'Fine Aggregate', 'Age', 'Strength'])\n",
    "\n",
    "    return df\n",
    "\n",
    "df_bins = bins(df)\n",
    "df_bins.head()"
   ],
   "metadata": {
    "collapsed": false
   }
  },
  {
   "cell_type": "markdown",
   "source": [
    "Here I've used a strategy called binning. The purpose of binning is to convert numerical values into categorical. This makes it easier to do Feature Correlation Analysis."
   ],
   "metadata": {
    "collapsed": false
   }
  },
  {
   "cell_type": "markdown",
   "source": [
    "# Feature Analysis"
   ],
   "metadata": {
    "collapsed": false
   }
  },
  {
   "cell_type": "markdown",
   "source": [
    "## Univariate Analysis"
   ],
   "metadata": {
    "collapsed": false
   }
  },
  {
   "cell_type": "code",
   "execution_count": 209,
   "outputs": [
    {
     "data": {
      "text/plain": "Text(0.5, 1.0, 'Strength')"
     },
     "execution_count": 209,
     "metadata": {},
     "output_type": "execute_result"
    },
    {
     "data": {
      "text/plain": "<Figure size 2304x1152 with 9 Axes>",
      "image/png": "[encoded data removed]"
     },
     "metadata": {},
     "output_type": "display_data"
    }
   ],
   "source": [
    "fig = plt.figure(figsize=(32,16))\n",
    "gs = fig.add_gridspec(3,3)\n",
    "plot1 = fig.add_subplot(gs[0,0])\n",
    "plot2 = fig.add_subplot(gs[0,1])\n",
    "plot3 = fig.add_subplot(gs[0,2])\n",
    "plot4 = fig.add_subplot(gs[1,0])\n",
    "plot5 = fig.add_subplot(gs[1,1])\n",
    "plot6 = fig.add_subplot(gs[1,2])\n",
    "plot7 = fig.add_subplot(gs[2,0])\n",
    "plot8 = fig.add_subplot(gs[2,1])\n",
    "plot9 = fig.add_subplot(gs[2,2])\n",
    "\n",
    "sns.boxplot(ax=plot1,x=df['Cement'])\n",
    "plot1.set_title('Cement')\n",
    "\n",
    "sns.boxplot(ax=plot2,x=df['Blast Furnace Slag'])\n",
    "plot2.set_title('Blast Furnace Slag')\n",
    "\n",
    "sns.boxplot(ax=plot3,x=df['Fly Ash'])\n",
    "plot3.set_title('Fly Ash')\n",
    "\n",
    "sns.boxplot(ax=plot4,x=df['Water'])\n",
    "plot4.set_title('Water')\n",
    "\n",
    "sns.boxplot(ax=plot5,x=df['Superplasticizer'])\n",
    "plot5.set_title('Superplasticizer')\n",
    "\n",
    "sns.boxplot(ax=plot6,x=df['Coarse Aggregate'])\n",
    "plot6.set_title('Coarse Aggregate')\n",
    "\n",
    "sns.boxplot(ax=plot7,x=df['Fine Aggregate'])\n",
    "plot7.set_title('Fine Aggregate')\n",
    "\n",
    "sns.boxplot(ax=plot8,x=df['Age'])\n",
    "plot8.set_title('Age')\n",
    "\n",
    "sns.boxplot(ax=plot9,x=df['Strength'])\n",
    "plot9.set_title('Strength')"
   ],
   "metadata": {
    "collapsed": false
   }
  },
  {
   "cell_type": "markdown",
   "source": [
    "I've chosen to boxplot to give us an easy to understand visual representation of how the different features are distributed.\n",
    "Most features are pretty evenly distributed, but some features has some major outliers. This could be a problem for some algorithms."
   ],
   "metadata": {
    "collapsed": false
   }
  },
  {
   "cell_type": "markdown",
   "source": [
    "## Multivariate Analysis\n",
    "Could have analyzed the correlation between all features, but this would have taken too much time."
   ],
   "metadata": {
    "collapsed": false
   }
  },
  {
   "cell_type": "code",
   "execution_count": 210,
   "outputs": [
    {
     "data": {
      "text/plain": "   CementGroup  StrengthGroup\n0            0       0.944444\n1            1       1.327974\n2            2       1.793893\n3            3       2.208054\n4            4       2.648649",
      "text/html": "<div>\n<style scoped>\n    .dataframe tbody tr th:only-of-type {\n        vertical-align: middle;\n    }\n\n    .dataframe tbody tr th {\n        vertical-align: top;\n    }\n\n    .dataframe thead th {\n        text-align: right;\n    }\n</style>\n<table border=\"1\" class=\"dataframe\">\n  <thead>\n    <tr style=\"text-align: right;\">\n      <th></th>\n      <th>CementGroup</th>\n      <th>StrengthGroup</th>\n    </tr>\n  </thead>\n  <tbody>\n    <tr>\n      <th>0</th>\n      <td>0</td>\n      <td>0.944444</td>\n    </tr>\n    <tr>\n      <th>1</th>\n      <td>1</td>\n      <td>1.327974</td>\n    </tr>\n    <tr>\n      <th>2</th>\n      <td>2</td>\n      <td>1.793893</td>\n    </tr>\n    <tr>\n      <th>3</th>\n      <td>3</td>\n      <td>2.208054</td>\n    </tr>\n    <tr>\n      <th>4</th>\n      <td>4</td>\n      <td>2.648649</td>\n    </tr>\n  </tbody>\n</table>\n</div>"
     },
     "execution_count": 210,
     "metadata": {},
     "output_type": "execute_result"
    }
   ],
   "source": [
    "df_bins[['StrengthGroup', 'CementGroup']].groupby(['CementGroup'], as_index=False, sort=True).mean()"
   ],
   "metadata": {
    "collapsed": false
   }
  },
  {
   "cell_type": "markdown",
   "source": [
    "Here we can see that the more cement the stronger the concrete gets"
   ],
   "metadata": {
    "collapsed": false
   }
  },
  {
   "cell_type": "code",
   "execution_count": 211,
   "outputs": [
    {
     "data": {
      "text/plain": "   BlastGroup  StrengthGroup\n0           0       1.440620\n1           1       1.854922\n2           2       1.753769\n3           3       1.536585\n4           4       1.375000",
      "text/html": "<div>\n<style scoped>\n    .dataframe tbody tr th:only-of-type {\n        vertical-align: middle;\n    }\n\n    .dataframe tbody tr th {\n        vertical-align: top;\n    }\n\n    .dataframe thead th {\n        text-align: right;\n    }\n</style>\n<table border=\"1\" class=\"dataframe\">\n  <thead>\n    <tr style=\"text-align: right;\">\n      <th></th>\n      <th>BlastGroup</th>\n      <th>StrengthGroup</th>\n    </tr>\n  </thead>\n  <tbody>\n    <tr>\n      <th>0</th>\n      <td>0</td>\n      <td>1.440620</td>\n    </tr>\n    <tr>\n      <th>1</th>\n      <td>1</td>\n      <td>1.854922</td>\n    </tr>\n    <tr>\n      <th>2</th>\n      <td>2</td>\n      <td>1.753769</td>\n    </tr>\n    <tr>\n      <th>3</th>\n      <td>3</td>\n      <td>1.536585</td>\n    </tr>\n    <tr>\n      <th>4</th>\n      <td>4</td>\n      <td>1.375000</td>\n    </tr>\n  </tbody>\n</table>\n</div>"
     },
     "execution_count": 211,
     "metadata": {},
     "output_type": "execute_result"
    }
   ],
   "source": [
    "df_bins[['StrengthGroup', 'BlastGroup']].groupby(['BlastGroup'], as_index=False, sort=True).mean()"
   ],
   "metadata": {
    "collapsed": false
   }
  },
  {
   "cell_type": "markdown",
   "source": [
    "The optimal BlastGroup is 1. This means that you want some Blast Furnace Slag, but adding too much will lead to a reduction in strength"
   ],
   "metadata": {
    "collapsed": false
   }
  },
  {
   "cell_type": "code",
   "execution_count": 212,
   "outputs": [
    {
     "data": {
      "text/plain": "   FlyGroup  StrengthGroup\n0         0       1.655766\n1         1       2.000000\n2         2       1.510526\n3         3       1.566038\n4         4       1.067568",
      "text/html": "<div>\n<style scoped>\n    .dataframe tbody tr th:only-of-type {\n        vertical-align: middle;\n    }\n\n    .dataframe tbody tr th {\n        vertical-align: top;\n    }\n\n    .dataframe thead th {\n        text-align: right;\n    }\n</style>\n<table border=\"1\" class=\"dataframe\">\n  <thead>\n    <tr style=\"text-align: right;\">\n      <th></th>\n      <th>FlyGroup</th>\n      <th>StrengthGroup</th>\n    </tr>\n  </thead>\n  <tbody>\n    <tr>\n      <th>0</th>\n      <td>0</td>\n      <td>1.655766</td>\n    </tr>\n    <tr>\n      <th>1</th>\n      <td>1</td>\n      <td>2.000000</td>\n    </tr>\n    <tr>\n      <th>2</th>\n      <td>2</td>\n      <td>1.510526</td>\n    </tr>\n    <tr>\n      <th>3</th>\n      <td>3</td>\n      <td>1.566038</td>\n    </tr>\n    <tr>\n      <th>4</th>\n      <td>4</td>\n      <td>1.067568</td>\n    </tr>\n  </tbody>\n</table>\n</div>"
     },
     "execution_count": 212,
     "metadata": {},
     "output_type": "execute_result"
    }
   ],
   "source": [
    "df_bins[['StrengthGroup', 'FlyGroup']].groupby(['FlyGroup'], as_index=False, sort=True).mean()"
   ],
   "metadata": {
    "collapsed": false
   }
  },
  {
   "cell_type": "markdown",
   "source": [
    "Once again the optimal group of Fly Ash is 1. Less and the strength decreases a little, too much and the strength decreases even more"
   ],
   "metadata": {
    "collapsed": false
   }
  },
  {
   "cell_type": "code",
   "execution_count": 213,
   "outputs": [
    {
     "data": {
      "text/plain": "   WaterGroup  StrengthGroup\n0           0       2.533333\n1           1       2.014545\n2           2       1.291417\n3           3       1.139706\n4           4       2.086207",
      "text/html": "<div>\n<style scoped>\n    .dataframe tbody tr th:only-of-type {\n        vertical-align: middle;\n    }\n\n    .dataframe tbody tr th {\n        vertical-align: top;\n    }\n\n    .dataframe thead th {\n        text-align: right;\n    }\n</style>\n<table border=\"1\" class=\"dataframe\">\n  <thead>\n    <tr style=\"text-align: right;\">\n      <th></th>\n      <th>WaterGroup</th>\n      <th>StrengthGroup</th>\n    </tr>\n  </thead>\n  <tbody>\n    <tr>\n      <th>0</th>\n      <td>0</td>\n      <td>2.533333</td>\n    </tr>\n    <tr>\n      <th>1</th>\n      <td>1</td>\n      <td>2.014545</td>\n    </tr>\n    <tr>\n      <th>2</th>\n      <td>2</td>\n      <td>1.291417</td>\n    </tr>\n    <tr>\n      <th>3</th>\n      <td>3</td>\n      <td>1.139706</td>\n    </tr>\n    <tr>\n      <th>4</th>\n      <td>4</td>\n      <td>2.086207</td>\n    </tr>\n  </tbody>\n</table>\n</div>"
     },
     "execution_count": 213,
     "metadata": {},
     "output_type": "execute_result"
    }
   ],
   "source": [
    "df_bins[['StrengthGroup', 'WaterGroup']].groupby(['WaterGroup'], as_index=False, sort=True).mean()"
   ],
   "metadata": {
    "collapsed": false
   }
  },
  {
   "cell_type": "markdown",
   "source": [
    "Here we can see a strange correlation between the amount of water and the strength. The absolutely strongest is close to no water, a 20% reduction when going to WaterGroup 1, a 50% reduction in strength from WaterGroup 0 to 2 and 3. At last, for WaterGroup 4, the strength increases."
   ],
   "metadata": {
    "collapsed": false
   }
  },
  {
   "cell_type": "code",
   "execution_count": 214,
   "outputs": [
    {
     "data": {
      "text/plain": "   SuperplasticizerGroup  StrengthGroup\n0                      0       1.256757\n1                      1       1.863208\n2                      2       1.875000\n3                      3       2.714286\n4                      4       3.000000",
      "text/html": "<div>\n<style scoped>\n    .dataframe tbody tr th:only-of-type {\n        vertical-align: middle;\n    }\n\n    .dataframe tbody tr th {\n        vertical-align: top;\n    }\n\n    .dataframe thead th {\n        text-align: right;\n    }\n</style>\n<table border=\"1\" class=\"dataframe\">\n  <thead>\n    <tr style=\"text-align: right;\">\n      <th></th>\n      <th>SuperplasticizerGroup</th>\n      <th>StrengthGroup</th>\n    </tr>\n  </thead>\n  <tbody>\n    <tr>\n      <th>0</th>\n      <td>0</td>\n      <td>1.256757</td>\n    </tr>\n    <tr>\n      <th>1</th>\n      <td>1</td>\n      <td>1.863208</td>\n    </tr>\n    <tr>\n      <th>2</th>\n      <td>2</td>\n      <td>1.875000</td>\n    </tr>\n    <tr>\n      <th>3</th>\n      <td>3</td>\n      <td>2.714286</td>\n    </tr>\n    <tr>\n      <th>4</th>\n      <td>4</td>\n      <td>3.000000</td>\n    </tr>\n  </tbody>\n</table>\n</div>"
     },
     "execution_count": 214,
     "metadata": {},
     "output_type": "execute_result"
    }
   ],
   "source": [
    "df_bins[['StrengthGroup', 'SuperplasticizerGroup']].groupby(['SuperplasticizerGroup'], as_index=False, sort=True).mean()"
   ],
   "metadata": {
    "collapsed": false
   }
  },
  {
   "cell_type": "markdown",
   "source": [
    "There is an clear correlation between more Super-plasticizer and Strength"
   ],
   "metadata": {
    "collapsed": false
   }
  },
  {
   "cell_type": "code",
   "execution_count": 215,
   "outputs": [
    {
     "data": {
      "text/plain": "   CoarseGroup  StrengthGroup\n0            0       1.984496\n1            1       1.705314\n2            2       1.538462\n3            3       1.380952\n4            4       1.401869",
      "text/html": "<div>\n<style scoped>\n    .dataframe tbody tr th:only-of-type {\n        vertical-align: middle;\n    }\n\n    .dataframe tbody tr th {\n        vertical-align: top;\n    }\n\n    .dataframe thead th {\n        text-align: right;\n    }\n</style>\n<table border=\"1\" class=\"dataframe\">\n  <thead>\n    <tr style=\"text-align: right;\">\n      <th></th>\n      <th>CoarseGroup</th>\n      <th>StrengthGroup</th>\n    </tr>\n  </thead>\n  <tbody>\n    <tr>\n      <th>0</th>\n      <td>0</td>\n      <td>1.984496</td>\n    </tr>\n    <tr>\n      <th>1</th>\n      <td>1</td>\n      <td>1.705314</td>\n    </tr>\n    <tr>\n      <th>2</th>\n      <td>2</td>\n      <td>1.538462</td>\n    </tr>\n    <tr>\n      <th>3</th>\n      <td>3</td>\n      <td>1.380952</td>\n    </tr>\n    <tr>\n      <th>4</th>\n      <td>4</td>\n      <td>1.401869</td>\n    </tr>\n  </tbody>\n</table>\n</div>"
     },
     "execution_count": 215,
     "metadata": {},
     "output_type": "execute_result"
    }
   ],
   "source": [
    "df_bins[['StrengthGroup', 'CoarseGroup']].groupby(['CoarseGroup'], as_index=False, sort=True).mean()"
   ],
   "metadata": {
    "collapsed": false
   }
  },
  {
   "cell_type": "markdown",
   "source": [
    "The less Coarse Aggregate the stronger the Concrete is"
   ],
   "metadata": {
    "collapsed": false
   }
  },
  {
   "cell_type": "code",
   "execution_count": 216,
   "outputs": [
    {
     "data": {
      "text/plain": "   FineGroup  StrengthGroup\n0          0       2.129771\n1          1       1.563725\n2          2       1.495726\n3          3       1.478049\n4          4       1.272727",
      "text/html": "<div>\n<style scoped>\n    .dataframe tbody tr th:only-of-type {\n        vertical-align: middle;\n    }\n\n    .dataframe tbody tr th {\n        vertical-align: top;\n    }\n\n    .dataframe thead th {\n        text-align: right;\n    }\n</style>\n<table border=\"1\" class=\"dataframe\">\n  <thead>\n    <tr style=\"text-align: right;\">\n      <th></th>\n      <th>FineGroup</th>\n      <th>StrengthGroup</th>\n    </tr>\n  </thead>\n  <tbody>\n    <tr>\n      <th>0</th>\n      <td>0</td>\n      <td>2.129771</td>\n    </tr>\n    <tr>\n      <th>1</th>\n      <td>1</td>\n      <td>1.563725</td>\n    </tr>\n    <tr>\n      <th>2</th>\n      <td>2</td>\n      <td>1.495726</td>\n    </tr>\n    <tr>\n      <th>3</th>\n      <td>3</td>\n      <td>1.478049</td>\n    </tr>\n    <tr>\n      <th>4</th>\n      <td>4</td>\n      <td>1.272727</td>\n    </tr>\n  </tbody>\n</table>\n</div>"
     },
     "execution_count": 216,
     "metadata": {},
     "output_type": "execute_result"
    }
   ],
   "source": [
    "df_bins[['StrengthGroup', 'FineGroup']].groupby(['FineGroup'], as_index=False, sort=True).mean()"
   ],
   "metadata": {
    "collapsed": false
   }
  },
  {
   "cell_type": "markdown",
   "source": [
    "The less Fine Aggregate the stronger the Concrete is"
   ],
   "metadata": {
    "collapsed": false
   }
  },
  {
   "cell_type": "code",
   "execution_count": 217,
   "outputs": [
    {
     "data": {
      "text/plain": "   AgeGroup  StrengthGroup\n0         0       1.415476\n1         1       2.358779\n2         2       2.038462\n3         3       2.769231\n4         4       2.100000",
      "text/html": "<div>\n<style scoped>\n    .dataframe tbody tr th:only-of-type {\n        vertical-align: middle;\n    }\n\n    .dataframe tbody tr th {\n        vertical-align: top;\n    }\n\n    .dataframe thead th {\n        text-align: right;\n    }\n</style>\n<table border=\"1\" class=\"dataframe\">\n  <thead>\n    <tr style=\"text-align: right;\">\n      <th></th>\n      <th>AgeGroup</th>\n      <th>StrengthGroup</th>\n    </tr>\n  </thead>\n  <tbody>\n    <tr>\n      <th>0</th>\n      <td>0</td>\n      <td>1.415476</td>\n    </tr>\n    <tr>\n      <th>1</th>\n      <td>1</td>\n      <td>2.358779</td>\n    </tr>\n    <tr>\n      <th>2</th>\n      <td>2</td>\n      <td>2.038462</td>\n    </tr>\n    <tr>\n      <th>3</th>\n      <td>3</td>\n      <td>2.769231</td>\n    </tr>\n    <tr>\n      <th>4</th>\n      <td>4</td>\n      <td>2.100000</td>\n    </tr>\n  </tbody>\n</table>\n</div>"
     },
     "execution_count": 217,
     "metadata": {},
     "output_type": "execute_result"
    }
   ],
   "source": [
    "df_bins[['StrengthGroup', 'AgeGroup']].groupby(['AgeGroup'], as_index=False, sort=True).mean()"
   ],
   "metadata": {
    "collapsed": false
   }
  },
  {
   "cell_type": "markdown",
   "source": [
    "The concrete is at its strongest in AgeGroup 3, weakest in 1."
   ],
   "metadata": {
    "collapsed": false
   }
  },
  {
   "cell_type": "code",
   "execution_count": 218,
   "outputs": [
    {
     "data": {
      "text/plain": "<AxesSubplot:>"
     },
     "execution_count": 218,
     "metadata": {},
     "output_type": "execute_result"
    },
    {
     "data": {
      "text/plain": "<Figure size 2304x1152 with 2 Axes>",
      "image/png": "[encoded data removed]"
     },
     "metadata": {},
     "output_type": "display_data"
    }
   ],
   "source": [
    "df = df.drop(columns=['CementGroup', 'BlastGroup', 'FlyGroup', 'WaterGroup', 'SuperplasticizerGroup', 'CoarseGroup', 'FineGroup', 'AgeGroup', 'StrengthGroup', 'Strength'])\n",
    "\n",
    "fig = plt.figure(figsize=(32,16))\n",
    "sns.heatmap(df.corr(), annot=True)"
   ],
   "metadata": {
    "collapsed": false
   }
  },
  {
   "cell_type": "markdown",
   "source": [
    "No two variables are so correlated that I feel confident to remove one of them.\n",
    "\n",
    "The correlation matrix indicates the correlation between each feature, excluding the ground truth.\n",
    "From this matrix we can see:\n",
    "- Correlation between Cement and: Fine Aggregate, Fly Ash and Blast Furnace Slag\n",
    "    - All these features have a negative correlation with Cement\n",
    "    - This makes it look like these three are a replacement for cement, meaning: if a mixture contains less cement, they have to mix in more of these three features\n",
    "- Correlation between Blast Furnace Slag and: Fine Aggregate, Coarse Aggregate, Water, Fly Ash and Cement\n",
    "    - All these features, except Water, have a negative correlation with Blast Furnace Slag\n",
    "    - A mixture with more water needs more Blast Furnace Slag or the other way around\n",
    "- Correlation between Superplasticizer and: Fine Aggregate, Coarse Aggregate, Water and Fly Ash\n",
    "    - Postive correlation with Fine Aggregate and Fly Ash\n",
    "    - A strong negative correlation with Water. Meaning, the more Superplasticizer, the less water\n",
    "- Correlation between Fly Ash and: Age, Superplasticizer, Water, Blast Furnace Slag and Cement\n",
    "    - All these features, except Superplasticizer, have a negative correlation with Fly Ash\n",
    "    - More Fly Ash = More Superplasticizer = less water\n",
    "\n",
    "(I stop here since all the features has already been talked about in correaltion with each other. No need to find correlation between coarse aggregate and cement, and correlation between cement and coarse aggregate)"
   ],
   "metadata": {
    "collapsed": false
   }
  },
  {
   "cell_type": "markdown",
   "source": [
    "I would love to discuss more about the correlations and why the correlations are the way they are, but I do simply not have the domain knowledge to do so"
   ],
   "metadata": {
    "collapsed": false
   }
  }
 ],
 "metadata": {
  "kernelspec": {
   "display_name": "Python 3",
   "language": "python",
   "name": "python3"
  },
  "language_info": {
   "codemirror_mode": {
    "name": "ipython",
    "version": 2
   },
   "file_extension": ".py",
   "mimetype": "text/x-python",
   "name": "python",
   "nbconvert_exporter": "python",
   "pygments_lexer": "ipython2",
   "version": "2.7.6"
  }
 },
 "nbformat": 4,
 "nbformat_minor": 0
}
