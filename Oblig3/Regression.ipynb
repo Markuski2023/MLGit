{
 "cells": [
  {
   "cell_type": "code",
   "execution_count": 115,
   "metadata": {
    "collapsed": true
   },
   "outputs": [],
   "source": [
    "import pandas as pd\n",
    "from sklearn.model_selection import train_test_split\n",
    "from xgboost import XGBRegressor\n",
    "from sklearn.model_selection import cross_val_score\n",
    "from sklearn.model_selection import GridSearchCV\n",
    "from sklearn.metrics import mean_squared_error, r2_score\n",
    "from sklearn.ensemble import RandomForestRegressor\n",
    "from sklearn.gaussian_process import GaussianProcessRegressor"
   ]
  },
  {
   "cell_type": "code",
   "execution_count": 116,
   "outputs": [],
   "source": [
    "df = pd.read_csv(r'C:\\Users\\marku\\Desktop\\ML\\MLGit\\datasets\\insurance.csv')"
   ],
   "metadata": {
    "collapsed": false
   }
  },
  {
   "cell_type": "code",
   "execution_count": 117,
   "outputs": [
    {
     "data": {
      "text/plain": "   age     bmi  children      charges  sex_female  sex_male  smoker_no  \\\n0   19  27.900         0  16884.92400           1         0          0   \n1   18  33.770         1   1725.55230           0         1          1   \n2   28  33.000         3   4449.46200           0         1          1   \n3   33  22.705         0  21984.47061           0         1          1   \n4   32  28.880         0   3866.85520           0         1          1   \n\n   smoker_yes  region_northeast  region_northwest  region_southeast  \\\n0           1                 0                 0                 0   \n1           0                 0                 0                 1   \n2           0                 0                 0                 1   \n3           0                 0                 1                 0   \n4           0                 0                 1                 0   \n\n   region_southwest  \n0                 1  \n1                 0  \n2                 0  \n3                 0  \n4                 0  ",
      "text/html": "<div>\n<style scoped>\n    .dataframe tbody tr th:only-of-type {\n        vertical-align: middle;\n    }\n\n    .dataframe tbody tr th {\n        vertical-align: top;\n    }\n\n    .dataframe thead th {\n        text-align: right;\n    }\n</style>\n<table border=\"1\" class=\"dataframe\">\n  <thead>\n    <tr style=\"text-align: right;\">\n      <th></th>\n      <th>age</th>\n      <th>bmi</th>\n      <th>children</th>\n      <th>charges</th>\n      <th>sex_female</th>\n      <th>sex_male</th>\n      <th>smoker_no</th>\n      <th>smoker_yes</th>\n      <th>region_northeast</th>\n      <th>region_northwest</th>\n      <th>region_southeast</th>\n      <th>region_southwest</th>\n    </tr>\n  </thead>\n  <tbody>\n    <tr>\n      <th>0</th>\n      <td>19</td>\n      <td>27.900</td>\n      <td>0</td>\n      <td>16884.92400</td>\n      <td>1</td>\n      <td>0</td>\n      <td>0</td>\n      <td>1</td>\n      <td>0</td>\n      <td>0</td>\n      <td>0</td>\n      <td>1</td>\n    </tr>\n    <tr>\n      <th>1</th>\n      <td>18</td>\n      <td>33.770</td>\n      <td>1</td>\n      <td>1725.55230</td>\n      <td>0</td>\n      <td>1</td>\n      <td>1</td>\n      <td>0</td>\n      <td>0</td>\n      <td>0</td>\n      <td>1</td>\n      <td>0</td>\n    </tr>\n    <tr>\n      <th>2</th>\n      <td>28</td>\n      <td>33.000</td>\n      <td>3</td>\n      <td>4449.46200</td>\n      <td>0</td>\n      <td>1</td>\n      <td>1</td>\n      <td>0</td>\n      <td>0</td>\n      <td>0</td>\n      <td>1</td>\n      <td>0</td>\n    </tr>\n    <tr>\n      <th>3</th>\n      <td>33</td>\n      <td>22.705</td>\n      <td>0</td>\n      <td>21984.47061</td>\n      <td>0</td>\n      <td>1</td>\n      <td>1</td>\n      <td>0</td>\n      <td>0</td>\n      <td>1</td>\n      <td>0</td>\n      <td>0</td>\n    </tr>\n    <tr>\n      <th>4</th>\n      <td>32</td>\n      <td>28.880</td>\n      <td>0</td>\n      <td>3866.85520</td>\n      <td>0</td>\n      <td>1</td>\n      <td>1</td>\n      <td>0</td>\n      <td>0</td>\n      <td>1</td>\n      <td>0</td>\n      <td>0</td>\n    </tr>\n  </tbody>\n</table>\n</div>"
     },
     "execution_count": 117,
     "metadata": {},
     "output_type": "execute_result"
    }
   ],
   "source": [
    "df = pd.get_dummies(df)\n",
    "df.head()"
   ],
   "metadata": {
    "collapsed": false
   }
  },
  {
   "cell_type": "code",
   "execution_count": 118,
   "outputs": [],
   "source": [
    "features = df.drop('charges', axis=1)\n",
    "targets = df['charges']\n",
    "train_X, test_X, train_y, test_y = train_test_split(features, targets, random_state=42, test_size=0.1)"
   ],
   "metadata": {
    "collapsed": false
   }
  },
  {
   "cell_type": "markdown",
   "source": [
    "# XGBoost"
   ],
   "metadata": {
    "collapsed": false
   }
  },
  {
   "cell_type": "code",
   "execution_count": null,
   "outputs": [],
   "source": [
    "XGBModel = XGBRegressor()\n",
    "XGB_scores = cross_val_score(XGBModel, train_X, train_y)\n",
    "(XGB_scores.mean(), XGB_scores.std())"
   ],
   "metadata": {
    "collapsed": false
   }
  },
  {
   "cell_type": "markdown",
   "source": [
    "# XGB TUNING"
   ],
   "metadata": {
    "collapsed": false
   }
  },
  {
   "cell_type": "code",
   "execution_count": null,
   "outputs": [],
   "source": [
    "XGBParam1 = {\n",
    "    'max_depth': [1,2,4,6,8,10],\n",
    "    'min_child_weight': [2,4,6,8]\n",
    "}\n",
    "\n",
    "XGB_Grid1 = GridSearchCV(XGBRegressor(verbosity=0,\n",
    "                                       gamma=0,\n",
    "                                       subsample=0.6,\n",
    "                                       learning_rate=0.1,\n",
    "                                       n_estimators=200), XGBParam1)\n",
    "XGB_Grid1.fit(train_X, train_y)\n",
    "print(XGB_Grid1.best_params_, XGB_Grid1.best_score_)"
   ],
   "metadata": {
    "collapsed": false
   }
  },
  {
   "cell_type": "code",
   "execution_count": null,
   "outputs": [],
   "source": [
    "XGBParam2 = {\n",
    "    'gamma':[0.0,0.05,0.1,0.2,0.3,0.4,0.5]\n",
    "}\n",
    "\n",
    "XGB_Grid2 = GridSearchCV(XGBRegressor(verbosity=0,\n",
    "                                       max_depth=2,\n",
    "                                       min_child_weight=8,\n",
    "                                       subsample=0.6,\n",
    "                                       learning_rate=0.1,\n",
    "                                       n_estimators=200), XGBParam2)\n",
    "XGB_Grid2.fit(train_X, train_y)\n",
    "print(XGB_Grid2.best_params_, XGB_Grid2.best_score_)"
   ],
   "metadata": {
    "collapsed": false
   }
  },
  {
   "cell_type": "code",
   "execution_count": null,
   "outputs": [],
   "source": [
    "XGBParam3 = {\n",
    "    'subsample':[0.5,0.6,0.7,0.8,0.9]\n",
    "}\n",
    "\n",
    "XGB_Grid3 = GridSearchCV(XGBRegressor(verbosity=0,\n",
    "                                       max_depth=2,\n",
    "                                       min_child_weight=8,\n",
    "                                       gamma=0.0,\n",
    "                                       learning_rate=0.04,\n",
    "                                       n_estimators=200), XGBParam3)\n",
    "XGB_Grid3.fit(train_X, train_y)\n",
    "print(XGB_Grid3.best_params_, XGB_Grid3.best_score_)"
   ],
   "metadata": {
    "collapsed": false
   }
  },
  {
   "cell_type": "code",
   "execution_count": null,
   "outputs": [],
   "source": [
    "XGBParam4 = {\n",
    "    'learning_rate':[0.01, 0.02, 0.03,0.04,0.06]\n",
    "}\n",
    "\n",
    "XGB_Grid4 = GridSearchCV(XGBRegressor(verbosity=0,\n",
    "                                       max_depth=2,\n",
    "                                       min_child_weight=8,\n",
    "                                       gamma=0.0,\n",
    "                                       subsample=0.7,\n",
    "                                       n_estimators=200), XGBParam4)\n",
    "XGB_Grid4.fit(train_X, train_y)\n",
    "print(XGB_Grid4.best_params_, XGB_Grid4.best_score_)"
   ],
   "metadata": {
    "collapsed": false
   }
  },
  {
   "cell_type": "code",
   "execution_count": null,
   "outputs": [],
   "source": [
    "XGBParam5 = {\n",
    "    'n_estimators':[60, 80, 100, 150, 200, 300, 350]\n",
    "}\n",
    "\n",
    "XGB_Grid5 = GridSearchCV(XGBRegressor(verbosity=0,\n",
    "                                       max_depth=2,\n",
    "                                       min_child_weight=8,\n",
    "                                       gamma=0.0,\n",
    "                                       subsample=0.7,\n",
    "                                       learning_rate=0.03), XGBParam5)\n",
    "XGB_Grid5.fit(train_X, train_y)\n",
    "print(XGB_Grid5.best_params_, XGB_Grid5.best_score_)"
   ],
   "metadata": {
    "collapsed": false
   }
  },
  {
   "cell_type": "code",
   "execution_count": null,
   "outputs": [],
   "source": [
    "XGBModel = XGBRegressor(verbosity=0,\n",
    "                         max_depth=2,\n",
    "                         min_child_weight=4,\n",
    "                         gamma=0.2,\n",
    "                         subsample=0.6,\n",
    "                         learning_rate=0.04,\n",
    "                         n_estimators=300)\n",
    "XGB_scores = cross_val_score(XGBModel, train_X, train_y)\n",
    "(XGB_scores.mean(), XGB_scores.std())"
   ],
   "metadata": {
    "collapsed": false
   }
  },
  {
   "cell_type": "code",
   "execution_count": null,
   "outputs": [],
   "source": [
    "XGBModel.fit(train_X, train_y)\n",
    "pred = XGBModel.predict(test_X)\n",
    "mean_squared_error(test_y, pred, squared=False)"
   ],
   "metadata": {
    "collapsed": false
   }
  },
  {
   "cell_type": "code",
   "execution_count": null,
   "outputs": [],
   "source": [
    "XGBModel.score(test_X, test_y)"
   ],
   "metadata": {
    "collapsed": false
   }
  },
  {
   "cell_type": "markdown",
   "source": [
    "# RandomForestRegressor"
   ],
   "metadata": {
    "collapsed": false
   }
  },
  {
   "cell_type": "code",
   "execution_count": null,
   "outputs": [],
   "source": [
    "RFModel = RandomForestRegressor(random_state=42)\n",
    "\n",
    "RF_scores = cross_val_score(RFModel, train_X, train_y)\n",
    "(RF_scores.mean(), RF_scores.std())"
   ],
   "metadata": {
    "collapsed": false
   }
  },
  {
   "cell_type": "code",
   "execution_count": null,
   "outputs": [],
   "source": [
    "RFParam = {\n",
    "    \"max_depth\":[6, 7.5, 10, 12.5, 15],\n",
    "    \"n_estimators\":[100, 150, 200, 300],\n",
    "    \"max_samples\": [.1,.2,.3]\n",
    "}\n",
    "\n",
    "RF_Grid = GridSearchCV(RandomForestRegressor(), RFParam)\n",
    "RF_Grid.fit(train_X, train_y)\n",
    "print(RF_Grid.best_params_, RF_Grid.best_score_)"
   ],
   "metadata": {
    "collapsed": false
   }
  },
  {
   "cell_type": "code",
   "execution_count": null,
   "outputs": [],
   "source": [
    "RFModel = RandomForestRegressor(max_depth=6, max_samples=0.2, n_estimators=300, n_jobs=-1, random_state=42)\n",
    "RF_scores = cross_val_score(RFModel, train_X, train_y)\n",
    "(RF_scores.mean(), RF_scores.std())"
   ],
   "metadata": {
    "collapsed": false
   }
  },
  {
   "cell_type": "code",
   "execution_count": null,
   "outputs": [],
   "source": [
    "RFModel.fit(train_X, train_y)\n",
    "pred = RFModel.predict(test_X)\n",
    "mean_squared_error(test_y, pred, squared=False)"
   ],
   "metadata": {
    "collapsed": false
   }
  },
  {
   "cell_type": "code",
   "execution_count": null,
   "outputs": [],
   "source": [
    "RFModel.score(test_X, test_y)"
   ],
   "metadata": {
    "collapsed": false
   }
  }
 ],
 "metadata": {
  "kernelspec": {
   "display_name": "Python 3",
   "language": "python",
   "name": "python3"
  },
  "language_info": {
   "codemirror_mode": {
    "name": "ipython",
    "version": 2
   },
   "file_extension": ".py",
   "mimetype": "text/x-python",
   "name": "python",
   "nbconvert_exporter": "python",
   "pygments_lexer": "ipython2",
   "version": "2.7.6"
  }
 },
 "nbformat": 4,
 "nbformat_minor": 0
}
