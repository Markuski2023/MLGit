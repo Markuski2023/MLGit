{
 "cells": [
  {
   "cell_type": "code",
   "execution_count": 1,
   "metadata": {
    "collapsed": true
   },
   "outputs": [],
   "source": [
    "import pandas as pd\n",
    "from sklearn.model_selection import train_test_split\n",
    "from sklearn.preprocessing import normalize\n",
    "import numpy as np\n",
    "import tensorflow as tf\n",
    "from keras.models import Sequential\n",
    "from keras.optimizers import Adam, RMSprop, SGD, Adadelta, Adamax, Adagrad, Nadam, Ftrl\n",
    "from keras.layers import Dense, Input"
   ]
  },
  {
   "cell_type": "code",
   "execution_count": 2,
   "outputs": [],
   "source": [
    "df = pd.read_csv(r'C:\\Users\\marku\\Desktop\\ML\\MLGit\\datasets\\stroke.csv')\n",
    "# C:\\Users\\marku\\Desktop\\Skole\\5\\ML\\MLGit\\datasets\\heart.csv\n",
    "# C:\\Users\\marku\\Desktop\\ML\\MLGit\\datasets\\heart.csv"
   ],
   "metadata": {
    "collapsed": false
   }
  },
  {
   "cell_type": "code",
   "execution_count": 3,
   "outputs": [
    {
     "data": {
      "text/plain": "      id  gender   age  hypertension  heart_disease ever_married  \\\n0   9046    Male  67.0             0              1          Yes   \n1  51676  Female  61.0             0              0          Yes   \n2  31112    Male  80.0             0              1          Yes   \n3  60182  Female  49.0             0              0          Yes   \n4   1665  Female  79.0             1              0          Yes   \n\n       work_type Residence_type  avg_glucose_level   bmi   smoking_status  \\\n0        Private          Urban             228.69  36.6  formerly smoked   \n1  Self-employed          Rural             202.21   NaN     never smoked   \n2        Private          Rural             105.92  32.5     never smoked   \n3        Private          Urban             171.23  34.4           smokes   \n4  Self-employed          Rural             174.12  24.0     never smoked   \n\n   stroke  \n0       1  \n1       1  \n2       1  \n3       1  \n4       1  ",
      "text/html": "<div>\n<style scoped>\n    .dataframe tbody tr th:only-of-type {\n        vertical-align: middle;\n    }\n\n    .dataframe tbody tr th {\n        vertical-align: top;\n    }\n\n    .dataframe thead th {\n        text-align: right;\n    }\n</style>\n<table border=\"1\" class=\"dataframe\">\n  <thead>\n    <tr style=\"text-align: right;\">\n      <th></th>\n      <th>id</th>\n      <th>gender</th>\n      <th>age</th>\n      <th>hypertension</th>\n      <th>heart_disease</th>\n      <th>ever_married</th>\n      <th>work_type</th>\n      <th>Residence_type</th>\n      <th>avg_glucose_level</th>\n      <th>bmi</th>\n      <th>smoking_status</th>\n      <th>stroke</th>\n    </tr>\n  </thead>\n  <tbody>\n    <tr>\n      <th>0</th>\n      <td>9046</td>\n      <td>Male</td>\n      <td>67.0</td>\n      <td>0</td>\n      <td>1</td>\n      <td>Yes</td>\n      <td>Private</td>\n      <td>Urban</td>\n      <td>228.69</td>\n      <td>36.6</td>\n      <td>formerly smoked</td>\n      <td>1</td>\n    </tr>\n    <tr>\n      <th>1</th>\n      <td>51676</td>\n      <td>Female</td>\n      <td>61.0</td>\n      <td>0</td>\n      <td>0</td>\n      <td>Yes</td>\n      <td>Self-employed</td>\n      <td>Rural</td>\n      <td>202.21</td>\n      <td>NaN</td>\n      <td>never smoked</td>\n      <td>1</td>\n    </tr>\n    <tr>\n      <th>2</th>\n      <td>31112</td>\n      <td>Male</td>\n      <td>80.0</td>\n      <td>0</td>\n      <td>1</td>\n      <td>Yes</td>\n      <td>Private</td>\n      <td>Rural</td>\n      <td>105.92</td>\n      <td>32.5</td>\n      <td>never smoked</td>\n      <td>1</td>\n    </tr>\n    <tr>\n      <th>3</th>\n      <td>60182</td>\n      <td>Female</td>\n      <td>49.0</td>\n      <td>0</td>\n      <td>0</td>\n      <td>Yes</td>\n      <td>Private</td>\n      <td>Urban</td>\n      <td>171.23</td>\n      <td>34.4</td>\n      <td>smokes</td>\n      <td>1</td>\n    </tr>\n    <tr>\n      <th>4</th>\n      <td>1665</td>\n      <td>Female</td>\n      <td>79.0</td>\n      <td>1</td>\n      <td>0</td>\n      <td>Yes</td>\n      <td>Self-employed</td>\n      <td>Rural</td>\n      <td>174.12</td>\n      <td>24.0</td>\n      <td>never smoked</td>\n      <td>1</td>\n    </tr>\n  </tbody>\n</table>\n</div>"
     },
     "execution_count": 3,
     "metadata": {},
     "output_type": "execute_result"
    }
   ],
   "source": [
    "df.head()"
   ],
   "metadata": {
    "collapsed": false
   }
  },
  {
   "cell_type": "code",
   "execution_count": 4,
   "outputs": [
    {
     "data": {
      "text/plain": "id                     0\ngender                 0\nage                    0\nhypertension           0\nheart_disease          0\never_married           0\nwork_type              0\nResidence_type         0\navg_glucose_level      0\nbmi                  201\nsmoking_status         0\nstroke                 0\ndtype: int64"
     },
     "execution_count": 4,
     "metadata": {},
     "output_type": "execute_result"
    }
   ],
   "source": [
    "df.isnull().sum()"
   ],
   "metadata": {
    "collapsed": false
   }
  },
  {
   "cell_type": "code",
   "execution_count": 5,
   "outputs": [],
   "source": [
    "df = df.drop(['id'], axis=1)\n",
    "df['gender'] = df['gender'].replace(['Female', 'Male'], [0,1])\n",
    "df['ever_married'] = df['ever_married'].replace(['No', 'Yes'], [0,1])\n",
    "df['work_type'] = df['work_type'].replace(['Private', 'Self-employed', 'Govt_job'], [0,1,2])\n",
    "df['Residence_type'] = df['Residence_type'].replace(['Urban', 'Rural'], [0,1])\n",
    "df['smoking_status'] = df['smoking_status'].replace(['formerly smoked', 'never smoked', 'smokes', 'unknown'], [0,1,2,3])\n",
    "\n",
    "df['gender'] = df['gender'].astype('category')\n",
    "df['ever_married'] = df['ever_married'].astype('category')\n",
    "df['work_type'] = df['work_type'].astype('category')\n",
    "df['Residence_type'] = df['Residence_type'].astype('category')\n",
    "df['smoking_status'] = df['smoking_status'].astype('category')\n",
    "df['hypertension'] = df['hypertension'].astype('category')\n",
    "df['heart_disease'] = df['heart_disease'].astype('category')\n",
    "df['stroke'] = df['stroke'].astype('category')\n",
    "\n",
    "def handle_null_mean(df):\n",
    "    # Need to set inplace=True, so it doesn't create a copy of the dataframe. Tried without and this led to null-values not being removed\n",
    "    df['bmi'].fillna(df['bmi'].mean(), inplace=True)\n",
    "\n",
    "    return  df\n",
    "\n",
    "df = handle_null_mean(df)"
   ],
   "metadata": {
    "collapsed": false
   }
  },
  {
   "cell_type": "code",
   "execution_count": 6,
   "outputs": [],
   "source": [
    "features = df.drop('stroke',axis=1)\n",
    "targets = df['stroke']\n",
    "\n",
    "targets_onehot = pd.get_dummies(targets)\n",
    "features_onehot = pd.get_dummies(features)\n",
    "targets_onehot = targets_onehot.astype('float32')\n",
    "features_onehot = features_onehot.astype('float32')"
   ],
   "metadata": {
    "collapsed": false
   }
  },
  {
   "cell_type": "code",
   "execution_count": 7,
   "outputs": [],
   "source": [
    "features_onehot = normalize(features_onehot)\n",
    "\n",
    "train_features, test_features, train_targets, test_targets = train_test_split(features_onehot, targets_onehot, test_size=0.1, stratify=targets, random_state=42)"
   ],
   "metadata": {
    "collapsed": false
   }
  },
  {
   "cell_type": "code",
   "execution_count": 8,
   "outputs": [],
   "source": [
    "train_features_tensor = tf.convert_to_tensor(train_features)\n",
    "test_features_tensor = tf.convert_to_tensor(test_features)\n",
    "train_targets_tensor = tf.convert_to_tensor(train_targets)\n",
    "test_targets_tensor = tf.convert_to_tensor(test_targets)"
   ],
   "metadata": {
    "collapsed": false
   }
  },
  {
   "cell_type": "code",
   "execution_count": 9,
   "outputs": [],
   "source": [
    "model = Sequential()\n",
    "\n",
    "model.add(Input(23))\n",
    "model.add(Dense(46, activation='relu'))\n",
    "model.add(Dense(2, activation='sigmoid'))"
   ],
   "metadata": {
    "collapsed": false
   }
  },
  {
   "cell_type": "code",
   "execution_count": 14,
   "outputs": [],
   "source": [
    "opt1 = Adam()\n",
    "opt2 = RMSprop()\n",
    "opt3 = SGD()\n",
    "opt4 = Adadelta()\n",
    "opt5 = Adamax()\n",
    "opt6 = Adagrad()\n",
    "opt7 = Nadam()\n",
    "opt8 = Ftrl()\n",
    "model.compile(optimizer=opt4, loss='binary_crossentropy', metrics=['accuracy'])"
   ],
   "metadata": {
    "collapsed": false
   }
  },
  {
   "cell_type": "code",
   "execution_count": 15,
   "outputs": [
    {
     "name": "stdout",
     "output_type": "stream",
     "text": [
      "Epoch 1/500\n",
      "92/92 [==============================] - 1s 2ms/step - loss: 0.1637 - accuracy: 0.9513\n",
      "Epoch 2/500\n",
      "92/92 [==============================] - 0s 2ms/step - loss: 0.1637 - accuracy: 0.9513\n",
      "Epoch 3/500\n",
      "92/92 [==============================] - 0s 1ms/step - loss: 0.1637 - accuracy: 0.9513\n",
      "Epoch 4/500\n",
      "92/92 [==============================] - 0s 1ms/step - loss: 0.1637 - accuracy: 0.9513\n",
      "Epoch 5/500\n",
      "92/92 [==============================] - 0s 1ms/step - loss: 0.1637 - accuracy: 0.9513\n",
      "Epoch 6/500\n",
      "92/92 [==============================] - 0s 1ms/step - loss: 0.1637 - accuracy: 0.9513\n",
      "Epoch 7/500\n",
      "92/92 [==============================] - 0s 1ms/step - loss: 0.1637 - accuracy: 0.9513\n",
      "Epoch 8/500\n",
      "92/92 [==============================] - 0s 2ms/step - loss: 0.1637 - accuracy: 0.9513\n",
      "Epoch 9/500\n",
      "92/92 [==============================] - 0s 1ms/step - loss: 0.1637 - accuracy: 0.9513\n",
      "Epoch 10/500\n",
      "92/92 [==============================] - 0s 1ms/step - loss: 0.1637 - accuracy: 0.9513\n",
      "Epoch 11/500\n",
      "92/92 [==============================] - 0s 1ms/step - loss: 0.1637 - accuracy: 0.9513\n",
      "Epoch 12/500\n",
      "92/92 [==============================] - 0s 1ms/step - loss: 0.1637 - accuracy: 0.9513\n",
      "Epoch 13/500\n",
      "92/92 [==============================] - 0s 2ms/step - loss: 0.1637 - accuracy: 0.9513\n",
      "Epoch 14/500\n",
      "92/92 [==============================] - 0s 2ms/step - loss: 0.1637 - accuracy: 0.9513\n",
      "Epoch 15/500\n",
      "92/92 [==============================] - 0s 1ms/step - loss: 0.1637 - accuracy: 0.9513\n",
      "Epoch 16/500\n",
      "92/92 [==============================] - 0s 2ms/step - loss: 0.1637 - accuracy: 0.9513\n",
      "Epoch 17/500\n",
      "92/92 [==============================] - 0s 1ms/step - loss: 0.1637 - accuracy: 0.9513\n",
      "Epoch 18/500\n",
      "92/92 [==============================] - 0s 1ms/step - loss: 0.1637 - accuracy: 0.9513\n",
      "Epoch 19/500\n",
      "92/92 [==============================] - 0s 1ms/step - loss: 0.1637 - accuracy: 0.9513\n",
      "Epoch 20/500\n",
      "92/92 [==============================] - 0s 1ms/step - loss: 0.1637 - accuracy: 0.9513\n",
      "Epoch 21/500\n",
      "92/92 [==============================] - 0s 1ms/step - loss: 0.1637 - accuracy: 0.9513\n",
      "Epoch 22/500\n",
      "92/92 [==============================] - 0s 2ms/step - loss: 0.1637 - accuracy: 0.9513\n",
      "Epoch 23/500\n",
      "92/92 [==============================] - 0s 2ms/step - loss: 0.1637 - accuracy: 0.9513\n",
      "Epoch 24/500\n",
      "92/92 [==============================] - 0s 2ms/step - loss: 0.1637 - accuracy: 0.9513\n",
      "Epoch 25/500\n",
      "92/92 [==============================] - 0s 1ms/step - loss: 0.1637 - accuracy: 0.9513\n",
      "Epoch 26/500\n",
      "92/92 [==============================] - 0s 2ms/step - loss: 0.1637 - accuracy: 0.9513\n",
      "Epoch 27/500\n",
      "92/92 [==============================] - 0s 2ms/step - loss: 0.1637 - accuracy: 0.9513\n",
      "Epoch 28/500\n",
      "92/92 [==============================] - 0s 1ms/step - loss: 0.1637 - accuracy: 0.9513\n",
      "Epoch 29/500\n",
      "92/92 [==============================] - 0s 2ms/step - loss: 0.1637 - accuracy: 0.9513\n",
      "Epoch 30/500\n",
      "92/92 [==============================] - 0s 1ms/step - loss: 0.1637 - accuracy: 0.9513\n",
      "Epoch 31/500\n",
      "92/92 [==============================] - 0s 1ms/step - loss: 0.1637 - accuracy: 0.9513\n",
      "Epoch 32/500\n",
      "92/92 [==============================] - 0s 2ms/step - loss: 0.1637 - accuracy: 0.9513\n",
      "Epoch 33/500\n",
      "92/92 [==============================] - 0s 1ms/step - loss: 0.1637 - accuracy: 0.9513\n",
      "Epoch 34/500\n",
      "92/92 [==============================] - 0s 1ms/step - loss: 0.1637 - accuracy: 0.9513\n",
      "Epoch 35/500\n",
      "92/92 [==============================] - 0s 1ms/step - loss: 0.1637 - accuracy: 0.9513\n",
      "Epoch 36/500\n",
      "92/92 [==============================] - 0s 1ms/step - loss: 0.1637 - accuracy: 0.9513\n",
      "Epoch 37/500\n",
      "92/92 [==============================] - 0s 1ms/step - loss: 0.1637 - accuracy: 0.9513\n",
      "Epoch 38/500\n",
      "92/92 [==============================] - 0s 1ms/step - loss: 0.1637 - accuracy: 0.9513\n",
      "Epoch 39/500\n",
      "92/92 [==============================] - 0s 2ms/step - loss: 0.1637 - accuracy: 0.9513\n",
      "Epoch 40/500\n",
      "92/92 [==============================] - 0s 1ms/step - loss: 0.1637 - accuracy: 0.9513\n",
      "Epoch 41/500\n",
      "92/92 [==============================] - 0s 2ms/step - loss: 0.1637 - accuracy: 0.9513\n",
      "Epoch 42/500\n",
      "92/92 [==============================] - 0s 1ms/step - loss: 0.1637 - accuracy: 0.9513\n",
      "Epoch 43/500\n",
      "92/92 [==============================] - 0s 2ms/step - loss: 0.1637 - accuracy: 0.9513\n",
      "Epoch 44/500\n",
      "92/92 [==============================] - 0s 1ms/step - loss: 0.1637 - accuracy: 0.9513\n",
      "Epoch 45/500\n",
      "92/92 [==============================] - 0s 2ms/step - loss: 0.1637 - accuracy: 0.9513\n",
      "Epoch 46/500\n",
      "92/92 [==============================] - 0s 2ms/step - loss: 0.1637 - accuracy: 0.9513\n",
      "Epoch 47/500\n",
      "92/92 [==============================] - 0s 1ms/step - loss: 0.1637 - accuracy: 0.9513\n",
      "Epoch 48/500\n",
      "92/92 [==============================] - 0s 1ms/step - loss: 0.1637 - accuracy: 0.9513\n",
      "Epoch 49/500\n",
      "92/92 [==============================] - 0s 1ms/step - loss: 0.1636 - accuracy: 0.9513\n",
      "Epoch 50/500\n",
      "92/92 [==============================] - 0s 1ms/step - loss: 0.1636 - accuracy: 0.9513\n",
      "Epoch 51/500\n",
      "92/92 [==============================] - 0s 2ms/step - loss: 0.1636 - accuracy: 0.9513\n"
     ]
    },
    {
     "data": {
      "text/plain": "<keras.callbacks.History at 0x244a932e970>"
     },
     "execution_count": 15,
     "metadata": {},
     "output_type": "execute_result"
    }
   ],
   "source": [
    "callback = tf.keras.callbacks.EarlyStopping(monitor='accuracy', patience=50, mode='auto')\n",
    "model.fit(train_features_tensor, train_targets_tensor, epochs=500, batch_size=50, callbacks=[callback])"
   ],
   "metadata": {
    "collapsed": false
   }
  },
  {
   "cell_type": "code",
   "execution_count": 16,
   "outputs": [
    {
     "name": "stdout",
     "output_type": "stream",
     "text": [
      "16/16 [==============================] - 0s 933us/step - loss: 0.1711 - accuracy: 0.9511\n"
     ]
    },
    {
     "data": {
      "text/plain": "[0.1710972636938095, 0.951076328754425]"
     },
     "execution_count": 16,
     "metadata": {},
     "output_type": "execute_result"
    }
   ],
   "source": [
    "model.evaluate(test_features_tensor, test_targets_tensor)"
   ],
   "metadata": {
    "collapsed": false
   }
  },
  {
   "cell_type": "code",
   "execution_count": 17,
   "outputs": [
    {
     "name": "stdout",
     "output_type": "stream",
     "text": [
      "144/144 [==============================] - 0s 972us/step - loss: 0.1636 - accuracy: 0.9513\n"
     ]
    },
    {
     "data": {
      "text/plain": "[0.1636475920677185, 0.9512937664985657]"
     },
     "execution_count": 17,
     "metadata": {},
     "output_type": "execute_result"
    }
   ],
   "source": [
    "model.evaluate(train_features_tensor, train_targets_tensor)"
   ],
   "metadata": {
    "collapsed": false
   }
  }
 ],
 "metadata": {
  "kernelspec": {
   "display_name": "Python 3",
   "language": "python",
   "name": "python3"
  },
  "language_info": {
   "codemirror_mode": {
    "name": "ipython",
    "version": 2
   },
   "file_extension": ".py",
   "mimetype": "text/x-python",
   "name": "python",
   "nbconvert_exporter": "python",
   "pygments_lexer": "ipython2",
   "version": "2.7.6"
  }
 },
 "nbformat": 4,
 "nbformat_minor": 0
}
