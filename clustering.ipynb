{
 "cells": [
  {
   "cell_type": "markdown",
   "source": [
    "# The dataset\n",
    "The dataset I'm using for this clustering task is: Airline Passenger Satisfaction. The goal for this dataset is usually to predict if a customer was satisifed or not, but since this is the ground-truth, I've removed it from the dataset.\n"
   ],
   "metadata": {
    "collapsed": false
   }
  },
  {
   "cell_type": "code",
   "execution_count": 126,
   "outputs": [],
   "source": [
    "import pandas as pd\n",
    "\n",
    "import seaborn as sns\n",
    "import matplotlib.pyplot as plt"
   ],
   "metadata": {
    "collapsed": false
   }
  },
  {
   "cell_type": "code",
   "execution_count": 127,
   "outputs": [],
   "source": [
    "# Load dataset\n",
    "df = pd.read_csv('airline.csv')"
   ],
   "metadata": {
    "collapsed": false
   }
  },
  {
   "cell_type": "code",
   "execution_count": 128,
   "outputs": [
    {
     "data": {
      "text/plain": "(103904, 25)"
     },
     "execution_count": 128,
     "metadata": {},
     "output_type": "execute_result"
    }
   ],
   "source": [
    "df.shape"
   ],
   "metadata": {
    "collapsed": false
   }
  },
  {
   "cell_type": "code",
   "execution_count": 129,
   "outputs": [
    {
     "data": {
      "text/plain": "Index(['Unnamed: 0', 'id', 'Gender', 'Customer Type', 'Age', 'Type of Travel',\n       'Class', 'Flight Distance', 'Inflight wifi service',\n       'Departure/Arrival time convenient', 'Ease of Online booking',\n       'Gate location', 'Food and drink', 'Online boarding', 'Seat comfort',\n       'Inflight entertainment', 'On-board service', 'Leg room service',\n       'Baggage handling', 'Checkin service', 'Inflight service',\n       'Cleanliness', 'Departure Delay in Minutes', 'Arrival Delay in Minutes',\n       'satisfaction'],\n      dtype='object')"
     },
     "execution_count": 129,
     "metadata": {},
     "output_type": "execute_result"
    }
   ],
   "source": [
    "df.columns"
   ],
   "metadata": {
    "collapsed": false
   }
  },
  {
   "cell_type": "code",
   "execution_count": 130,
   "outputs": [
    {
     "name": "stdout",
     "output_type": "stream",
     "text": [
      "<class 'pandas.core.frame.DataFrame'>\n",
      "RangeIndex: 103904 entries, 0 to 103903\n",
      "Data columns (total 25 columns):\n",
      " #   Column                             Non-Null Count   Dtype  \n",
      "---  ------                             --------------   -----  \n",
      " 0   Unnamed: 0                         103904 non-null  int64  \n",
      " 1   id                                 103904 non-null  int64  \n",
      " 2   Gender                             103904 non-null  object \n",
      " 3   Customer Type                      103904 non-null  object \n",
      " 4   Age                                103904 non-null  int64  \n",
      " 5   Type of Travel                     103904 non-null  object \n",
      " 6   Class                              103904 non-null  object \n",
      " 7   Flight Distance                    103904 non-null  int64  \n",
      " 8   Inflight wifi service              103904 non-null  int64  \n",
      " 9   Departure/Arrival time convenient  103904 non-null  int64  \n",
      " 10  Ease of Online booking             103904 non-null  int64  \n",
      " 11  Gate location                      103904 non-null  int64  \n",
      " 12  Food and drink                     103904 non-null  int64  \n",
      " 13  Online boarding                    103904 non-null  int64  \n",
      " 14  Seat comfort                       103904 non-null  int64  \n",
      " 15  Inflight entertainment             103904 non-null  int64  \n",
      " 16  On-board service                   103904 non-null  int64  \n",
      " 17  Leg room service                   103904 non-null  int64  \n",
      " 18  Baggage handling                   103904 non-null  int64  \n",
      " 19  Checkin service                    103904 non-null  int64  \n",
      " 20  Inflight service                   103904 non-null  int64  \n",
      " 21  Cleanliness                        103904 non-null  int64  \n",
      " 22  Departure Delay in Minutes         103904 non-null  int64  \n",
      " 23  Arrival Delay in Minutes           103594 non-null  float64\n",
      " 24  satisfaction                       103904 non-null  object \n",
      "dtypes: float64(1), int64(19), object(5)\n",
      "memory usage: 19.8+ MB\n"
     ]
    }
   ],
   "source": [
    "df.info()"
   ],
   "metadata": {
    "collapsed": false
   }
  },
  {
   "cell_type": "code",
   "execution_count": 131,
   "outputs": [
    {
     "data": {
      "text/plain": "          Unnamed: 0             id            Age  Flight Distance  \\\ncount  103904.000000  103904.000000  103904.000000    103904.000000   \nmean    51951.500000   64924.210502      39.379706      1189.448375   \nstd     29994.645522   37463.812252      15.114964       997.147281   \nmin         0.000000       1.000000       7.000000        31.000000   \n25%     25975.750000   32533.750000      27.000000       414.000000   \n50%     51951.500000   64856.500000      40.000000       843.000000   \n75%     77927.250000   97368.250000      51.000000      1743.000000   \nmax    103903.000000  129880.000000      85.000000      4983.000000   \n\n       Inflight wifi service  Departure/Arrival time convenient  \\\ncount          103904.000000                      103904.000000   \nmean                2.729683                           3.060296   \nstd                 1.327829                           1.525075   \nmin                 0.000000                           0.000000   \n25%                 2.000000                           2.000000   \n50%                 3.000000                           3.000000   \n75%                 4.000000                           4.000000   \nmax                 5.000000                           5.000000   \n\n       Ease of Online booking  Gate location  Food and drink  Online boarding  \\\ncount           103904.000000  103904.000000   103904.000000    103904.000000   \nmean                 2.756901       2.976883        3.202129         3.250375   \nstd                  1.398929       1.277621        1.329533         1.349509   \nmin                  0.000000       0.000000        0.000000         0.000000   \n25%                  2.000000       2.000000        2.000000         2.000000   \n50%                  3.000000       3.000000        3.000000         3.000000   \n75%                  4.000000       4.000000        4.000000         4.000000   \nmax                  5.000000       5.000000        5.000000         5.000000   \n\n        Seat comfort  Inflight entertainment  On-board service  \\\ncount  103904.000000           103904.000000     103904.000000   \nmean        3.439396                3.358158          3.382363   \nstd         1.319088                1.332991          1.288354   \nmin         0.000000                0.000000          0.000000   \n25%         2.000000                2.000000          2.000000   \n50%         4.000000                4.000000          4.000000   \n75%         5.000000                4.000000          4.000000   \nmax         5.000000                5.000000          5.000000   \n\n       Leg room service  Baggage handling  Checkin service  Inflight service  \\\ncount     103904.000000     103904.000000    103904.000000     103904.000000   \nmean           3.351055          3.631833         3.304290          3.640428   \nstd            1.315605          1.180903         1.265396          1.175663   \nmin            0.000000          1.000000         0.000000          0.000000   \n25%            2.000000          3.000000         3.000000          3.000000   \n50%            4.000000          4.000000         3.000000          4.000000   \n75%            4.000000          5.000000         4.000000          5.000000   \nmax            5.000000          5.000000         5.000000          5.000000   \n\n         Cleanliness  Departure Delay in Minutes  Arrival Delay in Minutes  \ncount  103904.000000               103904.000000             103594.000000  \nmean        3.286351                   14.815618                 15.178678  \nstd         1.312273                   38.230901                 38.698682  \nmin         0.000000                    0.000000                  0.000000  \n25%         2.000000                    0.000000                  0.000000  \n50%         3.000000                    0.000000                  0.000000  \n75%         4.000000                   12.000000                 13.000000  \nmax         5.000000                 1592.000000               1584.000000  ",
      "text/html": "<div>\n<style scoped>\n    .dataframe tbody tr th:only-of-type {\n        vertical-align: middle;\n    }\n\n    .dataframe tbody tr th {\n        vertical-align: top;\n    }\n\n    .dataframe thead th {\n        text-align: right;\n    }\n</style>\n<table border=\"1\" class=\"dataframe\">\n  <thead>\n    <tr style=\"text-align: right;\">\n      <th></th>\n      <th>Unnamed: 0</th>\n      <th>id</th>\n      <th>Age</th>\n      <th>Flight Distance</th>\n      <th>Inflight wifi service</th>\n      <th>Departure/Arrival time convenient</th>\n      <th>Ease of Online booking</th>\n      <th>Gate location</th>\n      <th>Food and drink</th>\n      <th>Online boarding</th>\n      <th>Seat comfort</th>\n      <th>Inflight entertainment</th>\n      <th>On-board service</th>\n      <th>Leg room service</th>\n      <th>Baggage handling</th>\n      <th>Checkin service</th>\n      <th>Inflight service</th>\n      <th>Cleanliness</th>\n      <th>Departure Delay in Minutes</th>\n      <th>Arrival Delay in Minutes</th>\n    </tr>\n  </thead>\n  <tbody>\n    <tr>\n      <th>count</th>\n      <td>103904.000000</td>\n      <td>103904.000000</td>\n      <td>103904.000000</td>\n      <td>103904.000000</td>\n      <td>103904.000000</td>\n      <td>103904.000000</td>\n      <td>103904.000000</td>\n      <td>103904.000000</td>\n      <td>103904.000000</td>\n      <td>103904.000000</td>\n      <td>103904.000000</td>\n      <td>103904.000000</td>\n      <td>103904.000000</td>\n      <td>103904.000000</td>\n      <td>103904.000000</td>\n      <td>103904.000000</td>\n      <td>103904.000000</td>\n      <td>103904.000000</td>\n      <td>103904.000000</td>\n      <td>103594.000000</td>\n    </tr>\n    <tr>\n      <th>mean</th>\n      <td>51951.500000</td>\n      <td>64924.210502</td>\n      <td>39.379706</td>\n      <td>1189.448375</td>\n      <td>2.729683</td>\n      <td>3.060296</td>\n      <td>2.756901</td>\n      <td>2.976883</td>\n      <td>3.202129</td>\n      <td>3.250375</td>\n      <td>3.439396</td>\n      <td>3.358158</td>\n      <td>3.382363</td>\n      <td>3.351055</td>\n      <td>3.631833</td>\n      <td>3.304290</td>\n      <td>3.640428</td>\n      <td>3.286351</td>\n      <td>14.815618</td>\n      <td>15.178678</td>\n    </tr>\n    <tr>\n      <th>std</th>\n      <td>29994.645522</td>\n      <td>37463.812252</td>\n      <td>15.114964</td>\n      <td>997.147281</td>\n      <td>1.327829</td>\n      <td>1.525075</td>\n      <td>1.398929</td>\n      <td>1.277621</td>\n      <td>1.329533</td>\n      <td>1.349509</td>\n      <td>1.319088</td>\n      <td>1.332991</td>\n      <td>1.288354</td>\n      <td>1.315605</td>\n      <td>1.180903</td>\n      <td>1.265396</td>\n      <td>1.175663</td>\n      <td>1.312273</td>\n      <td>38.230901</td>\n      <td>38.698682</td>\n    </tr>\n    <tr>\n      <th>min</th>\n      <td>0.000000</td>\n      <td>1.000000</td>\n      <td>7.000000</td>\n      <td>31.000000</td>\n      <td>0.000000</td>\n      <td>0.000000</td>\n      <td>0.000000</td>\n      <td>0.000000</td>\n      <td>0.000000</td>\n      <td>0.000000</td>\n      <td>0.000000</td>\n      <td>0.000000</td>\n      <td>0.000000</td>\n      <td>0.000000</td>\n      <td>1.000000</td>\n      <td>0.000000</td>\n      <td>0.000000</td>\n      <td>0.000000</td>\n      <td>0.000000</td>\n      <td>0.000000</td>\n    </tr>\n    <tr>\n      <th>25%</th>\n      <td>25975.750000</td>\n      <td>32533.750000</td>\n      <td>27.000000</td>\n      <td>414.000000</td>\n      <td>2.000000</td>\n      <td>2.000000</td>\n      <td>2.000000</td>\n      <td>2.000000</td>\n      <td>2.000000</td>\n      <td>2.000000</td>\n      <td>2.000000</td>\n      <td>2.000000</td>\n      <td>2.000000</td>\n      <td>2.000000</td>\n      <td>3.000000</td>\n      <td>3.000000</td>\n      <td>3.000000</td>\n      <td>2.000000</td>\n      <td>0.000000</td>\n      <td>0.000000</td>\n    </tr>\n    <tr>\n      <th>50%</th>\n      <td>51951.500000</td>\n      <td>64856.500000</td>\n      <td>40.000000</td>\n      <td>843.000000</td>\n      <td>3.000000</td>\n      <td>3.000000</td>\n      <td>3.000000</td>\n      <td>3.000000</td>\n      <td>3.000000</td>\n      <td>3.000000</td>\n      <td>4.000000</td>\n      <td>4.000000</td>\n      <td>4.000000</td>\n      <td>4.000000</td>\n      <td>4.000000</td>\n      <td>3.000000</td>\n      <td>4.000000</td>\n      <td>3.000000</td>\n      <td>0.000000</td>\n      <td>0.000000</td>\n    </tr>\n    <tr>\n      <th>75%</th>\n      <td>77927.250000</td>\n      <td>97368.250000</td>\n      <td>51.000000</td>\n      <td>1743.000000</td>\n      <td>4.000000</td>\n      <td>4.000000</td>\n      <td>4.000000</td>\n      <td>4.000000</td>\n      <td>4.000000</td>\n      <td>4.000000</td>\n      <td>5.000000</td>\n      <td>4.000000</td>\n      <td>4.000000</td>\n      <td>4.000000</td>\n      <td>5.000000</td>\n      <td>4.000000</td>\n      <td>5.000000</td>\n      <td>4.000000</td>\n      <td>12.000000</td>\n      <td>13.000000</td>\n    </tr>\n    <tr>\n      <th>max</th>\n      <td>103903.000000</td>\n      <td>129880.000000</td>\n      <td>85.000000</td>\n      <td>4983.000000</td>\n      <td>5.000000</td>\n      <td>5.000000</td>\n      <td>5.000000</td>\n      <td>5.000000</td>\n      <td>5.000000</td>\n      <td>5.000000</td>\n      <td>5.000000</td>\n      <td>5.000000</td>\n      <td>5.000000</td>\n      <td>5.000000</td>\n      <td>5.000000</td>\n      <td>5.000000</td>\n      <td>5.000000</td>\n      <td>5.000000</td>\n      <td>1592.000000</td>\n      <td>1584.000000</td>\n    </tr>\n  </tbody>\n</table>\n</div>"
     },
     "execution_count": 131,
     "metadata": {},
     "output_type": "execute_result"
    }
   ],
   "source": [
    "df.describe()"
   ],
   "metadata": {
    "collapsed": false
   }
  },
  {
   "cell_type": "code",
   "execution_count": 132,
   "outputs": [
    {
     "data": {
      "text/plain": "   Unnamed: 0      id  Gender      Customer Type  Age   Type of Travel  \\\n0           0   70172    Male     Loyal Customer   13  Personal Travel   \n1           1    5047    Male  disloyal Customer   25  Business travel   \n2           2  110028  Female     Loyal Customer   26  Business travel   \n3           3   24026  Female     Loyal Customer   25  Business travel   \n4           4  119299    Male     Loyal Customer   61  Business travel   \n\n      Class  Flight Distance  Inflight wifi service  \\\n0  Eco Plus              460                      3   \n1  Business              235                      3   \n2  Business             1142                      2   \n3  Business              562                      2   \n4  Business              214                      3   \n\n   Departure/Arrival time convenient  ...  Inflight entertainment  \\\n0                                  4  ...                       5   \n1                                  2  ...                       1   \n2                                  2  ...                       5   \n3                                  5  ...                       2   \n4                                  3  ...                       3   \n\n   On-board service  Leg room service  Baggage handling  Checkin service  \\\n0                 4                 3                 4                4   \n1                 1                 5                 3                1   \n2                 4                 3                 4                4   \n3                 2                 5                 3                1   \n4                 3                 4                 4                3   \n\n   Inflight service  Cleanliness  Departure Delay in Minutes  \\\n0                 5            5                          25   \n1                 4            1                           1   \n2                 4            5                           0   \n3                 4            2                          11   \n4                 3            3                           0   \n\n   Arrival Delay in Minutes             satisfaction  \n0                      18.0  neutral or dissatisfied  \n1                       6.0  neutral or dissatisfied  \n2                       0.0                satisfied  \n3                       9.0  neutral or dissatisfied  \n4                       0.0                satisfied  \n\n[5 rows x 25 columns]",
      "text/html": "<div>\n<style scoped>\n    .dataframe tbody tr th:only-of-type {\n        vertical-align: middle;\n    }\n\n    .dataframe tbody tr th {\n        vertical-align: top;\n    }\n\n    .dataframe thead th {\n        text-align: right;\n    }\n</style>\n<table border=\"1\" class=\"dataframe\">\n  <thead>\n    <tr style=\"text-align: right;\">\n      <th></th>\n      <th>Unnamed: 0</th>\n      <th>id</th>\n      <th>Gender</th>\n      <th>Customer Type</th>\n      <th>Age</th>\n      <th>Type of Travel</th>\n      <th>Class</th>\n      <th>Flight Distance</th>\n      <th>Inflight wifi service</th>\n      <th>Departure/Arrival time convenient</th>\n      <th>...</th>\n      <th>Inflight entertainment</th>\n      <th>On-board service</th>\n      <th>Leg room service</th>\n      <th>Baggage handling</th>\n      <th>Checkin service</th>\n      <th>Inflight service</th>\n      <th>Cleanliness</th>\n      <th>Departure Delay in Minutes</th>\n      <th>Arrival Delay in Minutes</th>\n      <th>satisfaction</th>\n    </tr>\n  </thead>\n  <tbody>\n    <tr>\n      <th>0</th>\n      <td>0</td>\n      <td>70172</td>\n      <td>Male</td>\n      <td>Loyal Customer</td>\n      <td>13</td>\n      <td>Personal Travel</td>\n      <td>Eco Plus</td>\n      <td>460</td>\n      <td>3</td>\n      <td>4</td>\n      <td>...</td>\n      <td>5</td>\n      <td>4</td>\n      <td>3</td>\n      <td>4</td>\n      <td>4</td>\n      <td>5</td>\n      <td>5</td>\n      <td>25</td>\n      <td>18.0</td>\n      <td>neutral or dissatisfied</td>\n    </tr>\n    <tr>\n      <th>1</th>\n      <td>1</td>\n      <td>5047</td>\n      <td>Male</td>\n      <td>disloyal Customer</td>\n      <td>25</td>\n      <td>Business travel</td>\n      <td>Business</td>\n      <td>235</td>\n      <td>3</td>\n      <td>2</td>\n      <td>...</td>\n      <td>1</td>\n      <td>1</td>\n      <td>5</td>\n      <td>3</td>\n      <td>1</td>\n      <td>4</td>\n      <td>1</td>\n      <td>1</td>\n      <td>6.0</td>\n      <td>neutral or dissatisfied</td>\n    </tr>\n    <tr>\n      <th>2</th>\n      <td>2</td>\n      <td>110028</td>\n      <td>Female</td>\n      <td>Loyal Customer</td>\n      <td>26</td>\n      <td>Business travel</td>\n      <td>Business</td>\n      <td>1142</td>\n      <td>2</td>\n      <td>2</td>\n      <td>...</td>\n      <td>5</td>\n      <td>4</td>\n      <td>3</td>\n      <td>4</td>\n      <td>4</td>\n      <td>4</td>\n      <td>5</td>\n      <td>0</td>\n      <td>0.0</td>\n      <td>satisfied</td>\n    </tr>\n    <tr>\n      <th>3</th>\n      <td>3</td>\n      <td>24026</td>\n      <td>Female</td>\n      <td>Loyal Customer</td>\n      <td>25</td>\n      <td>Business travel</td>\n      <td>Business</td>\n      <td>562</td>\n      <td>2</td>\n      <td>5</td>\n      <td>...</td>\n      <td>2</td>\n      <td>2</td>\n      <td>5</td>\n      <td>3</td>\n      <td>1</td>\n      <td>4</td>\n      <td>2</td>\n      <td>11</td>\n      <td>9.0</td>\n      <td>neutral or dissatisfied</td>\n    </tr>\n    <tr>\n      <th>4</th>\n      <td>4</td>\n      <td>119299</td>\n      <td>Male</td>\n      <td>Loyal Customer</td>\n      <td>61</td>\n      <td>Business travel</td>\n      <td>Business</td>\n      <td>214</td>\n      <td>3</td>\n      <td>3</td>\n      <td>...</td>\n      <td>3</td>\n      <td>3</td>\n      <td>4</td>\n      <td>4</td>\n      <td>3</td>\n      <td>3</td>\n      <td>3</td>\n      <td>0</td>\n      <td>0.0</td>\n      <td>satisfied</td>\n    </tr>\n  </tbody>\n</table>\n<p>5 rows × 25 columns</p>\n</div>"
     },
     "execution_count": 132,
     "metadata": {},
     "output_type": "execute_result"
    }
   ],
   "source": [
    "df.head()"
   ],
   "metadata": {
    "collapsed": false
   }
  },
  {
   "cell_type": "code",
   "execution_count": 133,
   "outputs": [
    {
     "data": {
      "text/plain": "        Unnamed: 0     id  Gender      Customer Type  Age   Type of Travel  \\\n103899      103899  94171  Female  disloyal Customer   23  Business travel   \n103900      103900  73097    Male     Loyal Customer   49  Business travel   \n103901      103901  68825    Male  disloyal Customer   30  Business travel   \n103902      103902  54173  Female  disloyal Customer   22  Business travel   \n103903      103903  62567    Male     Loyal Customer   27  Business travel   \n\n           Class  Flight Distance  Inflight wifi service  \\\n103899       Eco              192                      2   \n103900  Business             2347                      4   \n103901  Business             1995                      1   \n103902       Eco             1000                      1   \n103903  Business             1723                      1   \n\n        Departure/Arrival time convenient  ...  Inflight entertainment  \\\n103899                                  1  ...                       2   \n103900                                  4  ...                       5   \n103901                                  1  ...                       4   \n103902                                  1  ...                       1   \n103903                                  3  ...                       1   \n\n        On-board service  Leg room service  Baggage handling  Checkin service  \\\n103899                 3                 1                 4                2   \n103900                 5                 5                 5                5   \n103901                 3                 2                 4                5   \n103902                 4                 5                 1                5   \n103903                 1                 1                 4                4   \n\n        Inflight service  Cleanliness  Departure Delay in Minutes  \\\n103899                 3            2                           3   \n103900                 5            4                           0   \n103901                 5            4                           7   \n103902                 4            1                           0   \n103903                 3            1                           0   \n\n        Arrival Delay in Minutes             satisfaction  \n103899                       0.0  neutral or dissatisfied  \n103900                       0.0                satisfied  \n103901                      14.0  neutral or dissatisfied  \n103902                       0.0  neutral or dissatisfied  \n103903                       0.0  neutral or dissatisfied  \n\n[5 rows x 25 columns]",
      "text/html": "<div>\n<style scoped>\n    .dataframe tbody tr th:only-of-type {\n        vertical-align: middle;\n    }\n\n    .dataframe tbody tr th {\n        vertical-align: top;\n    }\n\n    .dataframe thead th {\n        text-align: right;\n    }\n</style>\n<table border=\"1\" class=\"dataframe\">\n  <thead>\n    <tr style=\"text-align: right;\">\n      <th></th>\n      <th>Unnamed: 0</th>\n      <th>id</th>\n      <th>Gender</th>\n      <th>Customer Type</th>\n      <th>Age</th>\n      <th>Type of Travel</th>\n      <th>Class</th>\n      <th>Flight Distance</th>\n      <th>Inflight wifi service</th>\n      <th>Departure/Arrival time convenient</th>\n      <th>...</th>\n      <th>Inflight entertainment</th>\n      <th>On-board service</th>\n      <th>Leg room service</th>\n      <th>Baggage handling</th>\n      <th>Checkin service</th>\n      <th>Inflight service</th>\n      <th>Cleanliness</th>\n      <th>Departure Delay in Minutes</th>\n      <th>Arrival Delay in Minutes</th>\n      <th>satisfaction</th>\n    </tr>\n  </thead>\n  <tbody>\n    <tr>\n      <th>103899</th>\n      <td>103899</td>\n      <td>94171</td>\n      <td>Female</td>\n      <td>disloyal Customer</td>\n      <td>23</td>\n      <td>Business travel</td>\n      <td>Eco</td>\n      <td>192</td>\n      <td>2</td>\n      <td>1</td>\n      <td>...</td>\n      <td>2</td>\n      <td>3</td>\n      <td>1</td>\n      <td>4</td>\n      <td>2</td>\n      <td>3</td>\n      <td>2</td>\n      <td>3</td>\n      <td>0.0</td>\n      <td>neutral or dissatisfied</td>\n    </tr>\n    <tr>\n      <th>103900</th>\n      <td>103900</td>\n      <td>73097</td>\n      <td>Male</td>\n      <td>Loyal Customer</td>\n      <td>49</td>\n      <td>Business travel</td>\n      <td>Business</td>\n      <td>2347</td>\n      <td>4</td>\n      <td>4</td>\n      <td>...</td>\n      <td>5</td>\n      <td>5</td>\n      <td>5</td>\n      <td>5</td>\n      <td>5</td>\n      <td>5</td>\n      <td>4</td>\n      <td>0</td>\n      <td>0.0</td>\n      <td>satisfied</td>\n    </tr>\n    <tr>\n      <th>103901</th>\n      <td>103901</td>\n      <td>68825</td>\n      <td>Male</td>\n      <td>disloyal Customer</td>\n      <td>30</td>\n      <td>Business travel</td>\n      <td>Business</td>\n      <td>1995</td>\n      <td>1</td>\n      <td>1</td>\n      <td>...</td>\n      <td>4</td>\n      <td>3</td>\n      <td>2</td>\n      <td>4</td>\n      <td>5</td>\n      <td>5</td>\n      <td>4</td>\n      <td>7</td>\n      <td>14.0</td>\n      <td>neutral or dissatisfied</td>\n    </tr>\n    <tr>\n      <th>103902</th>\n      <td>103902</td>\n      <td>54173</td>\n      <td>Female</td>\n      <td>disloyal Customer</td>\n      <td>22</td>\n      <td>Business travel</td>\n      <td>Eco</td>\n      <td>1000</td>\n      <td>1</td>\n      <td>1</td>\n      <td>...</td>\n      <td>1</td>\n      <td>4</td>\n      <td>5</td>\n      <td>1</td>\n      <td>5</td>\n      <td>4</td>\n      <td>1</td>\n      <td>0</td>\n      <td>0.0</td>\n      <td>neutral or dissatisfied</td>\n    </tr>\n    <tr>\n      <th>103903</th>\n      <td>103903</td>\n      <td>62567</td>\n      <td>Male</td>\n      <td>Loyal Customer</td>\n      <td>27</td>\n      <td>Business travel</td>\n      <td>Business</td>\n      <td>1723</td>\n      <td>1</td>\n      <td>3</td>\n      <td>...</td>\n      <td>1</td>\n      <td>1</td>\n      <td>1</td>\n      <td>4</td>\n      <td>4</td>\n      <td>3</td>\n      <td>1</td>\n      <td>0</td>\n      <td>0.0</td>\n      <td>neutral or dissatisfied</td>\n    </tr>\n  </tbody>\n</table>\n<p>5 rows × 25 columns</p>\n</div>"
     },
     "execution_count": 133,
     "metadata": {},
     "output_type": "execute_result"
    }
   ],
   "source": [
    "df.tail()"
   ],
   "metadata": {
    "collapsed": false
   }
  },
  {
   "cell_type": "markdown",
   "source": [
    "## Cleaning the dataset"
   ],
   "metadata": {
    "collapsed": false
   }
  },
  {
   "cell_type": "code",
   "execution_count": 134,
   "outputs": [
    {
     "data": {
      "text/plain": "Unnamed: 0                             0\nid                                     0\nGender                                 0\nCustomer Type                          0\nAge                                    0\nType of Travel                         0\nClass                                  0\nFlight Distance                        0\nInflight wifi service                  0\nDeparture/Arrival time convenient      0\nEase of Online booking                 0\nGate location                          0\nFood and drink                         0\nOnline boarding                        0\nSeat comfort                           0\nInflight entertainment                 0\nOn-board service                       0\nLeg room service                       0\nBaggage handling                       0\nCheckin service                        0\nInflight service                       0\nCleanliness                            0\nDeparture Delay in Minutes             0\nArrival Delay in Minutes             310\nsatisfaction                           0\ndtype: int64"
     },
     "execution_count": 134,
     "metadata": {},
     "output_type": "execute_result"
    }
   ],
   "source": [
    "df.isnull().sum()"
   ],
   "metadata": {
    "collapsed": false
   }
  },
  {
   "cell_type": "code",
   "execution_count": 135,
   "outputs": [
    {
     "data": {
      "text/plain": "        Gender      Customer Type  Age   Type of Travel     Class  \\\n0         Male     Loyal Customer   13  Personal Travel  Eco Plus   \n1         Male  disloyal Customer   25  Business travel  Business   \n2       Female     Loyal Customer   26  Business travel  Business   \n3       Female     Loyal Customer   25  Business travel  Business   \n4         Male     Loyal Customer   61  Business travel  Business   \n...        ...                ...  ...              ...       ...   \n103899  Female  disloyal Customer   23  Business travel       Eco   \n103900    Male     Loyal Customer   49  Business travel  Business   \n103901    Male  disloyal Customer   30  Business travel  Business   \n103902  Female  disloyal Customer   22  Business travel       Eco   \n103903    Male     Loyal Customer   27  Business travel  Business   \n\n        Flight Distance  Inflight wifi service  \\\n0                   460                      3   \n1                   235                      3   \n2                  1142                      2   \n3                   562                      2   \n4                   214                      3   \n...                 ...                    ...   \n103899              192                      2   \n103900             2347                      4   \n103901             1995                      1   \n103902             1000                      1   \n103903             1723                      1   \n\n        Departure/Arrival time convenient  Ease of Online booking  \\\n0                                       4                       3   \n1                                       2                       3   \n2                                       2                       2   \n3                                       5                       5   \n4                                       3                       3   \n...                                   ...                     ...   \n103899                                  1                       2   \n103900                                  4                       4   \n103901                                  1                       1   \n103902                                  1                       1   \n103903                                  3                       3   \n\n        Gate location  ...  Seat comfort  Inflight entertainment  \\\n0                   1  ...             5                       5   \n1                   3  ...             1                       1   \n2                   2  ...             5                       5   \n3                   5  ...             2                       2   \n4                   3  ...             5                       3   \n...               ...  ...           ...                     ...   \n103899              3  ...             2                       2   \n103900              4  ...             5                       5   \n103901              3  ...             5                       4   \n103902              5  ...             1                       1   \n103903              3  ...             1                       1   \n\n        On-board service  Leg room service  Baggage handling  Checkin service  \\\n0                      4                 3                 4                4   \n1                      1                 5                 3                1   \n2                      4                 3                 4                4   \n3                      2                 5                 3                1   \n4                      3                 4                 4                3   \n...                  ...               ...               ...              ...   \n103899                 3                 1                 4                2   \n103900                 5                 5                 5                5   \n103901                 3                 2                 4                5   \n103902                 4                 5                 1                5   \n103903                 1                 1                 4                4   \n\n        Inflight service  Cleanliness  Departure Delay in Minutes  \\\n0                      5            5                          25   \n1                      4            1                           1   \n2                      4            5                           0   \n3                      4            2                          11   \n4                      3            3                           0   \n...                  ...          ...                         ...   \n103899                 3            2                           3   \n103900                 5            4                           0   \n103901                 5            4                           7   \n103902                 4            1                           0   \n103903                 3            1                           0   \n\n        Arrival Delay in Minutes  \n0                           18.0  \n1                            6.0  \n2                            0.0  \n3                            9.0  \n4                            0.0  \n...                          ...  \n103899                       0.0  \n103900                       0.0  \n103901                      14.0  \n103902                       0.0  \n103903                       0.0  \n\n[103904 rows x 22 columns]",
      "text/html": "<div>\n<style scoped>\n    .dataframe tbody tr th:only-of-type {\n        vertical-align: middle;\n    }\n\n    .dataframe tbody tr th {\n        vertical-align: top;\n    }\n\n    .dataframe thead th {\n        text-align: right;\n    }\n</style>\n<table border=\"1\" class=\"dataframe\">\n  <thead>\n    <tr style=\"text-align: right;\">\n      <th></th>\n      <th>Gender</th>\n      <th>Customer Type</th>\n      <th>Age</th>\n      <th>Type of Travel</th>\n      <th>Class</th>\n      <th>Flight Distance</th>\n      <th>Inflight wifi service</th>\n      <th>Departure/Arrival time convenient</th>\n      <th>Ease of Online booking</th>\n      <th>Gate location</th>\n      <th>...</th>\n      <th>Seat comfort</th>\n      <th>Inflight entertainment</th>\n      <th>On-board service</th>\n      <th>Leg room service</th>\n      <th>Baggage handling</th>\n      <th>Checkin service</th>\n      <th>Inflight service</th>\n      <th>Cleanliness</th>\n      <th>Departure Delay in Minutes</th>\n      <th>Arrival Delay in Minutes</th>\n    </tr>\n  </thead>\n  <tbody>\n    <tr>\n      <th>0</th>\n      <td>Male</td>\n      <td>Loyal Customer</td>\n      <td>13</td>\n      <td>Personal Travel</td>\n      <td>Eco Plus</td>\n      <td>460</td>\n      <td>3</td>\n      <td>4</td>\n      <td>3</td>\n      <td>1</td>\n      <td>...</td>\n      <td>5</td>\n      <td>5</td>\n      <td>4</td>\n      <td>3</td>\n      <td>4</td>\n      <td>4</td>\n      <td>5</td>\n      <td>5</td>\n      <td>25</td>\n      <td>18.0</td>\n    </tr>\n    <tr>\n      <th>1</th>\n      <td>Male</td>\n      <td>disloyal Customer</td>\n      <td>25</td>\n      <td>Business travel</td>\n      <td>Business</td>\n      <td>235</td>\n      <td>3</td>\n      <td>2</td>\n      <td>3</td>\n      <td>3</td>\n      <td>...</td>\n      <td>1</td>\n      <td>1</td>\n      <td>1</td>\n      <td>5</td>\n      <td>3</td>\n      <td>1</td>\n      <td>4</td>\n      <td>1</td>\n      <td>1</td>\n      <td>6.0</td>\n    </tr>\n    <tr>\n      <th>2</th>\n      <td>Female</td>\n      <td>Loyal Customer</td>\n      <td>26</td>\n      <td>Business travel</td>\n      <td>Business</td>\n      <td>1142</td>\n      <td>2</td>\n      <td>2</td>\n      <td>2</td>\n      <td>2</td>\n      <td>...</td>\n      <td>5</td>\n      <td>5</td>\n      <td>4</td>\n      <td>3</td>\n      <td>4</td>\n      <td>4</td>\n      <td>4</td>\n      <td>5</td>\n      <td>0</td>\n      <td>0.0</td>\n    </tr>\n    <tr>\n      <th>3</th>\n      <td>Female</td>\n      <td>Loyal Customer</td>\n      <td>25</td>\n      <td>Business travel</td>\n      <td>Business</td>\n      <td>562</td>\n      <td>2</td>\n      <td>5</td>\n      <td>5</td>\n      <td>5</td>\n      <td>...</td>\n      <td>2</td>\n      <td>2</td>\n      <td>2</td>\n      <td>5</td>\n      <td>3</td>\n      <td>1</td>\n      <td>4</td>\n      <td>2</td>\n      <td>11</td>\n      <td>9.0</td>\n    </tr>\n    <tr>\n      <th>4</th>\n      <td>Male</td>\n      <td>Loyal Customer</td>\n      <td>61</td>\n      <td>Business travel</td>\n      <td>Business</td>\n      <td>214</td>\n      <td>3</td>\n      <td>3</td>\n      <td>3</td>\n      <td>3</td>\n      <td>...</td>\n      <td>5</td>\n      <td>3</td>\n      <td>3</td>\n      <td>4</td>\n      <td>4</td>\n      <td>3</td>\n      <td>3</td>\n      <td>3</td>\n      <td>0</td>\n      <td>0.0</td>\n    </tr>\n    <tr>\n      <th>...</th>\n      <td>...</td>\n      <td>...</td>\n      <td>...</td>\n      <td>...</td>\n      <td>...</td>\n      <td>...</td>\n      <td>...</td>\n      <td>...</td>\n      <td>...</td>\n      <td>...</td>\n      <td>...</td>\n      <td>...</td>\n      <td>...</td>\n      <td>...</td>\n      <td>...</td>\n      <td>...</td>\n      <td>...</td>\n      <td>...</td>\n      <td>...</td>\n      <td>...</td>\n      <td>...</td>\n    </tr>\n    <tr>\n      <th>103899</th>\n      <td>Female</td>\n      <td>disloyal Customer</td>\n      <td>23</td>\n      <td>Business travel</td>\n      <td>Eco</td>\n      <td>192</td>\n      <td>2</td>\n      <td>1</td>\n      <td>2</td>\n      <td>3</td>\n      <td>...</td>\n      <td>2</td>\n      <td>2</td>\n      <td>3</td>\n      <td>1</td>\n      <td>4</td>\n      <td>2</td>\n      <td>3</td>\n      <td>2</td>\n      <td>3</td>\n      <td>0.0</td>\n    </tr>\n    <tr>\n      <th>103900</th>\n      <td>Male</td>\n      <td>Loyal Customer</td>\n      <td>49</td>\n      <td>Business travel</td>\n      <td>Business</td>\n      <td>2347</td>\n      <td>4</td>\n      <td>4</td>\n      <td>4</td>\n      <td>4</td>\n      <td>...</td>\n      <td>5</td>\n      <td>5</td>\n      <td>5</td>\n      <td>5</td>\n      <td>5</td>\n      <td>5</td>\n      <td>5</td>\n      <td>4</td>\n      <td>0</td>\n      <td>0.0</td>\n    </tr>\n    <tr>\n      <th>103901</th>\n      <td>Male</td>\n      <td>disloyal Customer</td>\n      <td>30</td>\n      <td>Business travel</td>\n      <td>Business</td>\n      <td>1995</td>\n      <td>1</td>\n      <td>1</td>\n      <td>1</td>\n      <td>3</td>\n      <td>...</td>\n      <td>5</td>\n      <td>4</td>\n      <td>3</td>\n      <td>2</td>\n      <td>4</td>\n      <td>5</td>\n      <td>5</td>\n      <td>4</td>\n      <td>7</td>\n      <td>14.0</td>\n    </tr>\n    <tr>\n      <th>103902</th>\n      <td>Female</td>\n      <td>disloyal Customer</td>\n      <td>22</td>\n      <td>Business travel</td>\n      <td>Eco</td>\n      <td>1000</td>\n      <td>1</td>\n      <td>1</td>\n      <td>1</td>\n      <td>5</td>\n      <td>...</td>\n      <td>1</td>\n      <td>1</td>\n      <td>4</td>\n      <td>5</td>\n      <td>1</td>\n      <td>5</td>\n      <td>4</td>\n      <td>1</td>\n      <td>0</td>\n      <td>0.0</td>\n    </tr>\n    <tr>\n      <th>103903</th>\n      <td>Male</td>\n      <td>Loyal Customer</td>\n      <td>27</td>\n      <td>Business travel</td>\n      <td>Business</td>\n      <td>1723</td>\n      <td>1</td>\n      <td>3</td>\n      <td>3</td>\n      <td>3</td>\n      <td>...</td>\n      <td>1</td>\n      <td>1</td>\n      <td>1</td>\n      <td>1</td>\n      <td>4</td>\n      <td>4</td>\n      <td>3</td>\n      <td>1</td>\n      <td>0</td>\n      <td>0.0</td>\n    </tr>\n  </tbody>\n</table>\n<p>103904 rows × 22 columns</p>\n</div>"
     },
     "execution_count": 135,
     "metadata": {},
     "output_type": "execute_result"
    }
   ],
   "source": [
    "df = df.drop(columns=['satisfaction', 'Unnamed: 0', 'id'])\n",
    "df"
   ],
   "metadata": {
    "collapsed": false
   }
  },
  {
   "cell_type": "code",
   "execution_count": 136,
   "outputs": [
    {
     "data": {
      "text/plain": "array(['Loyal Customer', 'disloyal Customer'], dtype=object)"
     },
     "execution_count": 136,
     "metadata": {},
     "output_type": "execute_result"
    }
   ],
   "source": [
    "df['Customer Type'].unique()"
   ],
   "metadata": {
    "collapsed": false
   }
  },
  {
   "cell_type": "code",
   "execution_count": 137,
   "outputs": [
    {
     "data": {
      "text/plain": "array(['Personal Travel', 'Business travel'], dtype=object)"
     },
     "execution_count": 137,
     "metadata": {},
     "output_type": "execute_result"
    }
   ],
   "source": [
    "df['Type of Travel'].unique()"
   ],
   "metadata": {
    "collapsed": false
   }
  },
  {
   "cell_type": "code",
   "execution_count": 138,
   "outputs": [
    {
     "data": {
      "text/plain": "array(['Eco Plus', 'Business', 'Eco'], dtype=object)"
     },
     "execution_count": 138,
     "metadata": {},
     "output_type": "execute_result"
    }
   ],
   "source": [
    "df['Class'].unique()"
   ],
   "metadata": {
    "collapsed": false
   }
  },
  {
   "cell_type": "code",
   "execution_count": 139,
   "outputs": [
    {
     "data": {
      "text/plain": "        Gender  Customer Type  Age  Type of Travel  Class  Flight Distance  \\\n0            1              0   13               0      0              460   \n1            1              1   25               1      1              235   \n2            0              0   26               1      1             1142   \n3            0              0   25               1      1              562   \n4            1              0   61               1      1              214   \n...        ...            ...  ...             ...    ...              ...   \n103899       0              1   23               1      2              192   \n103900       1              0   49               1      1             2347   \n103901       1              1   30               1      1             1995   \n103902       0              1   22               1      2             1000   \n103903       1              0   27               1      1             1723   \n\n        Inflight wifi service  Departure/Arrival time convenient  \\\n0                           3                                  4   \n1                           3                                  2   \n2                           2                                  2   \n3                           2                                  5   \n4                           3                                  3   \n...                       ...                                ...   \n103899                      2                                  1   \n103900                      4                                  4   \n103901                      1                                  1   \n103902                      1                                  1   \n103903                      1                                  3   \n\n        Ease of Online booking  Gate location  ...  Seat comfort  \\\n0                            3              1  ...             5   \n1                            3              3  ...             1   \n2                            2              2  ...             5   \n3                            5              5  ...             2   \n4                            3              3  ...             5   \n...                        ...            ...  ...           ...   \n103899                       2              3  ...             2   \n103900                       4              4  ...             5   \n103901                       1              3  ...             5   \n103902                       1              5  ...             1   \n103903                       3              3  ...             1   \n\n        Inflight entertainment  On-board service  Leg room service  \\\n0                            5                 4                 3   \n1                            1                 1                 5   \n2                            5                 4                 3   \n3                            2                 2                 5   \n4                            3                 3                 4   \n...                        ...               ...               ...   \n103899                       2                 3                 1   \n103900                       5                 5                 5   \n103901                       4                 3                 2   \n103902                       1                 4                 5   \n103903                       1                 1                 1   \n\n        Baggage handling  Checkin service  Inflight service  Cleanliness  \\\n0                      4                4                 5            5   \n1                      3                1                 4            1   \n2                      4                4                 4            5   \n3                      3                1                 4            2   \n4                      4                3                 3            3   \n...                  ...              ...               ...          ...   \n103899                 4                2                 3            2   \n103900                 5                5                 5            4   \n103901                 4                5                 5            4   \n103902                 1                5                 4            1   \n103903                 4                4                 3            1   \n\n        Departure Delay in Minutes  Arrival Delay in Minutes  \n0                               25                      18.0  \n1                                1                       6.0  \n2                                0                       0.0  \n3                               11                       9.0  \n4                                0                       0.0  \n...                            ...                       ...  \n103899                           3                       0.0  \n103900                           0                       0.0  \n103901                           7                      14.0  \n103902                           0                       0.0  \n103903                           0                       0.0  \n\n[103904 rows x 22 columns]",
      "text/html": "<div>\n<style scoped>\n    .dataframe tbody tr th:only-of-type {\n        vertical-align: middle;\n    }\n\n    .dataframe tbody tr th {\n        vertical-align: top;\n    }\n\n    .dataframe thead th {\n        text-align: right;\n    }\n</style>\n<table border=\"1\" class=\"dataframe\">\n  <thead>\n    <tr style=\"text-align: right;\">\n      <th></th>\n      <th>Gender</th>\n      <th>Customer Type</th>\n      <th>Age</th>\n      <th>Type of Travel</th>\n      <th>Class</th>\n      <th>Flight Distance</th>\n      <th>Inflight wifi service</th>\n      <th>Departure/Arrival time convenient</th>\n      <th>Ease of Online booking</th>\n      <th>Gate location</th>\n      <th>...</th>\n      <th>Seat comfort</th>\n      <th>Inflight entertainment</th>\n      <th>On-board service</th>\n      <th>Leg room service</th>\n      <th>Baggage handling</th>\n      <th>Checkin service</th>\n      <th>Inflight service</th>\n      <th>Cleanliness</th>\n      <th>Departure Delay in Minutes</th>\n      <th>Arrival Delay in Minutes</th>\n    </tr>\n  </thead>\n  <tbody>\n    <tr>\n      <th>0</th>\n      <td>1</td>\n      <td>0</td>\n      <td>13</td>\n      <td>0</td>\n      <td>0</td>\n      <td>460</td>\n      <td>3</td>\n      <td>4</td>\n      <td>3</td>\n      <td>1</td>\n      <td>...</td>\n      <td>5</td>\n      <td>5</td>\n      <td>4</td>\n      <td>3</td>\n      <td>4</td>\n      <td>4</td>\n      <td>5</td>\n      <td>5</td>\n      <td>25</td>\n      <td>18.0</td>\n    </tr>\n    <tr>\n      <th>1</th>\n      <td>1</td>\n      <td>1</td>\n      <td>25</td>\n      <td>1</td>\n      <td>1</td>\n      <td>235</td>\n      <td>3</td>\n      <td>2</td>\n      <td>3</td>\n      <td>3</td>\n      <td>...</td>\n      <td>1</td>\n      <td>1</td>\n      <td>1</td>\n      <td>5</td>\n      <td>3</td>\n      <td>1</td>\n      <td>4</td>\n      <td>1</td>\n      <td>1</td>\n      <td>6.0</td>\n    </tr>\n    <tr>\n      <th>2</th>\n      <td>0</td>\n      <td>0</td>\n      <td>26</td>\n      <td>1</td>\n      <td>1</td>\n      <td>1142</td>\n      <td>2</td>\n      <td>2</td>\n      <td>2</td>\n      <td>2</td>\n      <td>...</td>\n      <td>5</td>\n      <td>5</td>\n      <td>4</td>\n      <td>3</td>\n      <td>4</td>\n      <td>4</td>\n      <td>4</td>\n      <td>5</td>\n      <td>0</td>\n      <td>0.0</td>\n    </tr>\n    <tr>\n      <th>3</th>\n      <td>0</td>\n      <td>0</td>\n      <td>25</td>\n      <td>1</td>\n      <td>1</td>\n      <td>562</td>\n      <td>2</td>\n      <td>5</td>\n      <td>5</td>\n      <td>5</td>\n      <td>...</td>\n      <td>2</td>\n      <td>2</td>\n      <td>2</td>\n      <td>5</td>\n      <td>3</td>\n      <td>1</td>\n      <td>4</td>\n      <td>2</td>\n      <td>11</td>\n      <td>9.0</td>\n    </tr>\n    <tr>\n      <th>4</th>\n      <td>1</td>\n      <td>0</td>\n      <td>61</td>\n      <td>1</td>\n      <td>1</td>\n      <td>214</td>\n      <td>3</td>\n      <td>3</td>\n      <td>3</td>\n      <td>3</td>\n      <td>...</td>\n      <td>5</td>\n      <td>3</td>\n      <td>3</td>\n      <td>4</td>\n      <td>4</td>\n      <td>3</td>\n      <td>3</td>\n      <td>3</td>\n      <td>0</td>\n      <td>0.0</td>\n    </tr>\n    <tr>\n      <th>...</th>\n      <td>...</td>\n      <td>...</td>\n      <td>...</td>\n      <td>...</td>\n      <td>...</td>\n      <td>...</td>\n      <td>...</td>\n      <td>...</td>\n      <td>...</td>\n      <td>...</td>\n      <td>...</td>\n      <td>...</td>\n      <td>...</td>\n      <td>...</td>\n      <td>...</td>\n      <td>...</td>\n      <td>...</td>\n      <td>...</td>\n      <td>...</td>\n      <td>...</td>\n      <td>...</td>\n    </tr>\n    <tr>\n      <th>103899</th>\n      <td>0</td>\n      <td>1</td>\n      <td>23</td>\n      <td>1</td>\n      <td>2</td>\n      <td>192</td>\n      <td>2</td>\n      <td>1</td>\n      <td>2</td>\n      <td>3</td>\n      <td>...</td>\n      <td>2</td>\n      <td>2</td>\n      <td>3</td>\n      <td>1</td>\n      <td>4</td>\n      <td>2</td>\n      <td>3</td>\n      <td>2</td>\n      <td>3</td>\n      <td>0.0</td>\n    </tr>\n    <tr>\n      <th>103900</th>\n      <td>1</td>\n      <td>0</td>\n      <td>49</td>\n      <td>1</td>\n      <td>1</td>\n      <td>2347</td>\n      <td>4</td>\n      <td>4</td>\n      <td>4</td>\n      <td>4</td>\n      <td>...</td>\n      <td>5</td>\n      <td>5</td>\n      <td>5</td>\n      <td>5</td>\n      <td>5</td>\n      <td>5</td>\n      <td>5</td>\n      <td>4</td>\n      <td>0</td>\n      <td>0.0</td>\n    </tr>\n    <tr>\n      <th>103901</th>\n      <td>1</td>\n      <td>1</td>\n      <td>30</td>\n      <td>1</td>\n      <td>1</td>\n      <td>1995</td>\n      <td>1</td>\n      <td>1</td>\n      <td>1</td>\n      <td>3</td>\n      <td>...</td>\n      <td>5</td>\n      <td>4</td>\n      <td>3</td>\n      <td>2</td>\n      <td>4</td>\n      <td>5</td>\n      <td>5</td>\n      <td>4</td>\n      <td>7</td>\n      <td>14.0</td>\n    </tr>\n    <tr>\n      <th>103902</th>\n      <td>0</td>\n      <td>1</td>\n      <td>22</td>\n      <td>1</td>\n      <td>2</td>\n      <td>1000</td>\n      <td>1</td>\n      <td>1</td>\n      <td>1</td>\n      <td>5</td>\n      <td>...</td>\n      <td>1</td>\n      <td>1</td>\n      <td>4</td>\n      <td>5</td>\n      <td>1</td>\n      <td>5</td>\n      <td>4</td>\n      <td>1</td>\n      <td>0</td>\n      <td>0.0</td>\n    </tr>\n    <tr>\n      <th>103903</th>\n      <td>1</td>\n      <td>0</td>\n      <td>27</td>\n      <td>1</td>\n      <td>1</td>\n      <td>1723</td>\n      <td>1</td>\n      <td>3</td>\n      <td>3</td>\n      <td>3</td>\n      <td>...</td>\n      <td>1</td>\n      <td>1</td>\n      <td>1</td>\n      <td>1</td>\n      <td>4</td>\n      <td>4</td>\n      <td>3</td>\n      <td>1</td>\n      <td>0</td>\n      <td>0.0</td>\n    </tr>\n  </tbody>\n</table>\n<p>103904 rows × 22 columns</p>\n</div>"
     },
     "execution_count": 139,
     "metadata": {},
     "output_type": "execute_result"
    }
   ],
   "source": [
    "df['Gender'] = df['Gender'].replace(['Female', 'Male'], [0,1])\n",
    "df['Customer Type'] = df['Customer Type'].replace(['Loyal Customer', 'disloyal Customer'], [0,1])\n",
    "df['Type of Travel'] = df['Type of Travel'].replace(['Personal Travel', 'Business travel'], [0,1])\n",
    "df['Class'] = df['Class'].replace(['Eco Plus', 'Business', 'Eco'], [0,1,2])\n",
    "df"
   ],
   "metadata": {
    "collapsed": false
   }
  },
  {
   "cell_type": "code",
   "execution_count": 140,
   "outputs": [
    {
     "data": {
      "text/plain": "0         (26.048, 1269.0]\n1         (26.048, 1269.0]\n2         (26.048, 1269.0]\n3         (26.048, 1269.0]\n4         (26.048, 1269.0]\n                ...       \n103899    (26.048, 1269.0]\n103900    (1269.0, 2507.0]\n103901    (1269.0, 2507.0]\n103902    (26.048, 1269.0]\n103903    (1269.0, 2507.0]\nName: Flight Distance, Length: 103904, dtype: category\nCategories (4, interval[float64, right]): [(26.048, 1269.0] < (1269.0, 2507.0] < (2507.0, 3745.0] < (3745.0, 4983.0]]"
     },
     "execution_count": 140,
     "metadata": {},
     "output_type": "execute_result"
    }
   ],
   "source": [
    "pd.cut(df['Flight Distance'], 4)"
   ],
   "metadata": {
    "collapsed": false
   }
  },
  {
   "cell_type": "code",
   "execution_count": 141,
   "outputs": [
    {
     "data": {
      "text/plain": "        Gender  Customer Type  Age  Type of Travel  Class  Flight Distance  \\\n0            1              0   13               0      0              460   \n1            1              1   25               1      1              235   \n2            0              0   26               1      1             1142   \n3            0              0   25               1      1              562   \n4            1              0   61               1      1              214   \n...        ...            ...  ...             ...    ...              ...   \n103899       0              1   23               1      2              192   \n103900       1              0   49               1      1             2347   \n103901       1              1   30               1      1             1995   \n103902       0              1   22               1      2             1000   \n103903       1              0   27               1      1             1723   \n\n        Inflight wifi service  Departure/Arrival time convenient  \\\n0                           3                                  4   \n1                           3                                  2   \n2                           2                                  2   \n3                           2                                  5   \n4                           3                                  3   \n...                       ...                                ...   \n103899                      2                                  1   \n103900                      4                                  4   \n103901                      1                                  1   \n103902                      1                                  1   \n103903                      1                                  3   \n\n        Ease of Online booking  Gate location  ...  Inflight entertainment  \\\n0                            3              1  ...                       5   \n1                            3              3  ...                       1   \n2                            2              2  ...                       5   \n3                            5              5  ...                       2   \n4                            3              3  ...                       3   \n...                        ...            ...  ...                     ...   \n103899                       2              3  ...                       2   \n103900                       4              4  ...                       5   \n103901                       1              3  ...                       4   \n103902                       1              5  ...                       1   \n103903                       3              3  ...                       1   \n\n        On-board service  Leg room service  Baggage handling  Checkin service  \\\n0                      4                 3                 4                4   \n1                      1                 5                 3                1   \n2                      4                 3                 4                4   \n3                      2                 5                 3                1   \n4                      3                 4                 4                3   \n...                  ...               ...               ...              ...   \n103899                 3                 1                 4                2   \n103900                 5                 5                 5                5   \n103901                 3                 2                 4                5   \n103902                 4                 5                 1                5   \n103903                 1                 1                 4                4   \n\n        Inflight service  Cleanliness  Departure Delay in Minutes  \\\n0                      5            5                          25   \n1                      4            1                           1   \n2                      4            5                           0   \n3                      4            2                          11   \n4                      3            3                           0   \n...                  ...          ...                         ...   \n103899                 3            2                           3   \n103900                 5            4                           0   \n103901                 5            4                           7   \n103902                 4            1                           0   \n103903                 3            1                           0   \n\n        Arrival Delay in Minutes  FlightDistanceGroup  \n0                           18.0                    1  \n1                            6.0                    1  \n2                            0.0                    1  \n3                            9.0                    1  \n4                            0.0                    1  \n...                          ...                  ...  \n103899                       0.0                    1  \n103900                       0.0                    2  \n103901                      14.0                    2  \n103902                       0.0                    1  \n103903                       0.0                    2  \n\n[103904 rows x 23 columns]",
      "text/html": "<div>\n<style scoped>\n    .dataframe tbody tr th:only-of-type {\n        vertical-align: middle;\n    }\n\n    .dataframe tbody tr th {\n        vertical-align: top;\n    }\n\n    .dataframe thead th {\n        text-align: right;\n    }\n</style>\n<table border=\"1\" class=\"dataframe\">\n  <thead>\n    <tr style=\"text-align: right;\">\n      <th></th>\n      <th>Gender</th>\n      <th>Customer Type</th>\n      <th>Age</th>\n      <th>Type of Travel</th>\n      <th>Class</th>\n      <th>Flight Distance</th>\n      <th>Inflight wifi service</th>\n      <th>Departure/Arrival time convenient</th>\n      <th>Ease of Online booking</th>\n      <th>Gate location</th>\n      <th>...</th>\n      <th>Inflight entertainment</th>\n      <th>On-board service</th>\n      <th>Leg room service</th>\n      <th>Baggage handling</th>\n      <th>Checkin service</th>\n      <th>Inflight service</th>\n      <th>Cleanliness</th>\n      <th>Departure Delay in Minutes</th>\n      <th>Arrival Delay in Minutes</th>\n      <th>FlightDistanceGroup</th>\n    </tr>\n  </thead>\n  <tbody>\n    <tr>\n      <th>0</th>\n      <td>1</td>\n      <td>0</td>\n      <td>13</td>\n      <td>0</td>\n      <td>0</td>\n      <td>460</td>\n      <td>3</td>\n      <td>4</td>\n      <td>3</td>\n      <td>1</td>\n      <td>...</td>\n      <td>5</td>\n      <td>4</td>\n      <td>3</td>\n      <td>4</td>\n      <td>4</td>\n      <td>5</td>\n      <td>5</td>\n      <td>25</td>\n      <td>18.0</td>\n      <td>1</td>\n    </tr>\n    <tr>\n      <th>1</th>\n      <td>1</td>\n      <td>1</td>\n      <td>25</td>\n      <td>1</td>\n      <td>1</td>\n      <td>235</td>\n      <td>3</td>\n      <td>2</td>\n      <td>3</td>\n      <td>3</td>\n      <td>...</td>\n      <td>1</td>\n      <td>1</td>\n      <td>5</td>\n      <td>3</td>\n      <td>1</td>\n      <td>4</td>\n      <td>1</td>\n      <td>1</td>\n      <td>6.0</td>\n      <td>1</td>\n    </tr>\n    <tr>\n      <th>2</th>\n      <td>0</td>\n      <td>0</td>\n      <td>26</td>\n      <td>1</td>\n      <td>1</td>\n      <td>1142</td>\n      <td>2</td>\n      <td>2</td>\n      <td>2</td>\n      <td>2</td>\n      <td>...</td>\n      <td>5</td>\n      <td>4</td>\n      <td>3</td>\n      <td>4</td>\n      <td>4</td>\n      <td>4</td>\n      <td>5</td>\n      <td>0</td>\n      <td>0.0</td>\n      <td>1</td>\n    </tr>\n    <tr>\n      <th>3</th>\n      <td>0</td>\n      <td>0</td>\n      <td>25</td>\n      <td>1</td>\n      <td>1</td>\n      <td>562</td>\n      <td>2</td>\n      <td>5</td>\n      <td>5</td>\n      <td>5</td>\n      <td>...</td>\n      <td>2</td>\n      <td>2</td>\n      <td>5</td>\n      <td>3</td>\n      <td>1</td>\n      <td>4</td>\n      <td>2</td>\n      <td>11</td>\n      <td>9.0</td>\n      <td>1</td>\n    </tr>\n    <tr>\n      <th>4</th>\n      <td>1</td>\n      <td>0</td>\n      <td>61</td>\n      <td>1</td>\n      <td>1</td>\n      <td>214</td>\n      <td>3</td>\n      <td>3</td>\n      <td>3</td>\n      <td>3</td>\n      <td>...</td>\n      <td>3</td>\n      <td>3</td>\n      <td>4</td>\n      <td>4</td>\n      <td>3</td>\n      <td>3</td>\n      <td>3</td>\n      <td>0</td>\n      <td>0.0</td>\n      <td>1</td>\n    </tr>\n    <tr>\n      <th>...</th>\n      <td>...</td>\n      <td>...</td>\n      <td>...</td>\n      <td>...</td>\n      <td>...</td>\n      <td>...</td>\n      <td>...</td>\n      <td>...</td>\n      <td>...</td>\n      <td>...</td>\n      <td>...</td>\n      <td>...</td>\n      <td>...</td>\n      <td>...</td>\n      <td>...</td>\n      <td>...</td>\n      <td>...</td>\n      <td>...</td>\n      <td>...</td>\n      <td>...</td>\n      <td>...</td>\n    </tr>\n    <tr>\n      <th>103899</th>\n      <td>0</td>\n      <td>1</td>\n      <td>23</td>\n      <td>1</td>\n      <td>2</td>\n      <td>192</td>\n      <td>2</td>\n      <td>1</td>\n      <td>2</td>\n      <td>3</td>\n      <td>...</td>\n      <td>2</td>\n      <td>3</td>\n      <td>1</td>\n      <td>4</td>\n      <td>2</td>\n      <td>3</td>\n      <td>2</td>\n      <td>3</td>\n      <td>0.0</td>\n      <td>1</td>\n    </tr>\n    <tr>\n      <th>103900</th>\n      <td>1</td>\n      <td>0</td>\n      <td>49</td>\n      <td>1</td>\n      <td>1</td>\n      <td>2347</td>\n      <td>4</td>\n      <td>4</td>\n      <td>4</td>\n      <td>4</td>\n      <td>...</td>\n      <td>5</td>\n      <td>5</td>\n      <td>5</td>\n      <td>5</td>\n      <td>5</td>\n      <td>5</td>\n      <td>4</td>\n      <td>0</td>\n      <td>0.0</td>\n      <td>2</td>\n    </tr>\n    <tr>\n      <th>103901</th>\n      <td>1</td>\n      <td>1</td>\n      <td>30</td>\n      <td>1</td>\n      <td>1</td>\n      <td>1995</td>\n      <td>1</td>\n      <td>1</td>\n      <td>1</td>\n      <td>3</td>\n      <td>...</td>\n      <td>4</td>\n      <td>3</td>\n      <td>2</td>\n      <td>4</td>\n      <td>5</td>\n      <td>5</td>\n      <td>4</td>\n      <td>7</td>\n      <td>14.0</td>\n      <td>2</td>\n    </tr>\n    <tr>\n      <th>103902</th>\n      <td>0</td>\n      <td>1</td>\n      <td>22</td>\n      <td>1</td>\n      <td>2</td>\n      <td>1000</td>\n      <td>1</td>\n      <td>1</td>\n      <td>1</td>\n      <td>5</td>\n      <td>...</td>\n      <td>1</td>\n      <td>4</td>\n      <td>5</td>\n      <td>1</td>\n      <td>5</td>\n      <td>4</td>\n      <td>1</td>\n      <td>0</td>\n      <td>0.0</td>\n      <td>1</td>\n    </tr>\n    <tr>\n      <th>103903</th>\n      <td>1</td>\n      <td>0</td>\n      <td>27</td>\n      <td>1</td>\n      <td>1</td>\n      <td>1723</td>\n      <td>1</td>\n      <td>3</td>\n      <td>3</td>\n      <td>3</td>\n      <td>...</td>\n      <td>1</td>\n      <td>1</td>\n      <td>1</td>\n      <td>4</td>\n      <td>4</td>\n      <td>3</td>\n      <td>1</td>\n      <td>0</td>\n      <td>0.0</td>\n      <td>2</td>\n    </tr>\n  </tbody>\n</table>\n<p>103904 rows × 23 columns</p>\n</div>"
     },
     "execution_count": 141,
     "metadata": {},
     "output_type": "execute_result"
    }
   ],
   "source": [
    "# Got the idea of splitting age into bins from another Notebook, but seems like a common practice called Binning, where you put a range of values into a bin\n",
    "def bins(df):\n",
    "    df['FlightDistanceGroup'] = 0\n",
    "    df.loc[df['Flight Distance'] < 26.048, 'FlightDistanceGroup' ] = 0\n",
    "    df.loc[(df['Flight Distance'] >= 26.048) & (df['Flight Distance'] < 1269), 'FlightDistanceGroup'] = 1\n",
    "    df.loc[(df['Flight Distance'] >= 1269) & (df['Flight Distance'] < 2507), 'FlightDistanceGroup'] = 2\n",
    "    df.loc[(df['Flight Distance'] >= 2507) & (df['Flight Distance'] < 3745), 'FlightDistanceGroup'] = 3\n",
    "    df.loc[df['Flight Distance'] >= 3745, 'FlightDistanceGroup'] = 4\n",
    "\n",
    "    # Could also create bins for fare, but not sure Fare is needed.\n",
    "\n",
    "    return df\n",
    "\n",
    "def min_max_normalizing(df):\n",
    "    df['Flight Distance'] = (df['Flight Distance'] - df['Flight Distance'].min()) / \\\n",
    "                      (df['Flight Distance'].max() - df['Flight Distance'].min())\n",
    "\n",
    "    return df\n",
    "\n",
    "# Z-score Normalizing\n",
    "def z_score_normalizing(df):\n",
    "    df['Flight Distance'] = (df['Flight Distance'] - df['Flight Distance'].mean()) / df['Flight Distance'].std()\n",
    "\n",
    "    return df\n",
    "\n",
    "df = bins(df)\n",
    "df"
   ],
   "metadata": {
    "collapsed": false
   }
  },
  {
   "cell_type": "code",
   "execution_count": 141,
   "outputs": [],
   "source": [],
   "metadata": {
    "collapsed": false
   }
  }
 ],
 "metadata": {
  "kernelspec": {
   "display_name": "Python 3",
   "language": "python",
   "name": "python3"
  },
  "language_info": {
   "codemirror_mode": {
    "name": "ipython",
    "version": 2
   },
   "file_extension": ".py",
   "mimetype": "text/x-python",
   "name": "python",
   "nbconvert_exporter": "python",
   "pygments_lexer": "ipython2",
   "version": "2.7.6"
  }
 },
 "nbformat": 4,
 "nbformat_minor": 0
}
