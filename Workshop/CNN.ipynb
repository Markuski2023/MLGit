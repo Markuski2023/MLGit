{
 "cells": [
  {
   "cell_type": "code",
   "execution_count": 26,
   "metadata": {
    "collapsed": true
   },
   "outputs": [],
   "source": [
    "import pandas as pd\n",
    "import matplotlib.pyplot as plt\n",
    "from keras.models import Sequential\n",
    "from keras.layers import Dense, Flatten, Dropout, Conv2D, MaxPool2D\n",
    "from keras.utils.np_utils import to_categorical\n",
    "from sklearn.model_selection import train_test_split\n",
    "from keras.optimizers import Adam\n",
    "from keras.preprocessing.image import ImageDataGenerator"
   ]
  },
  {
   "cell_type": "code",
   "execution_count": 27,
   "outputs": [],
   "source": [
    "train = pd.read_csv('train.csv')\n",
    "test = pd.read_csv('test.csv')"
   ],
   "metadata": {
    "collapsed": false
   }
  },
  {
   "cell_type": "code",
   "execution_count": 28,
   "outputs": [],
   "source": [
    "train_y = train['label']\n",
    "train_X = train.drop(labels = ['label'], axis=1)"
   ],
   "metadata": {
    "collapsed": false
   }
  },
  {
   "cell_type": "code",
   "execution_count": 29,
   "outputs": [],
   "source": [
    "train_X = train_X / 255.0\n",
    "test = test / 255.0\n",
    "train_X = train_X.values.reshape(-1,28,28,1)\n",
    "test = test.values.reshape(-1,28,28,1)\n",
    "train_y = to_categorical(train_y, num_classes = 10)"
   ],
   "metadata": {
    "collapsed": false
   }
  },
  {
   "cell_type": "code",
   "execution_count": 30,
   "outputs": [],
   "source": [
    "train_X, test_X, train_y, test_y = train_test_split(train_X, train_y, test_size = 0.1, random_state=42)"
   ],
   "metadata": {
    "collapsed": false
   }
  },
  {
   "cell_type": "code",
   "execution_count": 31,
   "outputs": [],
   "source": [
    "model = Sequential()\n",
    "\n",
    "model.add(Conv2D(kernel_size=7, filters=32, activation ='relu', input_shape = (28,28,1)))\n",
    "model.add(MaxPool2D(pool_size=2))\n",
    "model.add(Dropout(0.15))\n",
    "\n",
    "model.add(Conv2D(kernel_size=6, filters=16, activation ='relu'))\n",
    "model.add(MaxPool2D(pool_size=2))\n",
    "model.add(Dropout(0.15))\n",
    "\n",
    "model.add(Flatten())\n",
    "model.add(Dense(256, activation = \"relu\"))\n",
    "model.add(Dense(10, activation = \"softmax\"))"
   ],
   "metadata": {
    "collapsed": false
   }
  },
  {
   "cell_type": "code",
   "execution_count": 32,
   "outputs": [
    {
     "name": "stdout",
     "output_type": "stream",
     "text": [
      "Epoch 1/30\n",
      "150/150 [==============================] - 7s 44ms/step - loss: 0.5387 - accuracy: 0.8328\n",
      "Epoch 2/30\n",
      "150/150 [==============================] - 5s 36ms/step - loss: 0.1504 - accuracy: 0.9536\n",
      "Epoch 3/30\n",
      "150/150 [==============================] - 8s 56ms/step - loss: 0.1021 - accuracy: 0.9685\n",
      "Epoch 4/30\n",
      "150/150 [==============================] - 5s 35ms/step - loss: 0.0838 - accuracy: 0.9734\n",
      "Epoch 5/30\n",
      "150/150 [==============================] - 8s 52ms/step - loss: 0.0698 - accuracy: 0.9782\n",
      "Epoch 6/30\n",
      "150/150 [==============================] - 5s 35ms/step - loss: 0.0590 - accuracy: 0.9822\n",
      "Epoch 7/30\n",
      "150/150 [==============================] - 7s 49ms/step - loss: 0.0516 - accuracy: 0.9834\n",
      "Epoch 8/30\n",
      "150/150 [==============================] - 7s 49ms/step - loss: 0.0496 - accuracy: 0.9838\n",
      "Epoch 9/30\n",
      "150/150 [==============================] - 5s 36ms/step - loss: 0.0428 - accuracy: 0.9863\n",
      "Epoch 10/30\n",
      "150/150 [==============================] - 7s 44ms/step - loss: 0.0409 - accuracy: 0.9871\n",
      "Epoch 11/30\n",
      "150/150 [==============================] - 6s 43ms/step - loss: 0.0382 - accuracy: 0.9883\n",
      "Epoch 12/30\n",
      "150/150 [==============================] - 6s 40ms/step - loss: 0.0356 - accuracy: 0.9882\n",
      "Epoch 13/30\n",
      "150/150 [==============================] - 6s 40ms/step - loss: 0.0331 - accuracy: 0.9891\n",
      "Epoch 14/30\n",
      "150/150 [==============================] - 5s 35ms/step - loss: 0.0316 - accuracy: 0.9900\n",
      "Epoch 15/30\n",
      "150/150 [==============================] - 7s 44ms/step - loss: 0.0290 - accuracy: 0.9910\n",
      "Epoch 16/30\n",
      "150/150 [==============================] - 8s 57ms/step - loss: 0.0289 - accuracy: 0.9903\n",
      "Epoch 17/30\n",
      "150/150 [==============================] - 6s 43ms/step - loss: 0.0256 - accuracy: 0.9915\n",
      "Epoch 18/30\n",
      "150/150 [==============================] - 7s 47ms/step - loss: 0.0236 - accuracy: 0.9920\n",
      "Epoch 19/30\n",
      "150/150 [==============================] - 9s 57ms/step - loss: 0.0242 - accuracy: 0.9924\n",
      "Epoch 20/30\n",
      "150/150 [==============================] - 7s 49ms/step - loss: 0.0222 - accuracy: 0.9924\n",
      "Epoch 21/30\n",
      "150/150 [==============================] - 6s 37ms/step - loss: 0.0204 - accuracy: 0.9937\n",
      "Epoch 22/30\n",
      "150/150 [==============================] - 8s 51ms/step - loss: 0.0204 - accuracy: 0.9931\n",
      "Epoch 23/30\n",
      "150/150 [==============================] - 6s 43ms/step - loss: 0.0191 - accuracy: 0.9933\n",
      "Epoch 24/30\n",
      "150/150 [==============================] - 8s 56ms/step - loss: 0.0174 - accuracy: 0.9945\n",
      "Epoch 25/30\n",
      "150/150 [==============================] - 9s 58ms/step - loss: 0.0184 - accuracy: 0.9942\n",
      "Epoch 26/30\n",
      "150/150 [==============================] - 8s 55ms/step - loss: 0.0172 - accuracy: 0.9942\n",
      "Epoch 27/30\n",
      "150/150 [==============================] - 9s 58ms/step - loss: 0.0177 - accuracy: 0.9939\n",
      "Epoch 28/30\n",
      "150/150 [==============================] - 8s 54ms/step - loss: 0.0176 - accuracy: 0.9940\n",
      "Epoch 29/30\n",
      "150/150 [==============================] - 9s 57ms/step - loss: 0.0162 - accuracy: 0.9946\n",
      "Epoch 30/30\n",
      "150/150 [==============================] - 8s 54ms/step - loss: 0.0143 - accuracy: 0.9953\n"
     ]
    }
   ],
   "source": [
    "model.compile(optimizer=Adam() , loss = \"categorical_crossentropy\", metrics=[\"accuracy\"])\n",
    "history = model.fit(train_X, train_y, epochs=30, batch_size=250, steps_per_epoch=150)"
   ],
   "metadata": {
    "collapsed": false
   }
  },
  {
   "cell_type": "code",
   "execution_count": 33,
   "outputs": [
    {
     "name": "stdout",
     "output_type": "stream",
     "text": [
      "1182/1182 [==============================] - 7s 6ms/step - loss: 0.0038 - accuracy: 0.9992\n",
      "[0.0037940971087664366, 0.9991798996925354]\n"
     ]
    }
   ],
   "source": [
    "print(model.evaluate(train_X, train_y))"
   ],
   "metadata": {
    "collapsed": false
   }
  },
  {
   "cell_type": "code",
   "execution_count": 34,
   "outputs": [
    {
     "name": "stdout",
     "output_type": "stream",
     "text": [
      "132/132 [==============================] - 1s 5ms/step - loss: 0.0326 - accuracy: 0.9910\n",
      "[0.0325850211083889, 0.9909523725509644]\n"
     ]
    }
   ],
   "source": [
    "print(model.evaluate(test_X, test_y))"
   ],
   "metadata": {
    "collapsed": false
   }
  }
 ],
 "metadata": {
  "kernelspec": {
   "display_name": "Python 3",
   "language": "python",
   "name": "python3"
  },
  "language_info": {
   "codemirror_mode": {
    "name": "ipython",
    "version": 2
   },
   "file_extension": ".py",
   "mimetype": "text/x-python",
   "name": "python",
   "nbconvert_exporter": "python",
   "pygments_lexer": "ipython2",
   "version": "2.7.6"
  }
 },
 "nbformat": 4,
 "nbformat_minor": 0
}
