{
 "cells": [
  {
   "cell_type": "code",
   "execution_count": 685,
   "metadata": {
    "collapsed": true
   },
   "outputs": [],
   "source": [
    "import pandas as pd\n",
    "from sklearn.model_selection import train_test_split\n",
    "from sklearn.preprocessing import normalize\n",
    "import numpy as np\n",
    "import tensorflow as tf\n",
    "from keras.models import Sequential\n",
    "from keras.optimizers import Adam, RMSprop, SGD, Adadelta, Adamax, Adagrad, Nadam, Ftrl\n",
    "from keras.layers import Dense, Input\n",
    "import kerastuner as kt"
   ]
  },
  {
   "cell_type": "code",
   "execution_count": 686,
   "outputs": [
    {
     "data": {
      "text/plain": "   Age Sex ChestPainType  RestingBP  Cholesterol  FastingBS RestingECG  MaxHR  \\\n0   40   M           ATA        140          289          0     Normal    172   \n1   49   F           NAP        160          180          0     Normal    156   \n2   37   M           ATA        130          283          0         ST     98   \n3   48   F           ASY        138          214          0     Normal    108   \n4   54   M           NAP        150          195          0     Normal    122   \n\n  ExerciseAngina  Oldpeak ST_Slope  HeartDisease  \n0              N      0.0       Up             0  \n1              N      1.0     Flat             1  \n2              N      0.0       Up             0  \n3              Y      1.5     Flat             1  \n4              N      0.0       Up             0  ",
      "text/html": "<div>\n<style scoped>\n    .dataframe tbody tr th:only-of-type {\n        vertical-align: middle;\n    }\n\n    .dataframe tbody tr th {\n        vertical-align: top;\n    }\n\n    .dataframe thead th {\n        text-align: right;\n    }\n</style>\n<table border=\"1\" class=\"dataframe\">\n  <thead>\n    <tr style=\"text-align: right;\">\n      <th></th>\n      <th>Age</th>\n      <th>Sex</th>\n      <th>ChestPainType</th>\n      <th>RestingBP</th>\n      <th>Cholesterol</th>\n      <th>FastingBS</th>\n      <th>RestingECG</th>\n      <th>MaxHR</th>\n      <th>ExerciseAngina</th>\n      <th>Oldpeak</th>\n      <th>ST_Slope</th>\n      <th>HeartDisease</th>\n    </tr>\n  </thead>\n  <tbody>\n    <tr>\n      <th>0</th>\n      <td>40</td>\n      <td>M</td>\n      <td>ATA</td>\n      <td>140</td>\n      <td>289</td>\n      <td>0</td>\n      <td>Normal</td>\n      <td>172</td>\n      <td>N</td>\n      <td>0.0</td>\n      <td>Up</td>\n      <td>0</td>\n    </tr>\n    <tr>\n      <th>1</th>\n      <td>49</td>\n      <td>F</td>\n      <td>NAP</td>\n      <td>160</td>\n      <td>180</td>\n      <td>0</td>\n      <td>Normal</td>\n      <td>156</td>\n      <td>N</td>\n      <td>1.0</td>\n      <td>Flat</td>\n      <td>1</td>\n    </tr>\n    <tr>\n      <th>2</th>\n      <td>37</td>\n      <td>M</td>\n      <td>ATA</td>\n      <td>130</td>\n      <td>283</td>\n      <td>0</td>\n      <td>ST</td>\n      <td>98</td>\n      <td>N</td>\n      <td>0.0</td>\n      <td>Up</td>\n      <td>0</td>\n    </tr>\n    <tr>\n      <th>3</th>\n      <td>48</td>\n      <td>F</td>\n      <td>ASY</td>\n      <td>138</td>\n      <td>214</td>\n      <td>0</td>\n      <td>Normal</td>\n      <td>108</td>\n      <td>Y</td>\n      <td>1.5</td>\n      <td>Flat</td>\n      <td>1</td>\n    </tr>\n    <tr>\n      <th>4</th>\n      <td>54</td>\n      <td>M</td>\n      <td>NAP</td>\n      <td>150</td>\n      <td>195</td>\n      <td>0</td>\n      <td>Normal</td>\n      <td>122</td>\n      <td>N</td>\n      <td>0.0</td>\n      <td>Up</td>\n      <td>0</td>\n    </tr>\n  </tbody>\n</table>\n</div>"
     },
     "execution_count": 686,
     "metadata": {},
     "output_type": "execute_result"
    }
   ],
   "source": [
    "dataset = pd.read_csv(r'C:\\Users\\marku\\Desktop\\ML\\MLGit\\heart.csv')\n",
    "dataset.head()"
   ],
   "metadata": {
    "collapsed": false
   }
  },
  {
   "cell_type": "code",
   "execution_count": 687,
   "outputs": [],
   "source": [
    "features = dataset.drop('HeartDisease',axis=1)\n",
    "targets = dataset['HeartDisease']\n",
    "\n",
    "targets_onehot = pd.get_dummies(targets)\n",
    "features_onehot = pd.get_dummies(features)\n",
    "targets_onehot = targets_onehot.astype('float32')\n",
    "features_onehot = features_onehot.astype('float32')"
   ],
   "metadata": {
    "collapsed": false
   }
  },
  {
   "cell_type": "code",
   "execution_count": 688,
   "outputs": [],
   "source": [
    "features_onehot = normalize(features_onehot)\n",
    "\n",
    "train_features, test_features, train_targets, test_targets = train_test_split(features_onehot, targets_onehot, test_size=0.1, stratify=targets, random_state=42)"
   ],
   "metadata": {
    "collapsed": false
   }
  },
  {
   "cell_type": "code",
   "execution_count": 689,
   "outputs": [],
   "source": [
    "train_features_tensor = tf.convert_to_tensor(train_features)\n",
    "test_features_tensor = tf.convert_to_tensor(test_features)\n",
    "train_targets_tensor = tf.convert_to_tensor(train_targets)\n",
    "test_targets_tensor = tf.convert_to_tensor(test_targets)"
   ],
   "metadata": {
    "collapsed": false
   }
  },
  {
   "cell_type": "code",
   "execution_count": 690,
   "outputs": [],
   "source": [
    "model = Sequential()\n",
    "\n",
    "model.add(Input(20))\n",
    "model.add(Dense(40, activation='relu'))\n",
    "model.add(Dense(50, activation='relu'))\n",
    "model.add(Dense(40, activation='relu'))\n",
    "model.add(Dense(20, activation='relu'))\n",
    "model.add(Dense(2, activation='sigmoid'))"
   ],
   "metadata": {
    "collapsed": false
   }
  },
  {
   "cell_type": "code",
   "execution_count": 691,
   "outputs": [],
   "source": [
    "opt1 = Adam()\n",
    "opt2 = RMSprop()\n",
    "opt3 = SGD()\n",
    "opt4 = Adadelta()\n",
    "opt5 = Adamax()\n",
    "opt6 = Adagrad()\n",
    "opt7 = Nadam()\n",
    "opt8 = Ftrl()\n",
    "model.compile(optimizer=opt2, loss='binary_crossentropy', metrics=['accuracy'])"
   ],
   "metadata": {
    "collapsed": false
   }
  },
  {
   "cell_type": "code",
   "execution_count": 692,
   "outputs": [
    {
     "name": "stdout",
     "output_type": "stream",
     "text": [
      "Epoch 1/500\n",
      "83/83 [==============================] - 1s 1ms/step - loss: 0.6717 - accuracy: 0.5666\n",
      "Epoch 2/500\n",
      "83/83 [==============================] - 0s 1ms/step - loss: 0.6302 - accuracy: 0.6356\n",
      "Epoch 3/500\n",
      "83/83 [==============================] - 0s 1ms/step - loss: 0.6011 - accuracy: 0.6864\n",
      "Epoch 4/500\n",
      "83/83 [==============================] - 0s 1ms/step - loss: 0.5831 - accuracy: 0.7215\n",
      "Epoch 5/500\n",
      "83/83 [==============================] - 0s 1ms/step - loss: 0.5643 - accuracy: 0.7228\n",
      "Epoch 6/500\n",
      "83/83 [==============================] - 0s 1ms/step - loss: 0.5516 - accuracy: 0.7373\n",
      "Epoch 7/500\n",
      "83/83 [==============================] - 0s 1ms/step - loss: 0.5399 - accuracy: 0.7494\n",
      "Epoch 8/500\n",
      "83/83 [==============================] - 0s 1ms/step - loss: 0.5293 - accuracy: 0.7542\n",
      "Epoch 9/500\n",
      "83/83 [==============================] - 0s 1ms/step - loss: 0.5204 - accuracy: 0.7603\n",
      "Epoch 10/500\n",
      "83/83 [==============================] - 0s 1ms/step - loss: 0.5106 - accuracy: 0.7639\n",
      "Epoch 11/500\n",
      "83/83 [==============================] - 0s 1ms/step - loss: 0.5066 - accuracy: 0.7736\n",
      "Epoch 12/500\n",
      "83/83 [==============================] - 0s 1ms/step - loss: 0.5016 - accuracy: 0.7772\n",
      "Epoch 13/500\n",
      "83/83 [==============================] - 0s 1ms/step - loss: 0.4876 - accuracy: 0.7821\n",
      "Epoch 14/500\n",
      "83/83 [==============================] - 0s 1ms/step - loss: 0.4778 - accuracy: 0.7785\n",
      "Epoch 15/500\n",
      "83/83 [==============================] - 0s 1ms/step - loss: 0.4798 - accuracy: 0.7906\n",
      "Epoch 16/500\n",
      "83/83 [==============================] - 0s 1ms/step - loss: 0.4715 - accuracy: 0.7881\n",
      "Epoch 17/500\n",
      "83/83 [==============================] - 0s 1ms/step - loss: 0.4516 - accuracy: 0.8039\n",
      "Epoch 18/500\n",
      "83/83 [==============================] - 0s 1ms/step - loss: 0.4465 - accuracy: 0.8063\n",
      "Epoch 19/500\n",
      "83/83 [==============================] - 0s 1ms/step - loss: 0.4419 - accuracy: 0.7893\n",
      "Epoch 20/500\n",
      "83/83 [==============================] - 0s 1ms/step - loss: 0.4358 - accuracy: 0.8075\n",
      "Epoch 21/500\n",
      "83/83 [==============================] - 0s 1ms/step - loss: 0.4228 - accuracy: 0.8160\n",
      "Epoch 22/500\n",
      "83/83 [==============================] - 0s 1ms/step - loss: 0.4163 - accuracy: 0.8160\n",
      "Epoch 23/500\n",
      "83/83 [==============================] - 0s 1ms/step - loss: 0.4092 - accuracy: 0.8196\n",
      "Epoch 24/500\n",
      "83/83 [==============================] - 0s 1ms/step - loss: 0.3905 - accuracy: 0.8305\n",
      "Epoch 25/500\n",
      "83/83 [==============================] - 0s 2ms/step - loss: 0.3917 - accuracy: 0.8378\n",
      "Epoch 26/500\n",
      "83/83 [==============================] - 0s 1ms/step - loss: 0.3931 - accuracy: 0.8172\n",
      "Epoch 27/500\n",
      "83/83 [==============================] - 0s 1ms/step - loss: 0.3767 - accuracy: 0.8402\n",
      "Epoch 28/500\n",
      "83/83 [==============================] - 0s 1ms/step - loss: 0.3778 - accuracy: 0.8402\n",
      "Epoch 29/500\n",
      "83/83 [==============================] - 0s 1ms/step - loss: 0.3681 - accuracy: 0.8414\n",
      "Epoch 30/500\n",
      "83/83 [==============================] - 0s 1ms/step - loss: 0.3784 - accuracy: 0.8438\n",
      "Epoch 31/500\n",
      "83/83 [==============================] - 0s 1ms/step - loss: 0.3648 - accuracy: 0.8475\n",
      "Epoch 32/500\n",
      "83/83 [==============================] - 0s 1ms/step - loss: 0.3582 - accuracy: 0.8487\n",
      "Epoch 33/500\n",
      "83/83 [==============================] - 0s 1ms/step - loss: 0.3706 - accuracy: 0.8487\n",
      "Epoch 34/500\n",
      "83/83 [==============================] - 0s 1ms/step - loss: 0.3662 - accuracy: 0.8402\n",
      "Epoch 35/500\n",
      "83/83 [==============================] - 0s 1ms/step - loss: 0.3557 - accuracy: 0.8523\n",
      "Epoch 36/500\n",
      "83/83 [==============================] - 0s 1ms/step - loss: 0.3664 - accuracy: 0.8547\n",
      "Epoch 37/500\n",
      "83/83 [==============================] - 0s 1ms/step - loss: 0.3595 - accuracy: 0.8499\n",
      "Epoch 38/500\n",
      "83/83 [==============================] - 0s 1ms/step - loss: 0.3603 - accuracy: 0.8511\n",
      "Epoch 39/500\n",
      "83/83 [==============================] - 0s 1ms/step - loss: 0.3550 - accuracy: 0.8596\n",
      "Epoch 40/500\n",
      "83/83 [==============================] - 0s 1ms/step - loss: 0.3538 - accuracy: 0.8571\n",
      "Epoch 41/500\n",
      "83/83 [==============================] - 0s 1ms/step - loss: 0.3565 - accuracy: 0.8475\n",
      "Epoch 42/500\n",
      "83/83 [==============================] - 0s 1ms/step - loss: 0.3483 - accuracy: 0.8559\n",
      "Epoch 43/500\n",
      "83/83 [==============================] - 0s 1ms/step - loss: 0.3550 - accuracy: 0.8584\n",
      "Epoch 44/500\n",
      "83/83 [==============================] - 0s 1ms/step - loss: 0.3519 - accuracy: 0.8499\n",
      "Epoch 45/500\n",
      "83/83 [==============================] - 0s 1ms/step - loss: 0.3467 - accuracy: 0.8547\n",
      "Epoch 46/500\n",
      "83/83 [==============================] - 0s 1ms/step - loss: 0.3548 - accuracy: 0.8559\n",
      "Epoch 47/500\n",
      "83/83 [==============================] - 0s 1ms/step - loss: 0.3580 - accuracy: 0.8487\n",
      "Epoch 48/500\n",
      "83/83 [==============================] - 0s 1ms/step - loss: 0.3413 - accuracy: 0.8692\n",
      "Epoch 49/500\n",
      "83/83 [==============================] - 0s 1ms/step - loss: 0.3488 - accuracy: 0.8571\n",
      "Epoch 50/500\n",
      "83/83 [==============================] - 0s 1ms/step - loss: 0.3534 - accuracy: 0.8608\n",
      "Epoch 51/500\n",
      "83/83 [==============================] - 0s 1ms/step - loss: 0.3517 - accuracy: 0.8608\n",
      "Epoch 52/500\n",
      "83/83 [==============================] - 0s 1ms/step - loss: 0.3405 - accuracy: 0.8487\n",
      "Epoch 53/500\n",
      "83/83 [==============================] - 0s 2ms/step - loss: 0.3510 - accuracy: 0.8571\n",
      "Epoch 54/500\n",
      "83/83 [==============================] - 0s 1ms/step - loss: 0.3446 - accuracy: 0.8620\n",
      "Epoch 55/500\n",
      "83/83 [==============================] - 0s 1ms/step - loss: 0.3417 - accuracy: 0.8596\n",
      "Epoch 56/500\n",
      "83/83 [==============================] - 0s 1ms/step - loss: 0.3525 - accuracy: 0.8523\n",
      "Epoch 57/500\n",
      "83/83 [==============================] - 0s 1ms/step - loss: 0.3423 - accuracy: 0.8620\n",
      "Epoch 58/500\n",
      "83/83 [==============================] - 0s 1ms/step - loss: 0.3443 - accuracy: 0.8535\n",
      "Epoch 59/500\n",
      "83/83 [==============================] - 0s 2ms/step - loss: 0.3577 - accuracy: 0.8644\n",
      "Epoch 60/500\n",
      "83/83 [==============================] - 0s 1ms/step - loss: 0.3465 - accuracy: 0.8692\n",
      "Epoch 61/500\n",
      "83/83 [==============================] - 0s 1ms/step - loss: 0.3451 - accuracy: 0.8608\n",
      "Epoch 62/500\n",
      "83/83 [==============================] - 0s 1ms/step - loss: 0.3393 - accuracy: 0.8620\n",
      "Epoch 63/500\n",
      "83/83 [==============================] - 0s 1ms/step - loss: 0.3467 - accuracy: 0.8487\n",
      "Epoch 64/500\n",
      "83/83 [==============================] - 0s 1ms/step - loss: 0.3321 - accuracy: 0.8668\n",
      "Epoch 65/500\n",
      "83/83 [==============================] - 0s 1ms/step - loss: 0.3385 - accuracy: 0.8644\n",
      "Epoch 66/500\n",
      "83/83 [==============================] - 0s 1ms/step - loss: 0.3410 - accuracy: 0.8475\n",
      "Epoch 67/500\n",
      "83/83 [==============================] - 0s 1ms/step - loss: 0.3421 - accuracy: 0.8596\n",
      "Epoch 68/500\n",
      "83/83 [==============================] - 0s 1ms/step - loss: 0.3426 - accuracy: 0.8547\n",
      "Epoch 69/500\n",
      "83/83 [==============================] - 0s 1ms/step - loss: 0.3404 - accuracy: 0.8535\n",
      "Epoch 70/500\n",
      "83/83 [==============================] - 0s 1ms/step - loss: 0.3356 - accuracy: 0.8559\n",
      "Epoch 71/500\n",
      "83/83 [==============================] - 0s 1ms/step - loss: 0.3396 - accuracy: 0.8511\n",
      "Epoch 72/500\n",
      "83/83 [==============================] - 0s 1ms/step - loss: 0.3420 - accuracy: 0.8547\n",
      "Epoch 73/500\n",
      "83/83 [==============================] - 0s 1ms/step - loss: 0.3361 - accuracy: 0.8608\n",
      "Epoch 74/500\n",
      "83/83 [==============================] - 0s 1ms/step - loss: 0.3393 - accuracy: 0.8644\n",
      "Epoch 75/500\n",
      "83/83 [==============================] - 0s 1ms/step - loss: 0.3423 - accuracy: 0.8571\n",
      "Epoch 76/500\n",
      "83/83 [==============================] - 0s 1ms/step - loss: 0.3344 - accuracy: 0.8668\n",
      "Epoch 77/500\n",
      "83/83 [==============================] - 0s 1ms/step - loss: 0.3419 - accuracy: 0.8608\n",
      "Epoch 78/500\n",
      "83/83 [==============================] - 0s 2ms/step - loss: 0.3374 - accuracy: 0.8680\n",
      "Epoch 79/500\n",
      "83/83 [==============================] - 0s 1ms/step - loss: 0.3357 - accuracy: 0.8656\n",
      "Epoch 80/500\n",
      "83/83 [==============================] - 0s 1ms/step - loss: 0.3398 - accuracy: 0.8571\n",
      "Epoch 81/500\n",
      "83/83 [==============================] - 0s 1ms/step - loss: 0.3351 - accuracy: 0.8668\n",
      "Epoch 82/500\n",
      "83/83 [==============================] - 0s 1ms/step - loss: 0.3330 - accuracy: 0.8692\n",
      "Epoch 83/500\n",
      "83/83 [==============================] - 0s 1ms/step - loss: 0.3426 - accuracy: 0.8620\n"
     ]
    },
    {
     "data": {
      "text/plain": "<keras.callbacks.History at 0x224cab49a30>"
     },
     "execution_count": 692,
     "metadata": {},
     "output_type": "execute_result"
    }
   ],
   "source": [
    "callback = tf.keras.callbacks.EarlyStopping(monitor='accuracy', patience=25, mode='auto')\n",
    "model.fit(train_features_tensor, train_targets_tensor, epochs=500, batch_size=10, callbacks=[callback])"
   ],
   "metadata": {
    "collapsed": false
   }
  },
  {
   "cell_type": "code",
   "execution_count": 693,
   "outputs": [
    {
     "name": "stdout",
     "output_type": "stream",
     "text": [
      "3/3 [==============================] - 0s 1000us/step - loss: 0.3202 - accuracy: 0.8696\n"
     ]
    },
    {
     "data": {
      "text/plain": "[0.32021981477737427, 0.8695651888847351]"
     },
     "execution_count": 693,
     "metadata": {},
     "output_type": "execute_result"
    }
   ],
   "source": [
    "model.evaluate(test_features_tensor, test_targets_tensor)"
   ],
   "metadata": {
    "collapsed": false
   }
  }
 ],
 "metadata": {
  "kernelspec": {
   "display_name": "Python 3",
   "language": "python",
   "name": "python3"
  },
  "language_info": {
   "codemirror_mode": {
    "name": "ipython",
    "version": 2
   },
   "file_extension": ".py",
   "mimetype": "text/x-python",
   "name": "python",
   "nbconvert_exporter": "python",
   "pygments_lexer": "ipython2",
   "version": "2.7.6"
  }
 },
 "nbformat": 4,
 "nbformat_minor": 0
}
